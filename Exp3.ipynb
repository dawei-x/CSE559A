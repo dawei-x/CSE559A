{
  "cells": [
    {
      "cell_type": "code",
      "source": [
        "import numpy as np\n",
        "import torch\n",
        "import torch.nn as nn\n",
        "import torch.optim as optim\n",
        "import torchvision\n",
        "import torchvision.transforms as transforms\n",
        "import time\n",
        "from tqdm import tqdm\n",
        "from scipy.special import softmax \n",
        "import torch.backends.cudnn as cudnn\n",
        "import random\n",
        "import pickle"
      ],
      "metadata": {
        "id": "kGI8anG1lb28"
      },
      "execution_count": 1,
      "outputs": []
    },
    {
      "cell_type": "code",
      "execution_count": 2,
      "metadata": {
        "colab": {
          "base_uri": "https://localhost:8080/"
        },
        "id": "nLhcKJt-TYRv",
        "outputId": "39f89e0d-fa83-472b-e33b-7e5ec4f2f795"
      },
      "outputs": [
        {
          "output_type": "stream",
          "name": "stdout",
          "text": [
            "Mounted at /content/drive\n",
            "Copying to local runtime...\n",
            "Uncompressing...\n",
            "Data ready!\n",
            "File imported\n"
          ]
        }
      ],
      "source": [
        "import os\n",
        "import shutil\n",
        "from google.colab import drive\n",
        "drive.mount('/content/drive')\n",
        "checkpoints = '/content/drive/My Drive/Colab Notebooks/cse559a/'\n",
        "if not os.path.exists(checkpoints):\n",
        "  os.makedirs(checkpoints)\n",
        "  \n",
        "if not os.path.exists('imagenet_val'):\n",
        "  if not os.path.exists(checkpoints + 'imagenet_val.tar'):\n",
        "    print(\"Downloading archive...\")\n",
        "    os.chdir(checkpoints)\n",
        "    !wget -nv -O imagenet_val.tar -L https://image-net.org/data/ILSVRC/2012/ILSVRC2012_img_val.tar\n",
        "    os.chdir('/content/')\n",
        "  print(\"Copying to local runtime...\")\n",
        "  shutil.copy(checkpoints + 'imagenet_val.tar', './imagenet_val.tar')\n",
        "  print(\"Uncompressing...\")\n",
        "  !mkdir imagenet_val\n",
        "  !tar -xf imagenet_val.tar -C ./imagenet_val/\n",
        "  !rm imagenet_val.tar\n",
        "  os.chdir('./imagenet_val') \n",
        "  !wget -qO- https://raw.githubusercontent.com/soumith/imagenetloader.torch/master/valprep.sh | bash\n",
        "  os.chdir('/content/')\n",
        "print(\"Data ready!\")\n",
        "\n",
        "if not os.path.exists('exp_v0.py'):\n",
        "  shutil.copy(checkpoints + 'exp_v0.py', './exp_v0.py')\n",
        "  print(\"File imported\")\n",
        "from exp_v0 import *"
      ]
    },
    {
      "cell_type": "code",
      "source": [
        "import numpy as np\n",
        "import pandas as pd\n",
        "from tqdm import tqdm\n",
        "def sizes_topk(modelname, datasetname, datasetpath, alpha, kreg, lamda, randomized, n_data_conf, n_data_val, bsz, predictor):\n",
        "    ### Experiment logic\n",
        "    naive_bool = predictor == 'Naive'\n",
        "    lamda_predictor = lamda\n",
        "    if predictor in ['Naive', 'APS']:\n",
        "        lamda_predictor = 0 # No regularization.\n",
        "\n",
        "    ### Data Loading\n",
        "    logits = get_logits_dataset(modelname, datasetname, datasetpath)\n",
        "    logits_cal, logits_val = split2(logits, n_data_conf, n_data_val) # A new random split for every trial\n",
        "    # Prepare the loaders\n",
        "    loader_cal = torch.utils.data.DataLoader(logits_cal, batch_size = bsz, shuffle=False, pin_memory=True)\n",
        "    loader_val = torch.utils.data.DataLoader(logits_val, batch_size = bsz, shuffle=False, pin_memory=True)\n",
        "\n",
        "    ### Instantiate and wrap model\n",
        "    model = create_model(modelname)\n",
        "    # Conformalize the model\n",
        "    conformal_model = ConformalModelLogits(model, loader_cal, alpha=alpha, kreg=kreg, lamda=lamda_predictor, randomized=randomized, naive=naive_bool)\n",
        "\n",
        "    df = pd.DataFrame(columns=['model','predictor','size','topk','lamda'])\n",
        "    ### Perform experiment\n",
        "    for i, (logit, target) in tqdm(enumerate(loader_val)):\n",
        "        # compute output\n",
        "        output, S = conformal_model(logit) # This is a 'dummy model' which takes logits, for efficiency.\n",
        "        # measure accuracy and record loss\n",
        "        size = np.array([x.size for x in S])\n",
        "        I, _, _ = sort_sum(logit.numpy()) \n",
        "        topk = np.where((I - target.view(-1,1).numpy())==0)[1]+1 \n",
        "        batch_df = pd.DataFrame({'model': modelname, 'predictor': predictor, 'size': size, 'topk': topk, 'lamda': lamda})\n",
        "        df = pd.concat([df, batch_df], ignore_index=True)\n",
        "    return df"
      ],
      "metadata": {
        "id": "pnek3fpDu3Ug"
      },
      "execution_count": 3,
      "outputs": []
    },
    {
      "cell_type": "code",
      "source": [
        "import matplotlib.pyplot as plt\n",
        "import matplotlib.patches as mpatches\n",
        "import seaborn as sns\n",
        "\n",
        "def plot_figure4(df_big):\n",
        "    fig, axs = plt.subplots(nrows=1, ncols=3, figsize=(10,1.8))\n",
        "    lams_unique = df_big.lamda.unique()\n",
        "    lams_unique.sort()\n",
        "    for i in range(len(lams_unique)):\n",
        "        lamda = lams_unique[i]\n",
        "        df = df_big[df_big.lamda == lamda]\n",
        "\n",
        "        d = 1 \n",
        "        left_of_first_bin = - float(d)/2 # Include 0\n",
        "        right_of_last_bin = 100 + float(d)/2\n",
        "        histbins = np.arange(left_of_first_bin, right_of_last_bin + d, d)\n",
        "\n",
        "        for predictor in ['Naive','APS','RAPS']:\n",
        "            to_plot = df['size'][df.predictor==predictor]\n",
        "            sns.distplot(list(to_plot),bins=histbins,hist=True,kde=False,rug=False,norm_hist=True,label=predictor, hist_kws={\"histtype\":\"step\", \"linewidth\": 2, \"alpha\":0.5}, ax=axs[i])\n",
        "\n",
        "        sns.despine(top=True,right=True,ax=axs[i])\n",
        "        axs[i].set_xlabel('size', fontsize=12)\n",
        "        axs[i].legend(title='method', framealpha=0.95)\n",
        "        axs[i].set_yscale('log')\n",
        "        axs[i].set_yticks([0.1,0.01,0.001])\n",
        "        axs[i].set_ylabel('', fontsize=12)\n",
        "        axs[i].set_ylim(top=0.5)\n",
        "\n",
        "        if not lamda == lams_unique.max():\n",
        "            axs[i].get_legend().remove()\n",
        "\n",
        "        axs[i].text(40,0.07, f'λ={lamda}')\n",
        "        plt.tight_layout(rect=[0.03, 0.05, 0.95, 0.93])\n",
        "    axs[0].set_ylabel('frequency', fontsize=12)\n",
        "    plt.savefig(f'/content/figure4.pdf')"
      ],
      "metadata": {
        "id": "KbzupWW8iXon"
      },
      "execution_count": 4,
      "outputs": []
    },
    {
      "cell_type": "code",
      "source": [
        "import itertools\n",
        "seed = 0\n",
        "np.random.seed(seed=seed)\n",
        "torch.manual_seed(seed)\n",
        "torch.cuda.manual_seed(seed)\n",
        "random.seed(seed)\n",
        "\n",
        "### Configure experiment\n",
        "modelnames = ['ResNet152']\n",
        "alphas = [0.1]\n",
        "predictors = ['Naive', 'APS', 'RAPS']\n",
        "lamdas = [0.01, 0.1, 1] \n",
        "params = list(itertools.product(modelnames, alphas, predictors, lamdas))\n",
        "m = len(params)\n",
        "datasetname = 'ImagenetVal'\n",
        "datasetpath = './imagenet_val/'\n",
        "kreg = 5 \n",
        "randomized = True\n",
        "n_data_conf = 20000\n",
        "n_data_val = 20000\n",
        "bsz = 64\n",
        "cudnn.benchmark = True\n",
        "\n",
        "### Perform the experiment\n",
        "df = pd.DataFrame(columns = [\"model\",\"predictor\",\"size\",\"topk\",\"lamda\"])\n",
        "for i in range(m):\n",
        "    modelname, alpha, predictor, lamda = params[i]\n",
        "    print(f'Model: {modelname} | Desired coverage: {1-alpha} | Predictor: {predictor} | Lambda = {lamda}')\n",
        "    out = sizes_topk(modelname, datasetname, datasetpath, alpha, kreg, lamda, randomized, n_data_conf, n_data_val, bsz, predictor)\n",
        "    df = pd.concat([df, out], ignore_index=True)\n",
        "\n",
        "plot_figure4(df)"
      ],
      "metadata": {
        "colab": {
          "base_uri": "https://localhost:8080/",
          "height": 804
        },
        "id": "U_R-7NEgvBcb",
        "outputId": "0b326419-0672-4d12-b194-d09dfc5265d7"
      },
      "execution_count": 5,
      "outputs": [
        {
          "output_type": "stream",
          "name": "stdout",
          "text": [
            "Model: ResNet152 | Desired coverage: 0.9 | Predictor: Naive | Lambda = 0.01\n"
          ]
        },
        {
          "output_type": "stream",
          "name": "stderr",
          "text": [
            "Downloading: \"https://download.pytorch.org/models/resnet152-394f9c45.pth\" to /root/.cache/torch/hub/checkpoints/resnet152-394f9c45.pth\n",
            "100%|██████████| 230M/230M [00:03<00:00, 75.8MB/s]\n"
          ]
        },
        {
          "output_type": "stream",
          "name": "stdout",
          "text": [
            "Computing logits for model (only happens once).\n"
          ]
        },
        {
          "output_type": "stream",
          "name": "stderr",
          "text": [
            "100%|██████████| 1563/1563 [08:32<00:00,  3.05it/s]\n",
            "313it [00:05, 55.43it/s]\n"
          ]
        },
        {
          "output_type": "stream",
          "name": "stdout",
          "text": [
            "Model: ResNet152 | Desired coverage: 0.9 | Predictor: Naive | Lambda = 0.1\n"
          ]
        },
        {
          "output_type": "stream",
          "name": "stderr",
          "text": [
            "313it [00:05, 55.29it/s]\n"
          ]
        },
        {
          "output_type": "stream",
          "name": "stdout",
          "text": [
            "Model: ResNet152 | Desired coverage: 0.9 | Predictor: Naive | Lambda = 1\n"
          ]
        },
        {
          "output_type": "stream",
          "name": "stderr",
          "text": [
            "313it [00:05, 55.39it/s]\n"
          ]
        },
        {
          "output_type": "stream",
          "name": "stdout",
          "text": [
            "Model: ResNet152 | Desired coverage: 0.9 | Predictor: APS | Lambda = 0.01\n"
          ]
        },
        {
          "output_type": "stream",
          "name": "stderr",
          "text": [
            "313it [00:05, 55.30it/s]\n"
          ]
        },
        {
          "output_type": "stream",
          "name": "stdout",
          "text": [
            "Model: ResNet152 | Desired coverage: 0.9 | Predictor: APS | Lambda = 0.1\n"
          ]
        },
        {
          "output_type": "stream",
          "name": "stderr",
          "text": [
            "313it [00:05, 55.78it/s]\n"
          ]
        },
        {
          "output_type": "stream",
          "name": "stdout",
          "text": [
            "Model: ResNet152 | Desired coverage: 0.9 | Predictor: APS | Lambda = 1\n"
          ]
        },
        {
          "output_type": "stream",
          "name": "stderr",
          "text": [
            "313it [00:05, 56.07it/s]\n"
          ]
        },
        {
          "output_type": "stream",
          "name": "stdout",
          "text": [
            "Model: ResNet152 | Desired coverage: 0.9 | Predictor: RAPS | Lambda = 0.01\n"
          ]
        },
        {
          "output_type": "stream",
          "name": "stderr",
          "text": [
            "313it [00:05, 55.75it/s]\n"
          ]
        },
        {
          "output_type": "stream",
          "name": "stdout",
          "text": [
            "Model: ResNet152 | Desired coverage: 0.9 | Predictor: RAPS | Lambda = 0.1\n"
          ]
        },
        {
          "output_type": "stream",
          "name": "stderr",
          "text": [
            "313it [00:05, 55.80it/s]\n"
          ]
        },
        {
          "output_type": "stream",
          "name": "stdout",
          "text": [
            "Model: ResNet152 | Desired coverage: 0.9 | Predictor: RAPS | Lambda = 1\n"
          ]
        },
        {
          "output_type": "stream",
          "name": "stderr",
          "text": [
            "313it [00:05, 56.30it/s]\n",
            "<ipython-input-4-511de176eb98>:20: UserWarning: \n",
            "\n",
            "`distplot` is a deprecated function and will be removed in seaborn v0.14.0.\n",
            "\n",
            "Please adapt your code to use either `displot` (a figure-level function with\n",
            "similar flexibility) or `histplot` (an axes-level function for histograms).\n",
            "\n",
            "For a guide to updating your code to use the new functions, please see\n",
            "https://gist.github.com/mwaskom/de44147ed2974457ad6372750bbe5751\n",
            "\n",
            "  sns.distplot(list(to_plot),bins=histbins,hist=True,kde=False,rug=False,norm_hist=True,label=predictor, hist_kws={\"histtype\":\"step\", \"linewidth\": 2, \"alpha\":0.5}, ax=axs[i])\n"
          ]
        },
        {
          "output_type": "display_data",
          "data": {
            "text/plain": [
              "<Figure size 1000x180 with 3 Axes>"
            ],
            "image/png": "[encoded data removed]"
          },
          "metadata": {}
        }
      ]
    },
    {
      "cell_type": "code",
      "source": [
        " "
      ],
      "metadata": {
        "id": "ZVwdw7Dc9Zqp"
      },
      "execution_count": 5,
      "outputs": []
    }
  ],
  "metadata": {
    "accelerator": "GPU",
    "colab": {
      "machine_shape": "hm",
      "provenance": []
    },
    "gpuClass": "premium",
    "kernelspec": {
      "display_name": "Python 3",
      "name": "python3"
    },
    "language_info": {
      "name": "python"
    }
  },
  "nbformat": 4,
  "nbformat_minor": 0
}