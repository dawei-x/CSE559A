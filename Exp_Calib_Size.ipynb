{
  "nbformat": 4,
  "nbformat_minor": 0,
  "metadata": {
    "colab": {
      "provenance": [],
      "machine_shape": "hm",
      "gpuType": "A100"
    },
    "kernelspec": {
      "name": "python3",
      "display_name": "Python 3"
    },
    "language_info": {
      "name": "python"
    },
    "accelerator": "GPU",
    "gpuClass": "standard"
  },
  "cells": [
    {
      "cell_type": "code",
      "source": [
        "import numpy as np\n",
        "import pandas as pd\n",
        "import torch\n",
        "import torch.nn as nn\n",
        "import torch.optim as optim\n",
        "import torchvision\n",
        "import torchvision.transforms as transforms\n",
        "import time\n",
        "from tqdm import tqdm\n",
        "from scipy.special import softmax\n",
        "import torch.utils.data as tdata\n",
        "import matplotlib.pyplot as plt \n",
        "import torch.backends.cudnn as cudnn\n",
        "import random"
      ],
      "metadata": {
        "id": "IOIQIz5Mzs_O"
      },
      "execution_count": 7,
      "outputs": []
    },
    {
      "cell_type": "code",
      "execution_count": 8,
      "metadata": {
        "colab": {
          "base_uri": "https://localhost:8080/"
        },
        "id": "rVKhOwXfoyi3",
        "outputId": "5ddcbaec-ae75-4d07-ffc9-96550d4febc8"
      },
      "outputs": [
        {
          "output_type": "stream",
          "name": "stdout",
          "text": [
            "Drive already mounted at /content/drive; to attempt to forcibly remount, call drive.mount(\"/content/drive\", force_remount=True).\n",
            "Data ready!\n"
          ]
        }
      ],
      "source": [
        "import os\n",
        "import shutil\n",
        "from google.colab import drive\n",
        "drive.mount('/content/drive')\n",
        "checkpoints = '/content/drive/My Drive/Colab Notebooks/cse559a/'\n",
        "if not os.path.exists(checkpoints):\n",
        "  os.makedirs(checkpoints)\n",
        "  \n",
        "if not os.path.exists('imagenet_val'):\n",
        "  if not os.path.exists(checkpoints + 'imagenet_val.tar'):\n",
        "    print(\"Downloading archive...\")\n",
        "    os.chdir(checkpoints)\n",
        "    !wget -nv -O imagenet_val.tar -L https://image-net.org/data/ILSVRC/2012/ILSVRC2012_img_val.tar\n",
        "    os.chdir('/content/')\n",
        "  print(\"Copying to local runtime...\")\n",
        "  shutil.copy(checkpoints + 'imagenet_val.tar', './imagenet_val.tar')\n",
        "  print(\"Uncompressing...\")\n",
        "  !mkdir imagenet_val\n",
        "  !tar -xf imagenet_val.tar -C ./imagenet_val/\n",
        "  !rm imagenet_val.tar\n",
        "  os.chdir('./imagenet_val') \n",
        "  !wget -qO- https://raw.githubusercontent.com/soumith/imagenetloader.torch/master/valprep.sh | bash\n",
        "  os.chdir('/content/')\n",
        "print(\"Data ready!\")\n",
        "\n",
        "if not os.path.exists('exp_v0.py'):\n",
        "  shutil.copy(checkpoints + 'exp_v0.py', './exp_v0.py')\n",
        "  print(\"File imported\")\n",
        "from exp_v0 import *"
      ]
    },
    {
      "cell_type": "code",
      "source": [
        "class ConformalModel(nn.Module):\n",
        "    def __init__(self, model, calib_loader, alpha, kreg=None, lamda=None, randomized=True, batch_size=32):\n",
        "        super(ConformalModel, self).__init__()\n",
        "        self.model = model \n",
        "        self.alpha = alpha\n",
        "        self.T = torch.Tensor([1.3]) #initialize (1.3 is usually a good value)\n",
        "        self.T, calib_logits = platt(self, calib_loader)\n",
        "        self.randomized=randomized\n",
        "        self.num_classes = len(calib_loader.dataset.dataset.classes)\n",
        "        self.penalties = np.zeros((1, self.num_classes))\n",
        "        self.penalties[:, kreg:] += lamda \n",
        "\n",
        "        calib_loader = tdata.DataLoader(calib_logits, batch_size = batch_size, shuffle=False, pin_memory=True)\n",
        "\n",
        "        self.Qhat = conformal_calibration_logits(self, calib_loader)\n",
        "\n",
        "    def forward(self, *args, randomized=None,  **kwargs):\n",
        "        if randomized == None:\n",
        "            randomized = self.randomized\n",
        "        logits = self.model(*args, **kwargs)\n",
        "        \n",
        "        with torch.no_grad():\n",
        "            logits_numpy = logits.detach().cpu().numpy()\n",
        "            scores = softmax(logits_numpy/self.T.item(), axis=1)\n",
        "\n",
        "            I, ordered, cumsum = sort_sum(scores)\n",
        "\n",
        "            S = gcq(scores, self.Qhat, I=I, ordered=ordered, cumsum=cumsum, penalties=self.penalties, randomized=randomized)\n",
        "\n",
        "        return logits, S\n",
        "\n",
        "\n",
        "# Temperature scaling\n",
        "def platt(cmodel, calib_loader, max_iters=10, lr=0.01, epsilon=0.01):\n",
        "    print(\"Begin Platt scaling.\")\n",
        "    # Save logits so don't need to double compute them\n",
        "    logits_dataset = get_logits_targets(cmodel.model, calib_loader)\n",
        "    logits_loader = torch.utils.data.DataLoader(logits_dataset, batch_size = calib_loader.batch_size, shuffle=False, pin_memory=True)\n",
        "\n",
        "    nll_criterion = nn.CrossEntropyLoss().cuda()\n",
        "\n",
        "    T = nn.Parameter(torch.Tensor([1.3]).cuda())\n",
        "\n",
        "    optimizer = optim.SGD([T], lr=lr)\n",
        "    for iter in range(max_iters):\n",
        "        T_old = T.item()\n",
        "        for x, targets in logits_loader:\n",
        "            optimizer.zero_grad()\n",
        "            x = x.cuda()\n",
        "            x.requires_grad = True\n",
        "            out = x/T\n",
        "            loss = nll_criterion(out, targets.long().cuda())\n",
        "            loss.backward()\n",
        "            optimizer.step()\n",
        "        if abs(T_old - T.item()) < epsilon:\n",
        "            break \n",
        "\n",
        "    print(f\"Optimal T={T.item()}\")\n",
        "    return T, logits_dataset "
      ],
      "metadata": {
        "id": "OAC3Dfa00Gph"
      },
      "execution_count": 9,
      "outputs": []
    },
    {
      "cell_type": "code",
      "source": [
        "transform = transforms.Compose([\n",
        "                transforms.Resize(256),\n",
        "                transforms.CenterCrop(224),\n",
        "                transforms.ToTensor(),\n",
        "                transforms.Normalize(mean=[0.485, 0.456, 0.406],\n",
        "                                      std= [0.229, 0.224, 0.225])\n",
        "            ])\n",
        "\n",
        "modelName = 'ResNet152'\n",
        "cudnn.benchmark = True\n",
        "batch_size = 128\n",
        "KREG_VAL = 5\n",
        "LAMBDA_VAL = 0.01\n",
        "NUM_TRIALS = 10\n",
        "\n",
        "df_res = pd.DataFrame(columns=['calib_size','top1_coverage','top5_coverage','raps_coverage', 'raps_size'])\n",
        "\n",
        "for i in range(NUM_TRIALS):\n",
        "  for calib_size in [500, 2000, 5000, 10000, 20000]:\n",
        "    cal_data, val_data, _ = torch.utils.data.random_split(torchvision.datasets.ImageFolder('./imagenet_val/', transform), [calib_size, 20000, 30000-calib_size])\n",
        "    calib_loader = torch.utils.data.DataLoader(cal_data, batch_size=batch_size, shuffle=True, pin_memory=True)\n",
        "    val_loader = torch.utils.data.DataLoader(val_data, batch_size=batch_size, shuffle=True, pin_memory=True)\n",
        "    model = create_model(modelName)\n",
        "    print(f\"Size of the calibration dataset: {calib_size}\")\n",
        "    cmodel = ConformalModel(model, calib_loader, alpha=0.1, kreg=KREG_VAL, lamda=LAMBDA_VAL)\n",
        "    top1_coverage, top5_coverage, raps_coverage, raps_size = validate(val_loader, cmodel, print_bool=True)\n",
        "    temp_res = {'calib_size': calib_size,'top1_coverage': top1_coverage,'top5_coverage': top5_coverage,'raps_coverage': raps_coverage, 'raps_size': raps_size}\n",
        "    df_res = df_res.append(temp_res, ignore_index = True)"
      ],
      "metadata": {
        "colab": {
          "base_uri": "https://localhost:8080/"
        },
        "id": "m1G1UwGRrUYw",
        "outputId": "82d5d2d2-66a3-461c-f9db-8383feac1e2b"
      },
      "execution_count": 10,
      "outputs": [
        {
          "metadata": {
            "tags": null
          },
          "name": "stdout",
          "output_type": "stream",
          "text": [
            "Size of the calibration dataset: 500\n",
            "Begin Platt scaling.\n",
            "Computing logits for model (only happens once).\n"
          ]
        },
        {
          "metadata": {
            "tags": null
          },
          "name": "stderr",
          "output_type": "stream",
          "text": [
            "100%|██████████| 4/4 [00:05<00:00,  1.27s/it]\n"
          ]
        },
        {
          "metadata": {
            "tags": null
          },
          "name": "stdout",
          "output_type": "stream",
          "text": [
            "Optimal T=1.296091079711914\n",
            "N: 20000 | Time: 0.346 (1.270) | Cvg@1: 0.750 (0.783) | Cvg@5: 1.000 (0.941) | Cvg@RAPS: 0.812 (0.886) | Size@RAPS: 3.625 (4.105)\n"
          ]
        },
        {
          "metadata": {
            "tags": null
          },
          "name": "stderr",
          "output_type": "stream",
          "text": [
            "<ipython-input-10-524952173a65>:28: FutureWarning: The frame.append method is deprecated and will be removed from pandas in a future version. Use pandas.concat instead.\n",
            "  df_res = df_res.append(temp_res, ignore_index = True)\n"
          ]
        },
        {
          "metadata": {
            "tags": null
          },
          "name": "stdout",
          "output_type": "stream",
          "text": [
            "Size of the calibration dataset: 2000\n",
            "Begin Platt scaling.\n",
            "Computing logits for model (only happens once).\n"
          ]
        },
        {
          "metadata": {
            "tags": null
          },
          "name": "stderr",
          "output_type": "stream",
          "text": [
            "100%|██████████| 16/16 [00:20<00:00,  1.27s/it]\n"
          ]
        },
        {
          "metadata": {
            "tags": null
          },
          "name": "stdout",
          "output_type": "stream",
          "text": [
            "Optimal T=1.2335331439971924\n",
            "N: 20000 | Time: 0.308 (1.277) | Cvg@1: 0.688 (0.784) | Cvg@5: 0.938 (0.943) | Cvg@RAPS: 0.844 (0.892) | Size@RAPS: 3.625 (3.705)\n"
          ]
        },
        {
          "metadata": {
            "tags": null
          },
          "name": "stderr",
          "output_type": "stream",
          "text": [
            "<ipython-input-10-524952173a65>:28: FutureWarning: The frame.append method is deprecated and will be removed from pandas in a future version. Use pandas.concat instead.\n",
            "  df_res = df_res.append(temp_res, ignore_index = True)\n"
          ]
        },
        {
          "metadata": {
            "tags": null
          },
          "name": "stdout",
          "output_type": "stream",
          "text": [
            "Size of the calibration dataset: 5000\n",
            "Begin Platt scaling.\n",
            "Computing logits for model (only happens once).\n"
          ]
        },
        {
          "metadata": {
            "tags": null
          },
          "name": "stderr",
          "output_type": "stream",
          "text": [
            "100%|██████████| 40/40 [00:50<00:00,  1.26s/it]\n"
          ]
        },
        {
          "metadata": {
            "tags": null
          },
          "name": "stdout",
          "output_type": "stream",
          "text": [
            "Optimal T=1.2526161670684814\n",
            "N: 20000 | Time: 0.306 (1.283) | Cvg@1: 0.875 (0.782) | Cvg@5: 0.906 (0.941) | Cvg@RAPS: 0.938 (0.913) | Size@RAPS: 3.844 (4.337)\n"
          ]
        },
        {
          "metadata": {
            "tags": null
          },
          "name": "stderr",
          "output_type": "stream",
          "text": [
            "<ipython-input-10-524952173a65>:28: FutureWarning: The frame.append method is deprecated and will be removed from pandas in a future version. Use pandas.concat instead.\n",
            "  df_res = df_res.append(temp_res, ignore_index = True)\n"
          ]
        },
        {
          "metadata": {
            "tags": null
          },
          "name": "stdout",
          "output_type": "stream",
          "text": [
            "Size of the calibration dataset: 10000\n",
            "Begin Platt scaling.\n",
            "Computing logits for model (only happens once).\n"
          ]
        },
        {
          "metadata": {
            "tags": null
          },
          "name": "stderr",
          "output_type": "stream",
          "text": [
            "100%|██████████| 79/79 [01:40<00:00,  1.27s/it]\n"
          ]
        },
        {
          "metadata": {
            "tags": null
          },
          "name": "stdout",
          "output_type": "stream",
          "text": [
            "Optimal T=1.2308167219161987\n",
            "N: 20000 | Time: 0.323 (1.290) | Cvg@1: 0.906 (0.785) | Cvg@5: 1.000 (0.940) | Cvg@RAPS: 0.938 (0.904) | Size@RAPS: 2.281 (4.039)\n"
          ]
        },
        {
          "metadata": {
            "tags": null
          },
          "name": "stderr",
          "output_type": "stream",
          "text": [
            "<ipython-input-10-524952173a65>:28: FutureWarning: The frame.append method is deprecated and will be removed from pandas in a future version. Use pandas.concat instead.\n",
            "  df_res = df_res.append(temp_res, ignore_index = True)\n"
          ]
        },
        {
          "metadata": {
            "tags": null
          },
          "name": "stdout",
          "output_type": "stream",
          "text": [
            "Size of the calibration dataset: 20000\n",
            "Begin Platt scaling.\n",
            "Computing logits for model (only happens once).\n"
          ]
        },
        {
          "metadata": {
            "tags": null
          },
          "name": "stderr",
          "output_type": "stream",
          "text": [
            "100%|██████████| 157/157 [03:18<00:00,  1.27s/it]\n"
          ]
        },
        {
          "metadata": {
            "tags": null
          },
          "name": "stdout",
          "output_type": "stream",
          "text": [
            "Optimal T=1.2087279558181763\n",
            "N: 20000 | Time: 0.305 (1.274) | Cvg@1: 0.688 (0.779) | Cvg@5: 0.938 (0.940) | Cvg@RAPS: 0.906 (0.898) | Size@RAPS: 4.375 (3.853)\n"
          ]
        },
        {
          "metadata": {
            "tags": null
          },
          "name": "stderr",
          "output_type": "stream",
          "text": [
            "<ipython-input-10-524952173a65>:28: FutureWarning: The frame.append method is deprecated and will be removed from pandas in a future version. Use pandas.concat instead.\n",
            "  df_res = df_res.append(temp_res, ignore_index = True)\n"
          ]
        },
        {
          "metadata": {
            "tags": null
          },
          "name": "stdout",
          "output_type": "stream",
          "text": [
            "Size of the calibration dataset: 500\n",
            "Begin Platt scaling.\n",
            "Computing logits for model (only happens once).\n"
          ]
        },
        {
          "metadata": {
            "tags": null
          },
          "name": "stderr",
          "output_type": "stream",
          "text": [
            "100%|██████████| 4/4 [00:05<00:00,  1.28s/it]\n"
          ]
        },
        {
          "metadata": {
            "tags": null
          },
          "name": "stdout",
          "output_type": "stream",
          "text": [
            "Optimal T=1.2993371486663818\n",
            "N: 20000 | Time: 0.511 (1.287) | Cvg@1: 0.719 (0.785) | Cvg@5: 0.938 (0.942) | Cvg@RAPS: 0.906 (0.929) | Size@RAPS: 4.281 (5.025)\n"
          ]
        },
        {
          "metadata": {
            "tags": null
          },
          "name": "stderr",
          "output_type": "stream",
          "text": [
            "<ipython-input-10-524952173a65>:28: FutureWarning: The frame.append method is deprecated and will be removed from pandas in a future version. Use pandas.concat instead.\n",
            "  df_res = df_res.append(temp_res, ignore_index = True)\n"
          ]
        },
        {
          "metadata": {
            "tags": null
          },
          "name": "stdout",
          "output_type": "stream",
          "text": [
            "Size of the calibration dataset: 2000\n",
            "Begin Platt scaling.\n",
            "Computing logits for model (only happens once).\n"
          ]
        },
        {
          "metadata": {
            "tags": null
          },
          "name": "stderr",
          "output_type": "stream",
          "text": [
            "100%|██████████| 16/16 [00:19<00:00,  1.24s/it]\n"
          ]
        },
        {
          "metadata": {
            "tags": null
          },
          "name": "stdout",
          "output_type": "stream",
          "text": [
            "Optimal T=1.2553291320800781\n",
            "N: 20000 | Time: 0.428 (1.284) | Cvg@1: 0.719 (0.780) | Cvg@5: 1.000 (0.940) | Cvg@RAPS: 0.938 (0.893) | Size@RAPS: 5.031 (4.053)\n"
          ]
        },
        {
          "metadata": {
            "tags": null
          },
          "name": "stderr",
          "output_type": "stream",
          "text": [
            "<ipython-input-10-524952173a65>:28: FutureWarning: The frame.append method is deprecated and will be removed from pandas in a future version. Use pandas.concat instead.\n",
            "  df_res = df_res.append(temp_res, ignore_index = True)\n"
          ]
        },
        {
          "metadata": {
            "tags": null
          },
          "name": "stdout",
          "output_type": "stream",
          "text": [
            "Size of the calibration dataset: 5000\n",
            "Begin Platt scaling.\n",
            "Computing logits for model (only happens once).\n"
          ]
        },
        {
          "metadata": {
            "tags": null
          },
          "name": "stderr",
          "output_type": "stream",
          "text": [
            "100%|██████████| 40/40 [00:49<00:00,  1.23s/it]\n"
          ]
        },
        {
          "metadata": {
            "tags": null
          },
          "name": "stdout",
          "output_type": "stream",
          "text": [
            "Optimal T=1.2265888452529907\n",
            "N: 20000 | Time: 0.344 (1.278) | Cvg@1: 0.688 (0.779) | Cvg@5: 0.938 (0.940) | Cvg@RAPS: 0.875 (0.897) | Size@RAPS: 5.656 (3.948)\n"
          ]
        },
        {
          "metadata": {
            "tags": null
          },
          "name": "stderr",
          "output_type": "stream",
          "text": [
            "<ipython-input-10-524952173a65>:28: FutureWarning: The frame.append method is deprecated and will be removed from pandas in a future version. Use pandas.concat instead.\n",
            "  df_res = df_res.append(temp_res, ignore_index = True)\n"
          ]
        },
        {
          "metadata": {
            "tags": null
          },
          "name": "stdout",
          "output_type": "stream",
          "text": [
            "Size of the calibration dataset: 10000\n",
            "Begin Platt scaling.\n",
            "Computing logits for model (only happens once).\n"
          ]
        },
        {
          "metadata": {
            "tags": null
          },
          "name": "stderr",
          "output_type": "stream",
          "text": [
            "100%|██████████| 79/79 [01:38<00:00,  1.25s/it]\n"
          ]
        },
        {
          "metadata": {
            "tags": null
          },
          "name": "stdout",
          "output_type": "stream",
          "text": [
            "Optimal T=1.1917288303375244\n",
            "N: 20000 | Time: 0.318 (1.277) | Cvg@1: 0.688 (0.783) | Cvg@5: 0.938 (0.939) | Cvg@RAPS: 0.812 (0.892) | Size@RAPS: 3.344 (3.661)\n"
          ]
        },
        {
          "metadata": {
            "tags": null
          },
          "name": "stderr",
          "output_type": "stream",
          "text": [
            "<ipython-input-10-524952173a65>:28: FutureWarning: The frame.append method is deprecated and will be removed from pandas in a future version. Use pandas.concat instead.\n",
            "  df_res = df_res.append(temp_res, ignore_index = True)\n"
          ]
        },
        {
          "metadata": {
            "tags": null
          },
          "name": "stdout",
          "output_type": "stream",
          "text": [
            "Size of the calibration dataset: 20000\n",
            "Begin Platt scaling.\n",
            "Computing logits for model (only happens once).\n"
          ]
        },
        {
          "metadata": {
            "tags": null
          },
          "name": "stderr",
          "output_type": "stream",
          "text": [
            "100%|██████████| 157/157 [03:18<00:00,  1.26s/it]\n"
          ]
        },
        {
          "metadata": {
            "tags": null
          },
          "name": "stdout",
          "output_type": "stream",
          "text": [
            "Optimal T=1.2162615060806274\n",
            "N: 20000 | Time: 0.291 (1.271) | Cvg@1: 0.688 (0.785) | Cvg@5: 0.906 (0.941) | Cvg@RAPS: 0.906 (0.901) | Size@RAPS: 4.281 (3.865)\n"
          ]
        },
        {
          "metadata": {
            "tags": null
          },
          "name": "stderr",
          "output_type": "stream",
          "text": [
            "<ipython-input-10-524952173a65>:28: FutureWarning: The frame.append method is deprecated and will be removed from pandas in a future version. Use pandas.concat instead.\n",
            "  df_res = df_res.append(temp_res, ignore_index = True)\n"
          ]
        },
        {
          "metadata": {
            "tags": null
          },
          "name": "stdout",
          "output_type": "stream",
          "text": [
            "Size of the calibration dataset: 500\n",
            "Begin Platt scaling.\n",
            "Computing logits for model (only happens once).\n"
          ]
        },
        {
          "metadata": {
            "tags": null
          },
          "name": "stderr",
          "output_type": "stream",
          "text": [
            "100%|██████████| 4/4 [00:04<00:00,  1.20s/it]\n"
          ]
        },
        {
          "metadata": {
            "tags": null
          },
          "name": "stdout",
          "output_type": "stream",
          "text": [
            "Optimal T=1.2941702604293823\n",
            "N: 20000 | Time: 0.320 (1.285) | Cvg@1: 0.812 (0.778) | Cvg@5: 0.938 (0.940) | Cvg@RAPS: 0.875 (0.882) | Size@RAPS: 4.188 (3.965)\n"
          ]
        },
        {
          "metadata": {
            "tags": null
          },
          "name": "stderr",
          "output_type": "stream",
          "text": [
            "<ipython-input-10-524952173a65>:28: FutureWarning: The frame.append method is deprecated and will be removed from pandas in a future version. Use pandas.concat instead.\n",
            "  df_res = df_res.append(temp_res, ignore_index = True)\n"
          ]
        },
        {
          "metadata": {
            "tags": null
          },
          "name": "stdout",
          "output_type": "stream",
          "text": [
            "Size of the calibration dataset: 2000\n",
            "Begin Platt scaling.\n",
            "Computing logits for model (only happens once).\n"
          ]
        },
        {
          "metadata": {
            "tags": null
          },
          "name": "stderr",
          "output_type": "stream",
          "text": [
            "100%|██████████| 16/16 [00:20<00:00,  1.26s/it]\n"
          ]
        },
        {
          "metadata": {
            "tags": null
          },
          "name": "stdout",
          "output_type": "stream",
          "text": [
            "Optimal T=1.2919514179229736\n",
            "N: 20000 | Time: 0.300 (1.274) | Cvg@1: 0.719 (0.784) | Cvg@5: 0.938 (0.939) | Cvg@RAPS: 0.906 (0.910) | Size@RAPS: 5.062 (4.500)\n"
          ]
        },
        {
          "metadata": {
            "tags": null
          },
          "name": "stderr",
          "output_type": "stream",
          "text": [
            "<ipython-input-10-524952173a65>:28: FutureWarning: The frame.append method is deprecated and will be removed from pandas in a future version. Use pandas.concat instead.\n",
            "  df_res = df_res.append(temp_res, ignore_index = True)\n"
          ]
        },
        {
          "metadata": {
            "tags": null
          },
          "name": "stdout",
          "output_type": "stream",
          "text": [
            "Size of the calibration dataset: 5000\n",
            "Begin Platt scaling.\n",
            "Computing logits for model (only happens once).\n"
          ]
        },
        {
          "metadata": {
            "tags": null
          },
          "name": "stderr",
          "output_type": "stream",
          "text": [
            "100%|██████████| 40/40 [00:49<00:00,  1.24s/it]\n"
          ]
        },
        {
          "metadata": {
            "tags": null
          },
          "name": "stdout",
          "output_type": "stream",
          "text": [
            "Optimal T=1.2191635370254517\n",
            "N: 20000 | Time: 0.299 (1.275) | Cvg@1: 0.812 (0.786) | Cvg@5: 0.969 (0.942) | Cvg@RAPS: 0.875 (0.902) | Size@RAPS: 2.938 (3.919)\n"
          ]
        },
        {
          "metadata": {
            "tags": null
          },
          "name": "stderr",
          "output_type": "stream",
          "text": [
            "<ipython-input-10-524952173a65>:28: FutureWarning: The frame.append method is deprecated and will be removed from pandas in a future version. Use pandas.concat instead.\n",
            "  df_res = df_res.append(temp_res, ignore_index = True)\n"
          ]
        },
        {
          "metadata": {
            "tags": null
          },
          "name": "stdout",
          "output_type": "stream",
          "text": [
            "Size of the calibration dataset: 10000\n",
            "Begin Platt scaling.\n",
            "Computing logits for model (only happens once).\n"
          ]
        },
        {
          "metadata": {
            "tags": null
          },
          "name": "stderr",
          "output_type": "stream",
          "text": [
            "100%|██████████| 79/79 [01:39<00:00,  1.26s/it]\n"
          ]
        },
        {
          "metadata": {
            "tags": null
          },
          "name": "stdout",
          "output_type": "stream",
          "text": [
            "Optimal T=1.210644245147705\n",
            "N: 20000 | Time: 0.299 (1.279) | Cvg@1: 0.750 (0.779) | Cvg@5: 0.844 (0.937) | Cvg@RAPS: 0.875 (0.897) | Size@RAPS: 2.906 (3.950)\n"
          ]
        },
        {
          "metadata": {
            "tags": null
          },
          "name": "stderr",
          "output_type": "stream",
          "text": [
            "<ipython-input-10-524952173a65>:28: FutureWarning: The frame.append method is deprecated and will be removed from pandas in a future version. Use pandas.concat instead.\n",
            "  df_res = df_res.append(temp_res, ignore_index = True)\n"
          ]
        },
        {
          "metadata": {
            "tags": null
          },
          "name": "stdout",
          "output_type": "stream",
          "text": [
            "Size of the calibration dataset: 20000\n",
            "Begin Platt scaling.\n",
            "Computing logits for model (only happens once).\n"
          ]
        },
        {
          "metadata": {
            "tags": null
          },
          "name": "stderr",
          "output_type": "stream",
          "text": [
            "100%|██████████| 157/157 [03:19<00:00,  1.27s/it]\n"
          ]
        },
        {
          "metadata": {
            "tags": null
          },
          "name": "stdout",
          "output_type": "stream",
          "text": [
            "Optimal T=1.19896399974823\n",
            "N: 20000 | Time: 0.307 (1.274) | Cvg@1: 0.688 (0.780) | Cvg@5: 0.906 (0.939) | Cvg@RAPS: 0.875 (0.899) | Size@RAPS: 4.250 (3.837)\n"
          ]
        },
        {
          "metadata": {
            "tags": null
          },
          "name": "stderr",
          "output_type": "stream",
          "text": [
            "<ipython-input-10-524952173a65>:28: FutureWarning: The frame.append method is deprecated and will be removed from pandas in a future version. Use pandas.concat instead.\n",
            "  df_res = df_res.append(temp_res, ignore_index = True)\n"
          ]
        },
        {
          "metadata": {
            "tags": null
          },
          "name": "stdout",
          "output_type": "stream",
          "text": [
            "Size of the calibration dataset: 500\n",
            "Begin Platt scaling.\n",
            "Computing logits for model (only happens once).\n"
          ]
        },
        {
          "metadata": {
            "tags": null
          },
          "name": "stderr",
          "output_type": "stream",
          "text": [
            "100%|██████████| 4/4 [00:05<00:00,  1.25s/it]\n"
          ]
        },
        {
          "metadata": {
            "tags": null
          },
          "name": "stdout",
          "output_type": "stream",
          "text": [
            "Optimal T=1.2983821630477905\n",
            "N: 20000 | Time: 0.438 (1.278) | Cvg@1: 0.781 (0.782) | Cvg@5: 1.000 (0.942) | Cvg@RAPS: 0.844 (0.902) | Size@RAPS: 3.281 (4.373)\n"
          ]
        },
        {
          "metadata": {
            "tags": null
          },
          "name": "stderr",
          "output_type": "stream",
          "text": [
            "<ipython-input-10-524952173a65>:28: FutureWarning: The frame.append method is deprecated and will be removed from pandas in a future version. Use pandas.concat instead.\n",
            "  df_res = df_res.append(temp_res, ignore_index = True)\n"
          ]
        },
        {
          "metadata": {
            "tags": null
          },
          "name": "stdout",
          "output_type": "stream",
          "text": [
            "Size of the calibration dataset: 2000\n",
            "Begin Platt scaling.\n",
            "Computing logits for model (only happens once).\n"
          ]
        },
        {
          "metadata": {
            "tags": null
          },
          "name": "stderr",
          "output_type": "stream",
          "text": [
            "100%|██████████| 16/16 [00:19<00:00,  1.23s/it]\n"
          ]
        },
        {
          "metadata": {
            "tags": null
          },
          "name": "stdout",
          "output_type": "stream",
          "text": [
            "Optimal T=1.2646682262420654\n",
            "N: 20000 | Time: 0.297 (1.297) | Cvg@1: 0.781 (0.785) | Cvg@5: 0.906 (0.942) | Cvg@RAPS: 0.812 (0.908) | Size@RAPS: 5.062 (4.304)\n"
          ]
        },
        {
          "metadata": {
            "tags": null
          },
          "name": "stderr",
          "output_type": "stream",
          "text": [
            "<ipython-input-10-524952173a65>:28: FutureWarning: The frame.append method is deprecated and will be removed from pandas in a future version. Use pandas.concat instead.\n",
            "  df_res = df_res.append(temp_res, ignore_index = True)\n"
          ]
        },
        {
          "metadata": {
            "tags": null
          },
          "name": "stdout",
          "output_type": "stream",
          "text": [
            "Size of the calibration dataset: 5000\n",
            "Begin Platt scaling.\n",
            "Computing logits for model (only happens once).\n"
          ]
        },
        {
          "metadata": {
            "tags": null
          },
          "name": "stderr",
          "output_type": "stream",
          "text": [
            "100%|██████████| 40/40 [00:50<00:00,  1.26s/it]\n"
          ]
        },
        {
          "metadata": {
            "tags": null
          },
          "name": "stdout",
          "output_type": "stream",
          "text": [
            "Optimal T=1.2024998664855957\n",
            "N: 20000 | Time: 0.306 (1.299) | Cvg@1: 0.906 (0.782) | Cvg@5: 1.000 (0.939) | Cvg@RAPS: 0.938 (0.896) | Size@RAPS: 2.812 (3.755)\n"
          ]
        },
        {
          "metadata": {
            "tags": null
          },
          "name": "stderr",
          "output_type": "stream",
          "text": [
            "<ipython-input-10-524952173a65>:28: FutureWarning: The frame.append method is deprecated and will be removed from pandas in a future version. Use pandas.concat instead.\n",
            "  df_res = df_res.append(temp_res, ignore_index = True)\n"
          ]
        },
        {
          "metadata": {
            "tags": null
          },
          "name": "stdout",
          "output_type": "stream",
          "text": [
            "Size of the calibration dataset: 10000\n",
            "Begin Platt scaling.\n",
            "Computing logits for model (only happens once).\n"
          ]
        },
        {
          "metadata": {
            "tags": null
          },
          "name": "stderr",
          "output_type": "stream",
          "text": [
            "100%|██████████| 79/79 [01:39<00:00,  1.26s/it]\n"
          ]
        },
        {
          "metadata": {
            "tags": null
          },
          "name": "stdout",
          "output_type": "stream",
          "text": [
            "Optimal T=1.241711139678955\n",
            "N: 20000 | Time: 0.354 (1.298) | Cvg@1: 0.812 (0.783) | Cvg@5: 1.000 (0.941) | Cvg@RAPS: 0.969 (0.903) | Size@RAPS: 3.250 (4.078)\n"
          ]
        },
        {
          "metadata": {
            "tags": null
          },
          "name": "stderr",
          "output_type": "stream",
          "text": [
            "<ipython-input-10-524952173a65>:28: FutureWarning: The frame.append method is deprecated and will be removed from pandas in a future version. Use pandas.concat instead.\n",
            "  df_res = df_res.append(temp_res, ignore_index = True)\n"
          ]
        },
        {
          "metadata": {
            "tags": null
          },
          "name": "stdout",
          "output_type": "stream",
          "text": [
            "Size of the calibration dataset: 20000\n",
            "Begin Platt scaling.\n",
            "Computing logits for model (only happens once).\n"
          ]
        },
        {
          "metadata": {
            "tags": null
          },
          "name": "stderr",
          "output_type": "stream",
          "text": [
            "100%|██████████| 157/157 [03:18<00:00,  1.27s/it]\n"
          ]
        },
        {
          "metadata": {
            "tags": null
          },
          "name": "stdout",
          "output_type": "stream",
          "text": [
            "Optimal T=1.2075508832931519\n",
            "N: 20000 | Time: 0.320 (1.295) | Cvg@1: 0.781 (0.779) | Cvg@5: 0.969 (0.939) | Cvg@RAPS: 0.969 (0.898) | Size@RAPS: 3.688 (3.896)\n"
          ]
        },
        {
          "metadata": {
            "tags": null
          },
          "name": "stderr",
          "output_type": "stream",
          "text": [
            "<ipython-input-10-524952173a65>:28: FutureWarning: The frame.append method is deprecated and will be removed from pandas in a future version. Use pandas.concat instead.\n",
            "  df_res = df_res.append(temp_res, ignore_index = True)\n"
          ]
        },
        {
          "metadata": {
            "tags": null
          },
          "name": "stdout",
          "output_type": "stream",
          "text": [
            "Size of the calibration dataset: 500\n",
            "Begin Platt scaling.\n",
            "Computing logits for model (only happens once).\n"
          ]
        },
        {
          "metadata": {
            "tags": null
          },
          "name": "stderr",
          "output_type": "stream",
          "text": [
            "100%|██████████| 4/4 [00:04<00:00,  1.24s/it]\n"
          ]
        },
        {
          "metadata": {
            "tags": null
          },
          "name": "stdout",
          "output_type": "stream",
          "text": [
            "Optimal T=1.295803427696228\n",
            "N: 20000 | Time: 0.346 (1.292) | Cvg@1: 0.781 (0.780) | Cvg@5: 0.938 (0.940) | Cvg@RAPS: 0.938 (0.895) | Size@RAPS: 4.000 (4.299)\n"
          ]
        },
        {
          "metadata": {
            "tags": null
          },
          "name": "stderr",
          "output_type": "stream",
          "text": [
            "<ipython-input-10-524952173a65>:28: FutureWarning: The frame.append method is deprecated and will be removed from pandas in a future version. Use pandas.concat instead.\n",
            "  df_res = df_res.append(temp_res, ignore_index = True)\n"
          ]
        },
        {
          "metadata": {
            "tags": null
          },
          "name": "stdout",
          "output_type": "stream",
          "text": [
            "Size of the calibration dataset: 2000\n",
            "Begin Platt scaling.\n",
            "Computing logits for model (only happens once).\n"
          ]
        },
        {
          "metadata": {
            "tags": null
          },
          "name": "stderr",
          "output_type": "stream",
          "text": [
            "100%|██████████| 16/16 [00:19<00:00,  1.25s/it]\n"
          ]
        },
        {
          "metadata": {
            "tags": null
          },
          "name": "stdout",
          "output_type": "stream",
          "text": [
            "Optimal T=1.2640138864517212\n",
            "N: 20000 | Time: 0.298 (1.296) | Cvg@1: 0.750 (0.780) | Cvg@5: 0.906 (0.940) | Cvg@RAPS: 0.969 (0.899) | Size@RAPS: 6.031 (4.146)\n"
          ]
        },
        {
          "metadata": {
            "tags": null
          },
          "name": "stderr",
          "output_type": "stream",
          "text": [
            "<ipython-input-10-524952173a65>:28: FutureWarning: The frame.append method is deprecated and will be removed from pandas in a future version. Use pandas.concat instead.\n",
            "  df_res = df_res.append(temp_res, ignore_index = True)\n"
          ]
        },
        {
          "metadata": {
            "tags": null
          },
          "name": "stdout",
          "output_type": "stream",
          "text": [
            "Size of the calibration dataset: 5000\n",
            "Begin Platt scaling.\n",
            "Computing logits for model (only happens once).\n"
          ]
        },
        {
          "metadata": {
            "tags": null
          },
          "name": "stderr",
          "output_type": "stream",
          "text": [
            "100%|██████████| 40/40 [00:49<00:00,  1.23s/it]\n"
          ]
        },
        {
          "metadata": {
            "tags": null
          },
          "name": "stdout",
          "output_type": "stream",
          "text": [
            "Optimal T=1.230911135673523\n",
            "N: 20000 | Time: 0.316 (1.291) | Cvg@1: 0.812 (0.784) | Cvg@5: 0.969 (0.941) | Cvg@RAPS: 0.938 (0.896) | Size@RAPS: 4.406 (3.878)\n"
          ]
        },
        {
          "metadata": {
            "tags": null
          },
          "name": "stderr",
          "output_type": "stream",
          "text": [
            "<ipython-input-10-524952173a65>:28: FutureWarning: The frame.append method is deprecated and will be removed from pandas in a future version. Use pandas.concat instead.\n",
            "  df_res = df_res.append(temp_res, ignore_index = True)\n"
          ]
        },
        {
          "metadata": {
            "tags": null
          },
          "name": "stdout",
          "output_type": "stream",
          "text": [
            "Size of the calibration dataset: 10000\n",
            "Begin Platt scaling.\n",
            "Computing logits for model (only happens once).\n"
          ]
        },
        {
          "metadata": {
            "tags": null
          },
          "name": "stderr",
          "output_type": "stream",
          "text": [
            "100%|██████████| 79/79 [01:38<00:00,  1.25s/it]\n"
          ]
        },
        {
          "metadata": {
            "tags": null
          },
          "name": "stdout",
          "output_type": "stream",
          "text": [
            "Optimal T=1.2223831415176392\n",
            "N: 20000 | Time: 0.330 (1.289) | Cvg@1: 0.719 (0.780) | Cvg@5: 0.969 (0.938) | Cvg@RAPS: 0.875 (0.898) | Size@RAPS: 3.594 (3.996)\n"
          ]
        },
        {
          "metadata": {
            "tags": null
          },
          "name": "stderr",
          "output_type": "stream",
          "text": [
            "<ipython-input-10-524952173a65>:28: FutureWarning: The frame.append method is deprecated and will be removed from pandas in a future version. Use pandas.concat instead.\n",
            "  df_res = df_res.append(temp_res, ignore_index = True)\n"
          ]
        },
        {
          "metadata": {
            "tags": null
          },
          "name": "stdout",
          "output_type": "stream",
          "text": [
            "Size of the calibration dataset: 20000\n",
            "Begin Platt scaling.\n",
            "Computing logits for model (only happens once).\n"
          ]
        },
        {
          "output_type": "stream",
          "name": "stderr",
          "text": [
            "100%|██████████| 157/157 [03:18<00:00,  1.26s/it]\n"
          ]
        },
        {
          "output_type": "stream",
          "name": "stdout",
          "text": [
            "Optimal T=1.1953890323638916\n",
            "N: 20000 | Time: 0.310 (1.285) | Cvg@1: 0.812 (0.784) | Cvg@5: 0.906 (0.939) | Cvg@RAPS: 0.875 (0.896) | Size@RAPS: 2.562 (3.731)\n"
          ]
        },
        {
          "output_type": "stream",
          "name": "stderr",
          "text": [
            "<ipython-input-10-524952173a65>:28: FutureWarning: The frame.append method is deprecated and will be removed from pandas in a future version. Use pandas.concat instead.\n",
            "  df_res = df_res.append(temp_res, ignore_index = True)\n"
          ]
        },
        {
          "output_type": "stream",
          "name": "stdout",
          "text": [
            "Size of the calibration dataset: 500\n",
            "Begin Platt scaling.\n",
            "Computing logits for model (only happens once).\n"
          ]
        },
        {
          "output_type": "stream",
          "name": "stderr",
          "text": [
            "100%|██████████| 4/4 [00:05<00:00,  1.31s/it]\n"
          ]
        },
        {
          "output_type": "stream",
          "name": "stdout",
          "text": [
            "Optimal T=1.2946786880493164\n",
            "N: 20000 | Time: 0.307 (1.283) | Cvg@1: 0.781 (0.782) | Cvg@5: 0.969 (0.939) | Cvg@RAPS: 0.875 (0.876) | Size@RAPS: 2.906 (3.857)\n"
          ]
        },
        {
          "output_type": "stream",
          "name": "stderr",
          "text": [
            "<ipython-input-10-524952173a65>:28: FutureWarning: The frame.append method is deprecated and will be removed from pandas in a future version. Use pandas.concat instead.\n",
            "  df_res = df_res.append(temp_res, ignore_index = True)\n"
          ]
        },
        {
          "output_type": "stream",
          "name": "stdout",
          "text": [
            "Size of the calibration dataset: 2000\n",
            "Begin Platt scaling.\n",
            "Computing logits for model (only happens once).\n"
          ]
        },
        {
          "output_type": "stream",
          "name": "stderr",
          "text": [
            "100%|██████████| 16/16 [00:19<00:00,  1.24s/it]\n"
          ]
        },
        {
          "output_type": "stream",
          "name": "stdout",
          "text": [
            "Optimal T=1.218214750289917\n",
            "N: 20000 | Time: 0.314 (1.278) | Cvg@1: 0.719 (0.778) | Cvg@5: 0.875 (0.940) | Cvg@RAPS: 0.844 (0.889) | Size@RAPS: 3.906 (3.704)\n"
          ]
        },
        {
          "output_type": "stream",
          "name": "stderr",
          "text": [
            "<ipython-input-10-524952173a65>:28: FutureWarning: The frame.append method is deprecated and will be removed from pandas in a future version. Use pandas.concat instead.\n",
            "  df_res = df_res.append(temp_res, ignore_index = True)\n"
          ]
        },
        {
          "output_type": "stream",
          "name": "stdout",
          "text": [
            "Size of the calibration dataset: 5000\n",
            "Begin Platt scaling.\n",
            "Computing logits for model (only happens once).\n"
          ]
        },
        {
          "output_type": "stream",
          "name": "stderr",
          "text": [
            "100%|██████████| 40/40 [00:49<00:00,  1.23s/it]\n"
          ]
        },
        {
          "output_type": "stream",
          "name": "stdout",
          "text": [
            "Optimal T=1.2291799783706665\n",
            "N: 20000 | Time: 0.349 (1.278) | Cvg@1: 0.781 (0.785) | Cvg@5: 0.906 (0.940) | Cvg@RAPS: 0.875 (0.899) | Size@RAPS: 6.781 (3.925)\n"
          ]
        },
        {
          "output_type": "stream",
          "name": "stderr",
          "text": [
            "<ipython-input-10-524952173a65>:28: FutureWarning: The frame.append method is deprecated and will be removed from pandas in a future version. Use pandas.concat instead.\n",
            "  df_res = df_res.append(temp_res, ignore_index = True)\n"
          ]
        },
        {
          "output_type": "stream",
          "name": "stdout",
          "text": [
            "Size of the calibration dataset: 10000\n",
            "Begin Platt scaling.\n",
            "Computing logits for model (only happens once).\n"
          ]
        },
        {
          "output_type": "stream",
          "name": "stderr",
          "text": [
            "100%|██████████| 79/79 [01:38<00:00,  1.24s/it]\n"
          ]
        },
        {
          "output_type": "stream",
          "name": "stdout",
          "text": [
            "Optimal T=1.211180567741394\n",
            "N: 20000 | Time: 0.666 (1.278) | Cvg@1: 0.812 (0.783) | Cvg@5: 0.938 (0.939) | Cvg@RAPS: 0.906 (0.894) | Size@RAPS: 4.062 (3.784)\n"
          ]
        },
        {
          "output_type": "stream",
          "name": "stderr",
          "text": [
            "<ipython-input-10-524952173a65>:28: FutureWarning: The frame.append method is deprecated and will be removed from pandas in a future version. Use pandas.concat instead.\n",
            "  df_res = df_res.append(temp_res, ignore_index = True)\n"
          ]
        },
        {
          "output_type": "stream",
          "name": "stdout",
          "text": [
            "Size of the calibration dataset: 20000\n",
            "Begin Platt scaling.\n",
            "Computing logits for model (only happens once).\n"
          ]
        },
        {
          "output_type": "stream",
          "name": "stderr",
          "text": [
            "100%|██████████| 157/157 [03:18<00:00,  1.26s/it]\n"
          ]
        },
        {
          "output_type": "stream",
          "name": "stdout",
          "text": [
            "Optimal T=1.2085883617401123\n",
            "N: 20000 | Time: 0.308 (1.277) | Cvg@1: 0.938 (0.785) | Cvg@5: 1.000 (0.940) | Cvg@RAPS: 0.938 (0.900) | Size@RAPS: 3.656 (3.805)\n"
          ]
        },
        {
          "output_type": "stream",
          "name": "stderr",
          "text": [
            "<ipython-input-10-524952173a65>:28: FutureWarning: The frame.append method is deprecated and will be removed from pandas in a future version. Use pandas.concat instead.\n",
            "  df_res = df_res.append(temp_res, ignore_index = True)\n"
          ]
        },
        {
          "output_type": "stream",
          "name": "stdout",
          "text": [
            "Size of the calibration dataset: 500\n",
            "Begin Platt scaling.\n",
            "Computing logits for model (only happens once).\n"
          ]
        },
        {
          "output_type": "stream",
          "name": "stderr",
          "text": [
            "100%|██████████| 4/4 [00:05<00:00,  1.30s/it]\n"
          ]
        },
        {
          "output_type": "stream",
          "name": "stdout",
          "text": [
            "Optimal T=1.2989470958709717\n",
            "N: 20000 | Time: 0.378 (1.281) | Cvg@1: 0.906 (0.781) | Cvg@5: 0.969 (0.939) | Cvg@RAPS: 1.000 (0.903) | Size@RAPS: 4.719 (4.412)\n"
          ]
        },
        {
          "output_type": "stream",
          "name": "stderr",
          "text": [
            "<ipython-input-10-524952173a65>:28: FutureWarning: The frame.append method is deprecated and will be removed from pandas in a future version. Use pandas.concat instead.\n",
            "  df_res = df_res.append(temp_res, ignore_index = True)\n"
          ]
        },
        {
          "output_type": "stream",
          "name": "stdout",
          "text": [
            "Size of the calibration dataset: 2000\n",
            "Begin Platt scaling.\n",
            "Computing logits for model (only happens once).\n"
          ]
        },
        {
          "output_type": "stream",
          "name": "stderr",
          "text": [
            "100%|██████████| 16/16 [00:19<00:00,  1.20s/it]\n"
          ]
        },
        {
          "output_type": "stream",
          "name": "stdout",
          "text": [
            "Optimal T=1.2519090175628662\n",
            "N: 20000 | Time: 0.310 (1.274) | Cvg@1: 0.875 (0.784) | Cvg@5: 1.000 (0.940) | Cvg@RAPS: 0.906 (0.892) | Size@RAPS: 1.719 (3.960)\n"
          ]
        },
        {
          "output_type": "stream",
          "name": "stderr",
          "text": [
            "<ipython-input-10-524952173a65>:28: FutureWarning: The frame.append method is deprecated and will be removed from pandas in a future version. Use pandas.concat instead.\n",
            "  df_res = df_res.append(temp_res, ignore_index = True)\n"
          ]
        },
        {
          "output_type": "stream",
          "name": "stdout",
          "text": [
            "Size of the calibration dataset: 5000\n",
            "Begin Platt scaling.\n",
            "Computing logits for model (only happens once).\n"
          ]
        },
        {
          "output_type": "stream",
          "name": "stderr",
          "text": [
            "100%|██████████| 40/40 [00:50<00:00,  1.26s/it]\n"
          ]
        },
        {
          "output_type": "stream",
          "name": "stdout",
          "text": [
            "Optimal T=1.2278245687484741\n",
            "N: 20000 | Time: 0.287 (1.292) | Cvg@1: 0.906 (0.780) | Cvg@5: 0.969 (0.941) | Cvg@RAPS: 0.938 (0.898) | Size@RAPS: 2.094 (3.951)\n"
          ]
        },
        {
          "output_type": "stream",
          "name": "stderr",
          "text": [
            "<ipython-input-10-524952173a65>:28: FutureWarning: The frame.append method is deprecated and will be removed from pandas in a future version. Use pandas.concat instead.\n",
            "  df_res = df_res.append(temp_res, ignore_index = True)\n"
          ]
        },
        {
          "output_type": "stream",
          "name": "stdout",
          "text": [
            "Size of the calibration dataset: 10000\n",
            "Begin Platt scaling.\n",
            "Computing logits for model (only happens once).\n"
          ]
        },
        {
          "output_type": "stream",
          "name": "stderr",
          "text": [
            "100%|██████████| 79/79 [01:38<00:00,  1.25s/it]\n"
          ]
        },
        {
          "output_type": "stream",
          "name": "stdout",
          "text": [
            "Optimal T=1.2126215696334839\n",
            "N: 20000 | Time: 0.303 (1.283) | Cvg@1: 0.906 (0.786) | Cvg@5: 0.938 (0.940) | Cvg@RAPS: 0.844 (0.900) | Size@RAPS: 4.219 (3.880)\n"
          ]
        },
        {
          "output_type": "stream",
          "name": "stderr",
          "text": [
            "<ipython-input-10-524952173a65>:28: FutureWarning: The frame.append method is deprecated and will be removed from pandas in a future version. Use pandas.concat instead.\n",
            "  df_res = df_res.append(temp_res, ignore_index = True)\n"
          ]
        },
        {
          "output_type": "stream",
          "name": "stdout",
          "text": [
            "Size of the calibration dataset: 20000\n",
            "Begin Platt scaling.\n",
            "Computing logits for model (only happens once).\n"
          ]
        },
        {
          "output_type": "stream",
          "name": "stderr",
          "text": [
            "100%|██████████| 157/157 [03:16<00:00,  1.25s/it]\n"
          ]
        },
        {
          "output_type": "stream",
          "name": "stdout",
          "text": [
            "Optimal T=1.2093346118927002\n",
            "N: 20000 | Time: 0.325 (1.277) | Cvg@1: 0.656 (0.781) | Cvg@5: 0.875 (0.940) | Cvg@RAPS: 0.875 (0.900) | Size@RAPS: 5.750 (3.883)\n"
          ]
        },
        {
          "output_type": "stream",
          "name": "stderr",
          "text": [
            "<ipython-input-10-524952173a65>:28: FutureWarning: The frame.append method is deprecated and will be removed from pandas in a future version. Use pandas.concat instead.\n",
            "  df_res = df_res.append(temp_res, ignore_index = True)\n"
          ]
        },
        {
          "output_type": "stream",
          "name": "stdout",
          "text": [
            "Size of the calibration dataset: 500\n",
            "Begin Platt scaling.\n",
            "Computing logits for model (only happens once).\n"
          ]
        },
        {
          "output_type": "stream",
          "name": "stderr",
          "text": [
            "100%|██████████| 4/4 [00:04<00:00,  1.21s/it]\n"
          ]
        },
        {
          "output_type": "stream",
          "name": "stdout",
          "text": [
            "Optimal T=1.2986458539962769\n",
            "N: 20000 | Time: 0.302 (1.285) | Cvg@1: 0.719 (0.784) | Cvg@5: 0.906 (0.939) | Cvg@RAPS: 0.969 (0.924) | Size@RAPS: 5.688 (4.958)\n"
          ]
        },
        {
          "output_type": "stream",
          "name": "stderr",
          "text": [
            "<ipython-input-10-524952173a65>:28: FutureWarning: The frame.append method is deprecated and will be removed from pandas in a future version. Use pandas.concat instead.\n",
            "  df_res = df_res.append(temp_res, ignore_index = True)\n"
          ]
        },
        {
          "output_type": "stream",
          "name": "stdout",
          "text": [
            "Size of the calibration dataset: 2000\n",
            "Begin Platt scaling.\n",
            "Computing logits for model (only happens once).\n"
          ]
        },
        {
          "output_type": "stream",
          "name": "stderr",
          "text": [
            "100%|██████████| 16/16 [00:19<00:00,  1.25s/it]\n"
          ]
        },
        {
          "output_type": "stream",
          "name": "stdout",
          "text": [
            "Optimal T=1.2385576963424683\n",
            "N: 20000 | Time: 0.311 (1.286) | Cvg@1: 0.781 (0.784) | Cvg@5: 0.969 (0.941) | Cvg@RAPS: 0.875 (0.899) | Size@RAPS: 4.094 (3.998)\n"
          ]
        },
        {
          "output_type": "stream",
          "name": "stderr",
          "text": [
            "<ipython-input-10-524952173a65>:28: FutureWarning: The frame.append method is deprecated and will be removed from pandas in a future version. Use pandas.concat instead.\n",
            "  df_res = df_res.append(temp_res, ignore_index = True)\n"
          ]
        },
        {
          "output_type": "stream",
          "name": "stdout",
          "text": [
            "Size of the calibration dataset: 5000\n",
            "Begin Platt scaling.\n",
            "Computing logits for model (only happens once).\n"
          ]
        },
        {
          "output_type": "stream",
          "name": "stderr",
          "text": [
            "100%|██████████| 40/40 [00:49<00:00,  1.23s/it]\n"
          ]
        },
        {
          "output_type": "stream",
          "name": "stdout",
          "text": [
            "Optimal T=1.212593674659729\n",
            "N: 20000 | Time: 0.317 (1.276) | Cvg@1: 0.781 (0.787) | Cvg@5: 0.938 (0.941) | Cvg@RAPS: 0.906 (0.903) | Size@RAPS: 4.156 (3.902)\n"
          ]
        },
        {
          "output_type": "stream",
          "name": "stderr",
          "text": [
            "<ipython-input-10-524952173a65>:28: FutureWarning: The frame.append method is deprecated and will be removed from pandas in a future version. Use pandas.concat instead.\n",
            "  df_res = df_res.append(temp_res, ignore_index = True)\n"
          ]
        },
        {
          "output_type": "stream",
          "name": "stdout",
          "text": [
            "Size of the calibration dataset: 10000\n",
            "Begin Platt scaling.\n",
            "Computing logits for model (only happens once).\n"
          ]
        },
        {
          "output_type": "stream",
          "name": "stderr",
          "text": [
            "100%|██████████| 79/79 [01:37<00:00,  1.23s/it]\n"
          ]
        },
        {
          "output_type": "stream",
          "name": "stdout",
          "text": [
            "Optimal T=1.2358102798461914\n",
            "N: 20000 | Time: 0.447 (1.283) | Cvg@1: 0.844 (0.786) | Cvg@5: 0.969 (0.941) | Cvg@RAPS: 1.000 (0.899) | Size@RAPS: 3.156 (3.979)\n"
          ]
        },
        {
          "output_type": "stream",
          "name": "stderr",
          "text": [
            "<ipython-input-10-524952173a65>:28: FutureWarning: The frame.append method is deprecated and will be removed from pandas in a future version. Use pandas.concat instead.\n",
            "  df_res = df_res.append(temp_res, ignore_index = True)\n"
          ]
        },
        {
          "output_type": "stream",
          "name": "stdout",
          "text": [
            "Size of the calibration dataset: 20000\n",
            "Begin Platt scaling.\n",
            "Computing logits for model (only happens once).\n"
          ]
        },
        {
          "output_type": "stream",
          "name": "stderr",
          "text": [
            "100%|██████████| 157/157 [03:18<00:00,  1.26s/it]\n"
          ]
        },
        {
          "output_type": "stream",
          "name": "stdout",
          "text": [
            "Optimal T=1.2054104804992676\n",
            "N: 20000 | Time: 0.305 (1.261) | Cvg@1: 0.812 (0.784) | Cvg@5: 0.906 (0.941) | Cvg@RAPS: 0.969 (0.901) | Size@RAPS: 5.219 (3.794)\n"
          ]
        },
        {
          "output_type": "stream",
          "name": "stderr",
          "text": [
            "<ipython-input-10-524952173a65>:28: FutureWarning: The frame.append method is deprecated and will be removed from pandas in a future version. Use pandas.concat instead.\n",
            "  df_res = df_res.append(temp_res, ignore_index = True)\n"
          ]
        },
        {
          "output_type": "stream",
          "name": "stdout",
          "text": [
            "Size of the calibration dataset: 500\n",
            "Begin Platt scaling.\n",
            "Computing logits for model (only happens once).\n"
          ]
        },
        {
          "output_type": "stream",
          "name": "stderr",
          "text": [
            "100%|██████████| 4/4 [00:05<00:00,  1.25s/it]\n"
          ]
        },
        {
          "output_type": "stream",
          "name": "stdout",
          "text": [
            "Optimal T=1.2952290773391724\n",
            "N: 20000 | Time: 0.305 (1.275) | Cvg@1: 0.844 (0.778) | Cvg@5: 0.906 (0.939) | Cvg@RAPS: 0.969 (0.886) | Size@RAPS: 4.938 (4.088)\n"
          ]
        },
        {
          "output_type": "stream",
          "name": "stderr",
          "text": [
            "<ipython-input-10-524952173a65>:28: FutureWarning: The frame.append method is deprecated and will be removed from pandas in a future version. Use pandas.concat instead.\n",
            "  df_res = df_res.append(temp_res, ignore_index = True)\n"
          ]
        },
        {
          "output_type": "stream",
          "name": "stdout",
          "text": [
            "Size of the calibration dataset: 2000\n",
            "Begin Platt scaling.\n",
            "Computing logits for model (only happens once).\n"
          ]
        },
        {
          "output_type": "stream",
          "name": "stderr",
          "text": [
            "100%|██████████| 16/16 [00:19<00:00,  1.22s/it]\n"
          ]
        },
        {
          "output_type": "stream",
          "name": "stdout",
          "text": [
            "Optimal T=1.237162709236145\n",
            "N: 20000 | Time: 0.323 (1.271) | Cvg@1: 0.844 (0.784) | Cvg@5: 0.875 (0.941) | Cvg@RAPS: 0.812 (0.891) | Size@RAPS: 3.469 (3.816)\n"
          ]
        },
        {
          "output_type": "stream",
          "name": "stderr",
          "text": [
            "<ipython-input-10-524952173a65>:28: FutureWarning: The frame.append method is deprecated and will be removed from pandas in a future version. Use pandas.concat instead.\n",
            "  df_res = df_res.append(temp_res, ignore_index = True)\n"
          ]
        },
        {
          "output_type": "stream",
          "name": "stdout",
          "text": [
            "Size of the calibration dataset: 5000\n",
            "Begin Platt scaling.\n",
            "Computing logits for model (only happens once).\n"
          ]
        },
        {
          "output_type": "stream",
          "name": "stderr",
          "text": [
            "100%|██████████| 40/40 [00:48<00:00,  1.22s/it]\n"
          ]
        },
        {
          "output_type": "stream",
          "name": "stdout",
          "text": [
            "Optimal T=1.2482736110687256\n",
            "N: 20000 | Time: 0.291 (1.266) | Cvg@1: 0.812 (0.783) | Cvg@5: 0.938 (0.941) | Cvg@RAPS: 0.875 (0.903) | Size@RAPS: 4.719 (4.068)\n"
          ]
        },
        {
          "output_type": "stream",
          "name": "stderr",
          "text": [
            "<ipython-input-10-524952173a65>:28: FutureWarning: The frame.append method is deprecated and will be removed from pandas in a future version. Use pandas.concat instead.\n",
            "  df_res = df_res.append(temp_res, ignore_index = True)\n"
          ]
        },
        {
          "output_type": "stream",
          "name": "stdout",
          "text": [
            "Size of the calibration dataset: 10000\n",
            "Begin Platt scaling.\n",
            "Computing logits for model (only happens once).\n"
          ]
        },
        {
          "output_type": "stream",
          "name": "stderr",
          "text": [
            "100%|██████████| 79/79 [01:40<00:00,  1.28s/it]\n"
          ]
        },
        {
          "output_type": "stream",
          "name": "stdout",
          "text": [
            "Optimal T=1.1928552389144897\n",
            "N: 20000 | Time: 0.323 (1.257) | Cvg@1: 0.844 (0.782) | Cvg@5: 1.000 (0.942) | Cvg@RAPS: 0.969 (0.899) | Size@RAPS: 2.375 (3.666)\n"
          ]
        },
        {
          "output_type": "stream",
          "name": "stderr",
          "text": [
            "<ipython-input-10-524952173a65>:28: FutureWarning: The frame.append method is deprecated and will be removed from pandas in a future version. Use pandas.concat instead.\n",
            "  df_res = df_res.append(temp_res, ignore_index = True)\n"
          ]
        },
        {
          "output_type": "stream",
          "name": "stdout",
          "text": [
            "Size of the calibration dataset: 20000\n",
            "Begin Platt scaling.\n",
            "Computing logits for model (only happens once).\n"
          ]
        },
        {
          "output_type": "stream",
          "name": "stderr",
          "text": [
            "100%|██████████| 157/157 [03:17<00:00,  1.26s/it]\n"
          ]
        },
        {
          "output_type": "stream",
          "name": "stdout",
          "text": [
            "Optimal T=1.203143835067749\n",
            "N: 20000 | Time: 0.295 (1.267) | Cvg@1: 0.875 (0.782) | Cvg@5: 0.969 (0.941) | Cvg@RAPS: 0.906 (0.903) | Size@RAPS: 2.844 (3.866)\n"
          ]
        },
        {
          "output_type": "stream",
          "name": "stderr",
          "text": [
            "<ipython-input-10-524952173a65>:28: FutureWarning: The frame.append method is deprecated and will be removed from pandas in a future version. Use pandas.concat instead.\n",
            "  df_res = df_res.append(temp_res, ignore_index = True)\n"
          ]
        },
        {
          "output_type": "stream",
          "name": "stdout",
          "text": [
            "Size of the calibration dataset: 500\n",
            "Begin Platt scaling.\n",
            "Computing logits for model (only happens once).\n"
          ]
        },
        {
          "output_type": "stream",
          "name": "stderr",
          "text": [
            "100%|██████████| 4/4 [00:04<00:00,  1.21s/it]\n"
          ]
        },
        {
          "output_type": "stream",
          "name": "stdout",
          "text": [
            "Optimal T=1.2968050241470337\n",
            "N: 20000 | Time: 0.439 (1.271) | Cvg@1: 0.750 (0.787) | Cvg@5: 0.938 (0.941) | Cvg@RAPS: 0.969 (0.912) | Size@RAPS: 5.000 (4.599)\n"
          ]
        },
        {
          "output_type": "stream",
          "name": "stderr",
          "text": [
            "<ipython-input-10-524952173a65>:28: FutureWarning: The frame.append method is deprecated and will be removed from pandas in a future version. Use pandas.concat instead.\n",
            "  df_res = df_res.append(temp_res, ignore_index = True)\n"
          ]
        },
        {
          "output_type": "stream",
          "name": "stdout",
          "text": [
            "Size of the calibration dataset: 2000\n",
            "Begin Platt scaling.\n",
            "Computing logits for model (only happens once).\n"
          ]
        },
        {
          "output_type": "stream",
          "name": "stderr",
          "text": [
            "100%|██████████| 16/16 [00:20<00:00,  1.27s/it]\n"
          ]
        },
        {
          "output_type": "stream",
          "name": "stdout",
          "text": [
            "Optimal T=1.2502871751785278\n",
            "N: 20000 | Time: 0.350 (1.283) | Cvg@1: 0.688 (0.780) | Cvg@5: 0.844 (0.939) | Cvg@RAPS: 0.812 (0.894) | Size@RAPS: 4.406 (3.982)\n"
          ]
        },
        {
          "output_type": "stream",
          "name": "stderr",
          "text": [
            "<ipython-input-10-524952173a65>:28: FutureWarning: The frame.append method is deprecated and will be removed from pandas in a future version. Use pandas.concat instead.\n",
            "  df_res = df_res.append(temp_res, ignore_index = True)\n"
          ]
        },
        {
          "output_type": "stream",
          "name": "stdout",
          "text": [
            "Size of the calibration dataset: 5000\n",
            "Begin Platt scaling.\n",
            "Computing logits for model (only happens once).\n"
          ]
        },
        {
          "output_type": "stream",
          "name": "stderr",
          "text": [
            "100%|██████████| 40/40 [00:49<00:00,  1.24s/it]\n"
          ]
        },
        {
          "output_type": "stream",
          "name": "stdout",
          "text": [
            "Optimal T=1.2280153036117554\n",
            "N: 20000 | Time: 0.304 (1.271) | Cvg@1: 0.719 (0.786) | Cvg@5: 0.969 (0.942) | Cvg@RAPS: 0.906 (0.897) | Size@RAPS: 4.938 (3.920)\n"
          ]
        },
        {
          "output_type": "stream",
          "name": "stderr",
          "text": [
            "<ipython-input-10-524952173a65>:28: FutureWarning: The frame.append method is deprecated and will be removed from pandas in a future version. Use pandas.concat instead.\n",
            "  df_res = df_res.append(temp_res, ignore_index = True)\n"
          ]
        },
        {
          "output_type": "stream",
          "name": "stdout",
          "text": [
            "Size of the calibration dataset: 10000\n",
            "Begin Platt scaling.\n",
            "Computing logits for model (only happens once).\n"
          ]
        },
        {
          "output_type": "stream",
          "name": "stderr",
          "text": [
            "100%|██████████| 79/79 [01:39<00:00,  1.26s/it]\n"
          ]
        },
        {
          "output_type": "stream",
          "name": "stdout",
          "text": [
            "Optimal T=1.2208868265151978\n",
            "N: 20000 | Time: 0.296 (1.276) | Cvg@1: 0.812 (0.785) | Cvg@5: 0.938 (0.942) | Cvg@RAPS: 0.844 (0.902) | Size@RAPS: 3.844 (3.952)\n"
          ]
        },
        {
          "output_type": "stream",
          "name": "stderr",
          "text": [
            "<ipython-input-10-524952173a65>:28: FutureWarning: The frame.append method is deprecated and will be removed from pandas in a future version. Use pandas.concat instead.\n",
            "  df_res = df_res.append(temp_res, ignore_index = True)\n"
          ]
        },
        {
          "output_type": "stream",
          "name": "stdout",
          "text": [
            "Size of the calibration dataset: 20000\n",
            "Begin Platt scaling.\n",
            "Computing logits for model (only happens once).\n"
          ]
        },
        {
          "output_type": "stream",
          "name": "stderr",
          "text": [
            "100%|██████████| 157/157 [03:17<00:00,  1.26s/it]\n"
          ]
        },
        {
          "output_type": "stream",
          "name": "stdout",
          "text": [
            "Optimal T=1.193920612335205\n",
            "N: 20000 | Time: 0.300 (1.271) | Cvg@1: 0.875 (0.781) | Cvg@5: 0.969 (0.939) | Cvg@RAPS: 0.875 (0.899) | Size@RAPS: 3.594 (3.760)\n"
          ]
        },
        {
          "output_type": "stream",
          "name": "stderr",
          "text": [
            "<ipython-input-10-524952173a65>:28: FutureWarning: The frame.append method is deprecated and will be removed from pandas in a future version. Use pandas.concat instead.\n",
            "  df_res = df_res.append(temp_res, ignore_index = True)\n"
          ]
        }
      ]
    },
    {
      "cell_type": "code",
      "source": [
        "print(df_res)"
      ],
      "metadata": {
        "colab": {
          "base_uri": "https://localhost:8080/"
        },
        "id": "g_BehW2cYD6A",
        "outputId": "d7852d22-e09c-4d18-8c2e-8c4ea96a138d"
      },
      "execution_count": 11,
      "outputs": [
        {
          "output_type": "stream",
          "name": "stdout",
          "text": [
            "    calib_size  top1_coverage  top5_coverage  raps_coverage  raps_size\n",
            "0        500.0        0.78335        0.94070        0.88630    4.10520\n",
            "1       2000.0        0.78370        0.94340        0.89210    3.70490\n",
            "2       5000.0        0.78200        0.94125        0.91280    4.33665\n",
            "3      10000.0        0.78490        0.94005        0.90355    4.03925\n",
            "4      20000.0        0.77915        0.93975        0.89835    3.85250\n",
            "5        500.0        0.78490        0.94210        0.92890    5.02480\n",
            "6       2000.0        0.77975        0.94005        0.89330    4.05325\n",
            "7       5000.0        0.77900        0.94005        0.89705    3.94760\n",
            "8      10000.0        0.78290        0.93880        0.89155    3.66110\n",
            "9      20000.0        0.78505        0.94140        0.90085    3.86545\n",
            "10       500.0        0.77835        0.93980        0.88155    3.96495\n",
            "11      2000.0        0.78380        0.93920        0.90995    4.50045\n",
            "12      5000.0        0.78625        0.94200        0.90200    3.91860\n",
            "13     10000.0        0.77890        0.93730        0.89745    3.95005\n",
            "14     20000.0        0.77965        0.93870        0.89885    3.83685\n",
            "15       500.0        0.78185        0.94235        0.90245    4.37305\n",
            "16      2000.0        0.78535        0.94185        0.90820    4.30435\n",
            "17      5000.0        0.78190        0.93900        0.89620    3.75480\n",
            "18     10000.0        0.78270        0.94130        0.90295    4.07760\n",
            "19     20000.0        0.77930        0.93925        0.89810    3.89600\n",
            "20       500.0        0.77955        0.94035        0.89530    4.29900\n",
            "21      2000.0        0.78000        0.94035        0.89915    4.14550\n",
            "22      5000.0        0.78355        0.94120        0.89595    3.87845\n",
            "23     10000.0        0.78000        0.93845        0.89755    3.99585\n",
            "24     20000.0        0.78375        0.93865        0.89615    3.73120\n",
            "25       500.0        0.78195        0.93905        0.87570    3.85685\n",
            "26      2000.0        0.77795        0.93950        0.88860    3.70375\n",
            "27      5000.0        0.78515        0.94045        0.89905    3.92515\n",
            "28     10000.0        0.78315        0.93930        0.89420    3.78410\n",
            "29     20000.0        0.78475        0.93965        0.89955    3.80545\n",
            "30       500.0        0.78115        0.93945        0.90285    4.41215\n",
            "31      2000.0        0.78410        0.94030        0.89210    3.96005\n",
            "32      5000.0        0.78000        0.94085        0.89780    3.95110\n",
            "33     10000.0        0.78555        0.94025        0.89965    3.88005\n",
            "34     20000.0        0.78130        0.94005        0.89990    3.88335\n",
            "35       500.0        0.78385        0.93890        0.92365    4.95760\n",
            "36      2000.0        0.78375        0.94050        0.89910    3.99805\n",
            "37      5000.0        0.78690        0.94060        0.90305    3.90190\n",
            "38     10000.0        0.78555        0.94055        0.89925    3.97925\n",
            "39     20000.0        0.78445        0.94070        0.90115    3.79415\n",
            "40       500.0        0.77780        0.93860        0.88590    4.08760\n",
            "41      2000.0        0.78440        0.94110        0.89150    3.81640\n",
            "42      5000.0        0.78330        0.94145        0.90295    4.06780\n",
            "43     10000.0        0.78250        0.94195        0.89905    3.66625\n",
            "44     20000.0        0.78245        0.94075        0.90285    3.86625\n",
            "45       500.0        0.78725        0.94140        0.91240    4.59900\n",
            "46      2000.0        0.78005        0.93925        0.89415    3.98215\n",
            "47      5000.0        0.78585        0.94220        0.89750    3.91970\n",
            "48     10000.0        0.78540        0.94170        0.90190    3.95200\n",
            "49     20000.0        0.78140        0.93890        0.89860    3.76000\n"
          ]
        }
      ]
    },
    {
      "cell_type": "code",
      "source": [
        "mean_res = df_res.groupby('calib_size')[['top1_coverage', 'top5_coverage','raps_coverage', 'raps_size']].mean()\n",
        "print(mean_res)"
      ],
      "metadata": {
        "colab": {
          "base_uri": "https://localhost:8080/"
        },
        "id": "jcztxMkDXnMW",
        "outputId": "1b2f2fa8-c39a-4a2c-880d-9f1338c865ad"
      },
      "execution_count": 12,
      "outputs": [
        {
          "output_type": "stream",
          "name": "stdout",
          "text": [
            "            top1_coverage  top5_coverage  raps_coverage  raps_size\n",
            "calib_size                                                        \n",
            "500.0            0.782000       0.940270       0.899500   4.368020\n",
            "2000.0           0.782285       0.940550       0.896815   4.016885\n",
            "5000.0           0.783390       0.940905       0.900435   3.960175\n",
            "10000.0          0.783155       0.939965       0.898710   3.898550\n",
            "20000.0          0.782125       0.939780       0.899435   3.829120\n"
          ]
        }
      ]
    }
  ]
}