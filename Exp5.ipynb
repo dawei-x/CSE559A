{
  "cells": [
    {
      "cell_type": "code",
      "source": [
        "import numpy as np\n",
        "import torch\n",
        "import torch.nn as nn\n",
        "import torch.optim as optim\n",
        "import torchvision\n",
        "import torchvision.transforms as transforms\n",
        "import time\n",
        "from tqdm import tqdm\n",
        "from scipy.special import softmax \n",
        "import torch.backends.cudnn as cudnn\n",
        "import random\n",
        "import pickle\n",
        "import pandas as pd\n",
        "import torch.utils.data as tdata\n",
        "from scipy.stats import median_abs_deviation as mad\n",
        "import itertools"
      ],
      "metadata": {
        "id": "kGI8anG1lb28"
      },
      "execution_count": 7,
      "outputs": []
    },
    {
      "cell_type": "code",
      "execution_count": 8,
      "metadata": {
        "colab": {
          "base_uri": "https://localhost:8080/"
        },
        "id": "nLhcKJt-TYRv",
        "outputId": "ba57a8b2-f848-4ba7-a032-9a0e4d237bb5"
      },
      "outputs": [
        {
          "output_type": "stream",
          "name": "stdout",
          "text": [
            "Drive already mounted at /content/drive; to attempt to forcibly remount, call drive.mount(\"/content/drive\", force_remount=True).\n",
            "Data ready!\n"
          ]
        }
      ],
      "source": [
        "import os\n",
        "import shutil\n",
        "from google.colab import drive\n",
        "drive.mount('/content/drive')\n",
        "checkpoints = '/content/drive/My Drive/Colab Notebooks/cse559a/'\n",
        "if not os.path.exists(checkpoints):\n",
        "  os.makedirs(checkpoints)\n",
        "  \n",
        "if not os.path.exists('imagenet_val'):\n",
        "  if not os.path.exists(checkpoints + 'imagenet_val.tar'):\n",
        "    print(\"Downloading archive...\")\n",
        "    os.chdir(checkpoints)\n",
        "    !wget -nv -O imagenet_val.tar -L https://image-net.org/data/ILSVRC/2012/ILSVRC2012_img_val.tar\n",
        "    os.chdir('/content/')\n",
        "  print(\"Copying to local runtime...\")\n",
        "  shutil.copy(checkpoints + 'imagenet_val.tar', './imagenet_val.tar')\n",
        "  print(\"Uncompressing...\")\n",
        "  !mkdir imagenet_val\n",
        "  !tar -xf imagenet_val.tar -C ./imagenet_val/\n",
        "  !rm imagenet_val.tar\n",
        "  os.chdir('./imagenet_val') \n",
        "  !wget -qO- https://raw.githubusercontent.com/soumith/imagenetloader.torch/master/valprep.sh | bash\n",
        "  os.chdir('/content/')\n",
        "print(\"Data ready!\")\n",
        "\n",
        "if not os.path.exists('exp_v0.py'):\n",
        "  shutil.copy(checkpoints + 'exp_v0.py', './exp_v0.py')\n",
        "  print(\"File imported\")\n",
        "from exp_v0 import *"
      ]
    },
    {
      "cell_type": "code",
      "source": [
        "class ConformalModelLogits(nn.Module):\n",
        "    def __init__(self, model, calib_loader, alpha, kreg=None, lamda=None, randomized=True, allow_zero_sets=False, naive=False, LAC=False, pct_paramtune = 0.3, batch_size=32, lamda_criterion='size'):\n",
        "        super(ConformalModelLogits, self).__init__()\n",
        "        self.model = model \n",
        "        self.alpha = alpha\n",
        "        self.randomized = randomized\n",
        "        self.LAC = LAC\n",
        "        self.allow_zero_sets = allow_zero_sets\n",
        "        self.T = platt_logits(self, calib_loader)\n",
        "\n",
        "        if (kreg == None or lamda == None) and not naive and not LAC:\n",
        "            kreg, lamda, calib_logits = pick_parameters(model, calib_loader.dataset, alpha, kreg, lamda, randomized, allow_zero_sets, pct_paramtune, batch_size, lamda_criterion)\n",
        "            calib_loader = tdata.DataLoader(calib_logits, batch_size=batch_size, shuffle=False, pin_memory=True)\n",
        "\n",
        "        self.penalties = np.zeros((1, calib_loader.dataset[0][0].shape[0]))\n",
        "        if not (kreg == None) and not naive and not LAC:\n",
        "            self.penalties[:, kreg:] += lamda\n",
        "        self.Qhat = 1-alpha\n",
        "        if not naive and not LAC:\n",
        "            self.Qhat = conformal_calibration_logits(self, calib_loader)\n",
        "        elif not naive and LAC:\n",
        "            gt_locs_cal = np.array([np.where(np.argsort(x[0]).flip(dims=(0,)) == x[1])[0][0] for x in calib_loader.dataset])\n",
        "            scores_cal = 1-np.array([np.sort(torch.softmax(calib_loader.dataset[i][0]/self.T.item(), dim=0))[::-1][gt_locs_cal[i]] for i in range(len(calib_loader.dataset))]) \n",
        "            self.Qhat = np.quantile( scores_cal , np.ceil((scores_cal.shape[0]+1) * (1-alpha)) / scores_cal.shape[0] )\n",
        "\n",
        "    def forward(self, logits, randomized=None, allow_zero_sets=None):\n",
        "        if randomized == None:\n",
        "            randomized = self.randomized\n",
        "        if allow_zero_sets == None:\n",
        "            allow_zero_sets = self.allow_zero_sets\n",
        "        \n",
        "        with torch.no_grad():\n",
        "            logits_numpy = logits.detach().cpu().numpy()\n",
        "            scores = softmax(logits_numpy/self.T.item(), axis=1)\n",
        "\n",
        "            if not self.LAC:\n",
        "                I, ordered, cumsum = sort_sum(scores)\n",
        "\n",
        "                S = gcq(scores, self.Qhat, I=I, ordered=ordered, cumsum=cumsum, penalties=self.penalties, randomized=randomized, allow_zero_sets=allow_zero_sets)\n",
        "            else:\n",
        "                S = [ np.where( (1-scores[i,:]) < self.Qhat )[0] for i in range(scores.shape[0]) ]\n",
        "\n",
        "        return logits, S\n",
        "\n",
        "def conformal_calibration_logits(cmodel, calib_loader):\n",
        "    with torch.no_grad():\n",
        "        E = np.array([])\n",
        "        for logits, targets in calib_loader:\n",
        "            logits = logits.detach().cpu().numpy()\n",
        "\n",
        "            scores = softmax(logits/cmodel.T.item(), axis=1)\n",
        "\n",
        "            I, ordered, cumsum = sort_sum(scores)\n",
        "\n",
        "            E = np.concatenate((E,giq(scores,targets,I=I,ordered=ordered,cumsum=cumsum,penalties=cmodel.penalties,randomized=True,allow_zero_sets=True)))\n",
        "            \n",
        "        # Qhat = np.quantile(E,1-cmodel.alpha,interpolation='higher')\n",
        "        Qhat = np.quantile(E, 1 - cmodel.alpha, method='higher')\n",
        "\n",
        "        return Qhat \n",
        "\n",
        "def platt_logits(cmodel, calib_loader, max_iters=10, lr=0.01, epsilon=0.01):\n",
        "    nll_criterion = nn.CrossEntropyLoss().cuda()\n",
        "\n",
        "    T = nn.Parameter(torch.Tensor([1.3]).cuda())\n",
        "\n",
        "    optimizer = optim.SGD([T], lr=lr)\n",
        "    for iter in range(max_iters):\n",
        "        T_old = T.item()\n",
        "        for x, targets in calib_loader:\n",
        "            optimizer.zero_grad()\n",
        "            x = x.cuda()\n",
        "            x.requires_grad = True\n",
        "            out = x/T\n",
        "            loss = nll_criterion(out, targets.long().cuda())\n",
        "            loss.backward()\n",
        "            optimizer.step()\n",
        "        if abs(T_old - T.item()) < epsilon:\n",
        "            break\n",
        "    return T \n",
        "\n",
        "### CORE CONFORMAL INFERENCE FUNCTIONS\n",
        "\n",
        "# Generalized conditional quantile function.\n",
        "def gcq(scores, tau, I, ordered, cumsum, penalties, randomized, allow_zero_sets):\n",
        "    penalties_cumsum = np.cumsum(penalties, axis=1)\n",
        "    sizes_base = ((cumsum + penalties_cumsum) <= tau).sum(axis=1) + 1  # 1 - 1001\n",
        "    sizes_base = np.minimum(sizes_base, scores.shape[1]) # 1-1000\n",
        "\n",
        "    if randomized:\n",
        "        V = np.zeros(sizes_base.shape)\n",
        "        for i in range(sizes_base.shape[0]):\n",
        "            V[i] = 1/ordered[i,sizes_base[i]-1] * \\\n",
        "                    (tau-(cumsum[i,sizes_base[i]-1]-ordered[i,sizes_base[i]-1])-penalties_cumsum[0,sizes_base[i]-1]) # -1 since sizes_base \\in {1,...,1000}.\n",
        "\n",
        "        sizes = sizes_base - (np.random.random(V.shape) >= V).astype(int)\n",
        "    else:\n",
        "        sizes = sizes_base\n",
        "\n",
        "    if tau == 1.0:\n",
        "        sizes[:] = cumsum.shape[1] # always predict max size if alpha==0. (Avoids numerical error.)\n",
        "\n",
        "    if not allow_zero_sets:\n",
        "        sizes[sizes == 0] = 1 # allow the user the option to never have empty sets (will lead to incorrect coverage if 1-alpha < model's top-1 accuracy\n",
        "\n",
        "    S = list()\n",
        "\n",
        "    # Construct S from equation (5)\n",
        "    for i in range(I.shape[0]):\n",
        "        S = S + [I[i,0:sizes[i]],]\n",
        "\n",
        "    return S\n",
        "\n",
        "# Get the 'p-value'\n",
        "def get_tau(score, target, I, ordered, cumsum, penalty, randomized, allow_zero_sets): # For one example\n",
        "    idx = np.where(I==target)\n",
        "    tau_nonrandom = cumsum[idx]\n",
        "\n",
        "    if not randomized:\n",
        "        return tau_nonrandom + penalty[0]\n",
        "    \n",
        "    U = np.random.random()\n",
        "\n",
        "    if idx == (0,0):\n",
        "        if not allow_zero_sets:\n",
        "            return tau_nonrandom + penalty[0]\n",
        "        else:\n",
        "            return U * tau_nonrandom + penalty[0] \n",
        "    else:\n",
        "        return U * ordered[idx] + cumsum[(idx[0],idx[1]-1)] + (penalty[0:(idx[1][0]+1)]).sum()\n",
        "\n",
        "# Gets the histogram of Taus. \n",
        "def giq(scores, targets, I, ordered, cumsum, penalties, randomized, allow_zero_sets):\n",
        "    \"\"\"\n",
        "        Generalized inverse quantile conformity score function.\n",
        "        E from equation (7) in Romano, Sesia, Candes.  Find the minimum tau in [0, 1] such that the correct label enters.\n",
        "    \"\"\"\n",
        "    E = -np.ones((scores.shape[0],))\n",
        "    for i in range(scores.shape[0]):\n",
        "        E[i] = get_tau(scores[i:i+1,:],targets[i].item(),I[i:i+1,:],ordered[i:i+1,:],cumsum[i:i+1,:],penalties[0,:],randomized=randomized, allow_zero_sets=allow_zero_sets)\n",
        "\n",
        "    return E\n",
        "\n",
        "### AUTOMATIC PARAMETER TUNING FUNCTIONS\n",
        "def pick_kreg(paramtune_logits, alpha):\n",
        "    gt_locs_kstar = np.array([np.where(np.argsort(x[0]).flip(dims=(0,)) == x[1])[0][0] for x in paramtune_logits])\n",
        "    #kstar = np.quantile(gt_locs_kstar, 1-alpha, interpolation='higher') + 1\n",
        "    kstar = np.quantile(gt_locs_kstar, 1-alpha, method='higher') + 1\n",
        "    return kstar \n",
        "\n",
        "def pick_lamda_size(model, paramtune_loader, alpha, kreg, randomized, allow_zero_sets):\n",
        "    # Calculate lamda_star\n",
        "    best_size = iter(paramtune_loader).__next__()[0][1].shape[0] # number of classes \n",
        "    # Use the paramtune data to pick lamda.  Does not violate exchangeability.\n",
        "    for temp_lam in [0.001, 0.01, 0.1, 0.2, 0.5]: # predefined grid, change if more precision desired.\n",
        "        conformal_model = ConformalModelLogits(model, paramtune_loader, alpha=alpha, kreg=kreg, lamda=temp_lam, randomized=randomized, allow_zero_sets=allow_zero_sets, naive=False)\n",
        "        top1_avg, top5_avg, cvg_avg, sz_avg = validate(paramtune_loader, conformal_model, print_bool=False)\n",
        "        if sz_avg < best_size:\n",
        "            best_size = sz_avg\n",
        "            lamda_star = temp_lam\n",
        "    return lamda_star\n",
        "\n",
        "def pick_lamda_adaptiveness(model, paramtune_loader, alpha, kreg, randomized, allow_zero_sets, strata=[[0,1],[2,3],[4,6],[7,10],[11,100],[101,1000]]):\n",
        "    # Calculate lamda_star\n",
        "    lamda_star = 0\n",
        "    best_violation = 1\n",
        "    # Use the paramtune data to pick lamda.  Does not violate exchangeability.\n",
        "    for temp_lam in [0, 1e-5, 1e-4, 8e-4, 9e-4, 1e-3, 1.5e-3, 2e-3]: # predefined grid, change if more precision desired.\n",
        "        conformal_model = ConformalModelLogits(model, paramtune_loader, alpha=alpha, kreg=kreg, lamda=temp_lam, randomized=randomized, allow_zero_sets=allow_zero_sets, naive=False)\n",
        "        curr_violation = get_violation(conformal_model, paramtune_loader, strata, alpha)\n",
        "        if curr_violation < best_violation:\n",
        "            best_violation = curr_violation \n",
        "            lamda_star = temp_lam\n",
        "    return lamda_star\n",
        "\n",
        "def pick_parameters(model, calib_logits, alpha, kreg, lamda, randomized, allow_zero_sets, pct_paramtune, batch_size, lamda_criterion):\n",
        "    num_paramtune = int(np.ceil(pct_paramtune * len(calib_logits)))\n",
        "    paramtune_logits, calib_logits = tdata.random_split(calib_logits, [num_paramtune, len(calib_logits)-num_paramtune])\n",
        "    calib_loader = tdata.DataLoader(calib_logits, batch_size=batch_size, shuffle=False, pin_memory=True)\n",
        "    paramtune_loader = tdata.DataLoader(paramtune_logits, batch_size=batch_size, shuffle=False, pin_memory=True)\n",
        "\n",
        "    if kreg == None:\n",
        "        kreg = pick_kreg(paramtune_logits, alpha)\n",
        "    if lamda == None:\n",
        "        if lamda_criterion == \"size\":\n",
        "            lamda = pick_lamda_size(model, paramtune_loader, alpha, kreg, randomized, allow_zero_sets)\n",
        "        elif lamda_criterion == \"adaptiveness\":\n",
        "            lamda = pick_lamda_adaptiveness(model, paramtune_loader, alpha, kreg, randomized, allow_zero_sets)\n",
        "    return kreg, lamda, calib_logits\n",
        "\n",
        "def get_violation(cmodel, loader_paramtune, strata, alpha):\n",
        "    df = pd.DataFrame(columns=['size', 'correct'])\n",
        "    for logit, target in loader_paramtune:\n",
        "        # compute output\n",
        "        output, S = cmodel(logit) # This is a 'dummy model' which takes logits, for efficiency.\n",
        "        # measure accuracy and record loss\n",
        "        size = np.array([x.size for x in S])\n",
        "        I, _, _ = sort_sum(logit.numpy()) \n",
        "        correct = np.zeros_like(size)\n",
        "        for j in range(correct.shape[0]):\n",
        "            correct[j] = int( target[j] in list(S[j]) )\n",
        "        batch_df = pd.DataFrame({'size': size, 'correct': correct})\n",
        "        df = pd.concat([df,batch_df], ignore_index=True)\n",
        "    wc_violation = 0\n",
        "    for stratum in strata:\n",
        "        temp_df = df[ (df['size'] >= stratum[0]) & (df['size'] <= stratum[1]) ]\n",
        "        if len(temp_df) == 0:\n",
        "            continue\n",
        "        stratum_violation = abs(temp_df.correct.mean()-(1-alpha))\n",
        "        wc_violation = max(wc_violation, stratum_violation)\n",
        "    return wc_violation # the violation"
      ],
      "metadata": {
        "id": "9nRH0e_aZIS7"
      },
      "execution_count": 9,
      "outputs": []
    },
    {
      "cell_type": "code",
      "source": [
        "def make_table(df):\n",
        "  round_to_n = lambda x, n: np.round(x, -int(np.floor(np.log10(x))) + (n - 1)) # Rounds to sig figs\n",
        "  table = \"\"\n",
        "  table += \"\\\\begin{table}[t]\\n\"\n",
        "  table += \"\\\\centering\\n\"\n",
        "  table += \"\\\\small\\n\"\n",
        "  table += \"\\\\begin{tabular}{lcccc}\\n\"\n",
        "  table += \"\\\\toprule \\n\"\n",
        "  table += \" & \\\\multicolumn{2}{c}{Violation at $\\\\alpha=10\\\\%$}  & \\\\multicolumn{2}{c}{Violation at $\\\\alpha=5\\\\%$} \\\\\\\\ \\n\"\n",
        "  table += \"\\\\cmidrule(r){2-3}  \\\\cmidrule(r){4-5} \\n\"\n",
        "  table += \"Model & APS & RAPS & APS & RAPS \\\\\\\\ \\n\"\n",
        "  table += \"\\\\midrule \\n\"\n",
        "\n",
        "  for model in df.Model.unique():\n",
        "      dfmodel = df[df.Model == model]\n",
        "      table += model + \" & \"\n",
        "      table += str(np.round(dfmodel[dfmodel.alpha == 0.1][\"APS violation\"].item(),3)) + \" & \"\n",
        "      table += \"\\\\bf \" + str(np.round(dfmodel[dfmodel.alpha == 0.1][\"RAPS violation\"].item(),3)) + \" & \"\n",
        "      table += str(np.round(dfmodel[dfmodel.alpha == 0.05][\"APS violation\"].item(),3)) + \" & \"\n",
        "      table += \"\\\\bf \" + str(np.round(dfmodel[dfmodel.alpha == 0.05][\"RAPS violation\"].item(),3)) + \" \" \n",
        "      table += \"\\\\\\\\ \\n\"\n",
        "  \n",
        "  table += \"\\\\bottomrule \\n\"\n",
        "  table += \"\\\\end{tabular} \\n\"\n",
        "  table += \"\\\\caption{\\\\textbf{Adaptiveness results after automatically tuning $\\\\lambda$.} We report the median worst-stratum coverage violations of \\\\aps\\\\ and \\\\raps\\\\ over 10 trials. See Appendix~\\\\ref{app:optimizing-adaptiveness} for experimental details.} \\n\"\n",
        "  table += \"\\\\label{table:tunelambda} \\n\"\n",
        "  table += \"\\\\end{table} \\n\"\n",
        "  return table    \n",
        "\n",
        "# Returns a dataframe with:\n",
        "# 1) Set sizes for all test-time examples.\n",
        "# 2) topk for each example, where topk means which score was correct.\n",
        "def get_worst_violation(modelname, datasetname, datasetpath, alpha, strata, randomized, n_data_conf, n_data_val, pct_paramtune, bsz):\n",
        "  ### Data Loading\n",
        "  logits = get_logits_dataset(modelname, datasetname, datasetpath)\n",
        "  calib_logits, val_logits = tdata.random_split(logits, [n_data_conf, len(logits)-n_data_conf]) # A new random split for every trial\n",
        "  # Prepare the loaders\n",
        "  calib_loader = torch.utils.data.DataLoader(calib_logits, batch_size = bsz, shuffle=False, pin_memory=True)\n",
        "  val_loader = torch.utils.data.DataLoader(val_logits, batch_size = bsz, shuffle=False, pin_memory=True)\n",
        "\n",
        "  ### Instantiate and wrap model\n",
        "  model = create_model(modelname)\n",
        "  # Conformalize the model with the APS parameter choice\n",
        "  conformal_model = ConformalModelLogits(model, calib_loader, alpha=alpha, kreg=0, lamda=0, randomized=randomized, allow_zero_sets=True, naive=False)\n",
        "  aps_worst_violation = get_violation(conformal_model, val_loader, strata, alpha)\n",
        "  # Conformalize the model with an optimal parameter choice\n",
        "  conformal_model = ConformalModelLogits(model, calib_loader, alpha=alpha, kreg=None, lamda=None, randomized=randomized, allow_zero_sets=True, naive=False, pct_paramtune=pct_paramtune, lamda_criterion='adaptiveness')\n",
        "  raps_worst_violation = get_violation(conformal_model, val_loader, strata, alpha)\n",
        "\n",
        "  return aps_worst_violation, raps_worst_violation \n",
        "\n",
        "def experiment(modelname, datasetname, datasetpath, num_trials, alpha, strata, randomized, n_data_conf, n_data_val, pct_paramtune, bsz):\n",
        "  _fix_randomness()\n",
        "  ### Data Loading\n",
        "  logits = get_logits_dataset(modelname, datasetname, datasetpath)\n",
        "\n",
        "  ### Instantiate and wrap model\n",
        "  model = create_model(modelname)\n",
        "\n",
        "  ### Perform experiment\n",
        "  aps_violations = np.zeros((num_trials,))\n",
        "  raps_violations = np.zeros((num_trials,))\n",
        "  for i in tqdm(range(num_trials)):\n",
        "      aps_violations[i], raps_violations[i] = get_worst_violation(modelname, datasetname, datasetpath, alpha, strata, randomized, n_data_conf, n_data_val, pct_paramtune, bsz)\n",
        "      print(f'\\n\\tAPS Violation: {np.median(aps_violations[0:i+1]):.3f}, RAPS Violation: {np.median(raps_violations[0:i+1]):.3f}\\033[F', end='')\n",
        "  print('')\n",
        "  return np.median(aps_violations), np.median(raps_violations)\n",
        "\n",
        "def _fix_randomness(seed=0):\n",
        "  ### Fix randomness \n",
        "  np.random.seed(seed=seed)\n",
        "  torch.manual_seed(seed)\n",
        "  torch.cuda.manual_seed(seed)\n",
        "  random.seed(seed)\n",
        "\n",
        "\n",
        "  "
      ],
      "metadata": {
        "id": "ZVwdw7Dc9Zqp"
      },
      "execution_count": 10,
      "outputs": []
    },
    {
      "cell_type": "code",
      "source": [
        "def trial(model, logits, alpha, kreg, lamda, randomized, n_data_conf, n_data_val, bsz, naive_bool):\n",
        "    logits_cal, logits_val = split2(logits, n_data_conf, n_data_val) # A new random split for every trial\n",
        "    # Prepare the loaders\n",
        "    loader_cal = torch.utils.data.DataLoader(logits_cal, batch_size = bsz, shuffle=False, pin_memory=True)\n",
        "    loader_val = torch.utils.data.DataLoader(logits_val, batch_size = bsz, shuffle=False, pin_memory=True)\n",
        "    # Conformalize the model\n",
        "    conformal_model = ConformalModelLogits(model, loader_cal, alpha=alpha, kreg=kreg, lamda=lamda, randomized=randomized, allow_zero_sets=True, naive=naive_bool)\n",
        "    # Collect results\n",
        "    top1_avg, top5_avg, cvg_avg, sz_avg = validate(loader_val, conformal_model, print_bool=False)\n",
        "    return top1_avg, top5_avg, cvg_avg, sz_avg\n",
        "\n",
        "def experiment(modelname, datasetname, datasetpath, num_trials, alpha, kreg, lamda, randomized, n_data_conf, n_data_val, bsz, predictor):\n",
        "    ### Experiment logic\n",
        "    naive_bool = predictor == 'Naive'\n",
        "    if predictor in ['Naive', 'APS']:\n",
        "        lamda = 0 # No regularization.\n",
        "\n",
        "    ### Data Loading\n",
        "    logits = get_logits_dataset(modelname, datasetname, datasetpath)\n",
        "\n",
        "    ### Instantiate and wrap model\n",
        "    model = create_model(modelname)\n",
        "\n",
        "    ### Perform experiment\n",
        "    top1s = np.zeros((num_trials,))\n",
        "    top5s = np.zeros((num_trials,))\n",
        "    coverages = np.zeros((num_trials,))\n",
        "    sizes = np.zeros((num_trials,))\n",
        "    for i in tqdm(range(num_trials)):\n",
        "        top1_avg, top5_avg, cvg_avg, sz_avg = trial(model, logits, alpha, kreg, lamda, randomized, n_data_conf, n_data_val, bsz, naive_bool)\n",
        "        top1s[i] = top1_avg\n",
        "        top5s[i] = top5_avg\n",
        "        coverages[i] = cvg_avg\n",
        "        sizes[i] = sz_avg\n",
        "        print(f'\\n\\tTop1: {np.median(top1s[0:i+1]):.3f}, Top5: {np.median(top5s[0:i+1]):.3f}, Coverage: {np.median(coverages[0:i+1]):.3f}, Size: {np.median(sizes[0:i+1]):.3f}\\033[F', end='')\n",
        "    print('')\n",
        "    return np.median(top1s), np.median(top5s), np.median(coverages), np.median(sizes), mad(top1s), mad(top5s), mad(coverages), mad(sizes)\n",
        "\n",
        "def _fix_randomness(seed):\n",
        "    np.random.seed(seed=seed)\n",
        "    torch.manual_seed(seed)\n",
        "    torch.cuda.manual_seed(seed)\n",
        "    random.seed(seed)\n",
        "\n",
        "def _format_appendix_table(df):\n",
        "    kregs = df.kreg.unique()\n",
        "    lamdas = df[\"lambda\"].unique()\n",
        "    num_kreg = len(kregs)\n",
        "    num_lamda = len(lamdas)\n",
        "    latex_table = '''\\\\begin{table}[t] \\n \n",
        "\\\\centering \\n\n",
        "\\\\tiny \\n\n",
        "\\\\begin{tabular}{l'''\n",
        "    for i in range(num_kreg):\n",
        "        latex_table += \"c\"\n",
        "\n",
        "    latex_table += '''} \\n\n",
        "\\\\toprule\\n\n",
        "$k_{reg} | \\lambda$ & '''\n",
        "    for i in range(num_lamda):\n",
        "        latex_table += str(lamdas[i]) + ' '\n",
        "        if i < (num_lamda - 1):\n",
        "            latex_table += ' & '\n",
        "\n",
        "    latex_table += \"\\\\\\\\\\n\"\n",
        "    latex_table += \"\\\\midrule\\n\"\n",
        "\n",
        "    for kreg in kregs:\n",
        "        latex_table += str(kreg) + ' & '\n",
        "        for i in range(num_lamda):\n",
        "            latex_table += str(df[(df[\"lambda\"] == lamdas[i]) & (df[\"kreg\"] == kreg)][\"Size\"].item()) + ' '\n",
        "            if i < (num_lamda - 1):\n",
        "                latex_table += ' & '\n",
        "        latex_table += \"\\\\\\\\\\n\"\n",
        "\n",
        "    latex_table += \"\\\\bottomrule\\n\"\n",
        "    latex_table += \"\\\\end{tabular}\\n\"\n",
        "    latex_table += \"\\\\caption{Table caption.}\\n\"\n",
        "    latex_table += \"\\\\label{table:parameters}\\n\"\n",
        "    latex_table += \"\\\\end{table}\\n\"\n",
        "        \n",
        "    return latex_table"
      ],
      "metadata": {
        "id": "BuD6rjzMdn2D"
      },
      "execution_count": 11,
      "outputs": []
    },
    {
      "cell_type": "code",
      "source": [
        "### Fix randomness \n",
        "_fix_randomness(seed=0)\n",
        "\n",
        "### Configure experiment\n",
        "modelnames = ['ResNet152']\n",
        "alphas = [0.10]\n",
        "kregs = [1, 2, 5, 10, 50]\n",
        "lamdas = [0, 0.0001, 0.001, 0.01, 0.02, 0.05, 0.2, 0.5, 0.7, 1.0]\n",
        "predictors = ['RAPS']\n",
        "params = list(itertools.product(modelnames, alphas, predictors,kregs, lamdas))\n",
        "m = len(params)\n",
        "datasetname = 'Imagenet'\n",
        "datasetpath = './imagenet_val/'\n",
        "num_trials = 10\n",
        "randomized = True\n",
        "n_data_conf = 2000\n",
        "n_data_val = 2000\n",
        "bsz = 64\n",
        "cudnn.benchmark = True\n",
        "\n",
        "### Perform the experiment\n",
        "df = pd.DataFrame(columns = [\"Model\",\"Predictor\",\"Top1\",\"Top5\",\"alpha\",\"kreg\",\"lambda\",\"Coverage\",\"Size\"])\n",
        "for i in range(m):\n",
        "    _fix_randomness(seed=0)\n",
        "    modelname, alpha, predictor, kreg, lamda = params[i]\n",
        "    print(f'Model: {modelname} | Desired coverage: {1-alpha} | kreg: {kreg} | lambda: {lamda} ')\n",
        "\n",
        "    out = experiment(modelname, datasetname, datasetpath, num_trials, params[i][1], kreg, lamda, randomized, n_data_conf, n_data_val, bsz, predictor) \n",
        "    new_row = pd.DataFrame([{\"Model\": modelname,\n",
        "                    \"Predictor\": predictor,\n",
        "                    \"Top1\": np.round(out[0],3),\n",
        "                    \"Top5\": np.round(out[1],3),\n",
        "                    \"alpha\": alpha,\n",
        "                    \"kreg\": kreg,\n",
        "                    \"lambda\": lamda,\n",
        "                    \"Coverage\": np.round(out[2],3),\n",
        "                    \"Size\": np.round(out[3],3)}])\n",
        "    df = pd.concat([df, new_row], ignore_index=True)\n",
        "\n",
        "## Print the TeX table\n",
        "table = open(\"./appendix_parameter_table.tex\", 'w')\n",
        "table.write(_format_appendix_table(df))\n",
        "table.close()"
      ],
      "metadata": {
        "id": "D7MyV9Thdu8m",
        "colab": {
          "base_uri": "https://localhost:8080/"
        },
        "outputId": "ea40a2fa-2e7f-4308-b298-0022c6d67456"
      },
      "execution_count": 12,
      "outputs": [
        {
          "output_type": "stream",
          "name": "stdout",
          "text": [
            "Model: ResNet152 | Desired coverage: 0.9 | kreg: 1 | lambda: 0 \n"
          ]
        },
        {
          "output_type": "stream",
          "name": "stderr",
          "text": [
            " 10%|█         | 1/10 [00:00<00:07,  1.13it/s]"
          ]
        },
        {
          "output_type": "stream",
          "name": "stdout",
          "text": [
            "\n",
            "\tTop1: 0.781, Top5: 0.945, Coverage: 0.910, Size: 11.450\u001b[F"
          ]
        },
        {
          "output_type": "stream",
          "name": "stderr",
          "text": [
            "\r 20%|██        | 2/10 [00:01<00:06,  1.20it/s]"
          ]
        },
        {
          "output_type": "stream",
          "name": "stdout",
          "text": [
            "\n",
            "\tTop1: 0.786, Top5: 0.942, Coverage: 0.907, Size: 11.628\u001b[F"
          ]
        },
        {
          "output_type": "stream",
          "name": "stderr",
          "text": [
            "\r 30%|███       | 3/10 [00:02<00:05,  1.20it/s]"
          ]
        },
        {
          "output_type": "stream",
          "name": "stdout",
          "text": [
            "\n",
            "\tTop1: 0.781, Top5: 0.940, Coverage: 0.904, Size: 11.806\u001b[F"
          ]
        },
        {
          "output_type": "stream",
          "name": "stderr",
          "text": [
            "\r 40%|████      | 4/10 [00:03<00:04,  1.21it/s]"
          ]
        },
        {
          "output_type": "stream",
          "name": "stdout",
          "text": [
            "\n",
            "\tTop1: 0.786, Top5: 0.942, Coverage: 0.907, Size: 11.628\u001b[F"
          ]
        },
        {
          "output_type": "stream",
          "name": "stderr",
          "text": [
            "\r 50%|█████     | 5/10 [00:04<00:04,  1.19it/s]"
          ]
        },
        {
          "output_type": "stream",
          "name": "stdout",
          "text": [
            "\n",
            "\tTop1: 0.786, Top5: 0.940, Coverage: 0.904, Size: 11.450\u001b[F"
          ]
        },
        {
          "output_type": "stream",
          "name": "stderr",
          "text": [
            "\r 60%|██████    | 6/10 [00:04<00:03,  1.21it/s]"
          ]
        },
        {
          "output_type": "stream",
          "name": "stdout",
          "text": [
            "\n",
            "\tTop1: 0.788, Top5: 0.942, Coverage: 0.906, Size: 11.371\u001b[F"
          ]
        },
        {
          "output_type": "stream",
          "name": "stderr",
          "text": [
            "\r 70%|███████   | 7/10 [00:05<00:02,  1.22it/s]"
          ]
        },
        {
          "output_type": "stream",
          "name": "stdout",
          "text": [
            "\n",
            "\tTop1: 0.790, Top5: 0.944, Coverage: 0.904, Size: 11.292\u001b[F"
          ]
        },
        {
          "output_type": "stream",
          "name": "stderr",
          "text": [
            "\r 80%|████████  | 8/10 [00:06<00:01,  1.23it/s]"
          ]
        },
        {
          "output_type": "stream",
          "name": "stdout",
          "text": [
            "\n",
            "\tTop1: 0.790, Top5: 0.943, Coverage: 0.901, Size: 11.212\u001b[F"
          ]
        },
        {
          "output_type": "stream",
          "name": "stderr",
          "text": [
            "\r 90%|█████████ | 9/10 [00:07<00:00,  1.24it/s]"
          ]
        },
        {
          "output_type": "stream",
          "name": "stdout",
          "text": [
            "\n",
            "\tTop1: 0.790, Top5: 0.944, Coverage: 0.899, Size: 11.132\u001b[F"
          ]
        },
        {
          "output_type": "stream",
          "name": "stderr",
          "text": [
            "100%|██████████| 10/10 [00:08<00:00,  1.23it/s]"
          ]
        },
        {
          "output_type": "stream",
          "name": "stdout",
          "text": [
            "\n",
            "\tTop1: 0.790, Top5: 0.944, Coverage: 0.899, Size: 11.212\u001b[F\n",
            "Model: ResNet152 | Desired coverage: 0.9 | kreg: 1 | lambda: 0.0001 \n"
          ]
        },
        {
          "output_type": "stream",
          "name": "stderr",
          "text": [
            "\n",
            " 10%|█         | 1/10 [00:00<00:08,  1.12it/s]"
          ]
        },
        {
          "output_type": "stream",
          "name": "stdout",
          "text": [
            "\n",
            "\tTop1: 0.781, Top5: 0.945, Coverage: 0.909, Size: 10.279\u001b[F"
          ]
        },
        {
          "output_type": "stream",
          "name": "stderr",
          "text": [
            "\r 20%|██        | 2/10 [00:01<00:07,  1.07it/s]"
          ]
        },
        {
          "output_type": "stream",
          "name": "stdout",
          "text": [
            "\n",
            "\tTop1: 0.786, Top5: 0.942, Coverage: 0.907, Size: 10.522\u001b[F"
          ]
        },
        {
          "output_type": "stream",
          "name": "stderr",
          "text": [
            "\r 30%|███       | 3/10 [00:02<00:06,  1.04it/s]"
          ]
        },
        {
          "output_type": "stream",
          "name": "stdout",
          "text": [
            "\n",
            "\tTop1: 0.781, Top5: 0.940, Coverage: 0.904, Size: 10.764\u001b[F"
          ]
        },
        {
          "output_type": "stream",
          "name": "stderr",
          "text": [
            "\r 40%|████      | 4/10 [00:03<00:05,  1.03it/s]"
          ]
        },
        {
          "output_type": "stream",
          "name": "stdout",
          "text": [
            "\n",
            "\tTop1: 0.786, Top5: 0.942, Coverage: 0.907, Size: 10.714\u001b[F"
          ]
        },
        {
          "output_type": "stream",
          "name": "stderr",
          "text": [
            "\r 50%|█████     | 5/10 [00:04<00:04,  1.01it/s]"
          ]
        },
        {
          "output_type": "stream",
          "name": "stdout",
          "text": [
            "\n",
            "\tTop1: 0.786, Top5: 0.940, Coverage: 0.904, Size: 10.664\u001b[F"
          ]
        },
        {
          "output_type": "stream",
          "name": "stderr",
          "text": [
            "\r 60%|██████    | 6/10 [00:05<00:03,  1.08it/s]"
          ]
        },
        {
          "output_type": "stream",
          "name": "stdout",
          "text": [
            "\n",
            "\tTop1: 0.788, Top5: 0.942, Coverage: 0.906, Size: 10.471\u001b[F"
          ]
        },
        {
          "output_type": "stream",
          "name": "stderr",
          "text": [
            "\r 70%|███████   | 7/10 [00:06<00:02,  1.13it/s]"
          ]
        },
        {
          "output_type": "stream",
          "name": "stdout",
          "text": [
            "\n",
            "\tTop1: 0.790, Top5: 0.944, Coverage: 0.904, Size: 10.279\u001b[F"
          ]
        },
        {
          "output_type": "stream",
          "name": "stderr",
          "text": [
            "\r 80%|████████  | 8/10 [00:07<00:01,  1.16it/s]"
          ]
        },
        {
          "output_type": "stream",
          "name": "stdout",
          "text": [
            "\n",
            "\tTop1: 0.790, Top5: 0.943, Coverage: 0.901, Size: 10.155\u001b[F"
          ]
        },
        {
          "output_type": "stream",
          "name": "stderr",
          "text": [
            "\r 90%|█████████ | 9/10 [00:08<00:00,  1.18it/s]"
          ]
        },
        {
          "output_type": "stream",
          "name": "stdout",
          "text": [
            "\n",
            "\tTop1: 0.790, Top5: 0.944, Coverage: 0.899, Size: 10.031\u001b[F"
          ]
        },
        {
          "output_type": "stream",
          "name": "stderr",
          "text": [
            "100%|██████████| 10/10 [00:08<00:00,  1.13it/s]"
          ]
        },
        {
          "output_type": "stream",
          "name": "stdout",
          "text": [
            "\n",
            "\tTop1: 0.790, Top5: 0.944, Coverage: 0.899, Size: 10.155\u001b[F\n",
            "Model: ResNet152 | Desired coverage: 0.9 | kreg: 1 | lambda: 0.001 \n"
          ]
        },
        {
          "output_type": "stream",
          "name": "stderr",
          "text": [
            "\n",
            " 10%|█         | 1/10 [00:00<00:07,  1.15it/s]"
          ]
        },
        {
          "output_type": "stream",
          "name": "stdout",
          "text": [
            "\n",
            "\tTop1: 0.781, Top5: 0.945, Coverage: 0.907, Size: 7.112\u001b[F"
          ]
        },
        {
          "output_type": "stream",
          "name": "stderr",
          "text": [
            "\r 20%|██        | 2/10 [00:01<00:06,  1.26it/s]"
          ]
        },
        {
          "output_type": "stream",
          "name": "stdout",
          "text": [
            "\n",
            "\tTop1: 0.786, Top5: 0.942, Coverage: 0.905, Size: 7.255\u001b[F"
          ]
        },
        {
          "output_type": "stream",
          "name": "stderr",
          "text": [
            "\r 30%|███       | 3/10 [00:02<00:05,  1.27it/s]"
          ]
        },
        {
          "output_type": "stream",
          "name": "stdout",
          "text": [
            "\n",
            "\tTop1: 0.781, Top5: 0.940, Coverage: 0.903, Size: 7.397\u001b[F"
          ]
        },
        {
          "output_type": "stream",
          "name": "stderr",
          "text": [
            "\r 40%|████      | 4/10 [00:03<00:04,  1.27it/s]"
          ]
        },
        {
          "output_type": "stream",
          "name": "stdout",
          "text": [
            "\n",
            "\tTop1: 0.786, Top5: 0.942, Coverage: 0.905, Size: 7.385\u001b[F"
          ]
        },
        {
          "output_type": "stream",
          "name": "stderr",
          "text": [
            "\r 50%|█████     | 5/10 [00:04<00:04,  1.23it/s]"
          ]
        },
        {
          "output_type": "stream",
          "name": "stdout",
          "text": [
            "\n",
            "\tTop1: 0.786, Top5: 0.940, Coverage: 0.903, Size: 7.372\u001b[F"
          ]
        },
        {
          "output_type": "stream",
          "name": "stderr",
          "text": [
            "\r 60%|██████    | 6/10 [00:05<00:03,  1.15it/s]"
          ]
        },
        {
          "output_type": "stream",
          "name": "stdout",
          "text": [
            "\n",
            "\tTop1: 0.788, Top5: 0.942, Coverage: 0.905, Size: 7.242\u001b[F"
          ]
        },
        {
          "output_type": "stream",
          "name": "stderr",
          "text": [
            "\r 70%|███████   | 7/10 [00:06<00:02,  1.07it/s]"
          ]
        },
        {
          "output_type": "stream",
          "name": "stdout",
          "text": [
            "\n",
            "\tTop1: 0.790, Top5: 0.944, Coverage: 0.903, Size: 7.112\u001b[F"
          ]
        },
        {
          "output_type": "stream",
          "name": "stderr",
          "text": [
            "\r 80%|████████  | 8/10 [00:07<00:01,  1.02it/s]"
          ]
        },
        {
          "output_type": "stream",
          "name": "stdout",
          "text": [
            "\n",
            "\tTop1: 0.790, Top5: 0.943, Coverage: 0.900, Size: 7.021\u001b[F"
          ]
        },
        {
          "output_type": "stream",
          "name": "stderr",
          "text": [
            "\r 90%|█████████ | 9/10 [00:08<00:01,  1.08s/it]"
          ]
        },
        {
          "output_type": "stream",
          "name": "stdout",
          "text": [
            "\n",
            "\tTop1: 0.790, Top5: 0.944, Coverage: 0.897, Size: 6.931\u001b[F"
          ]
        },
        {
          "output_type": "stream",
          "name": "stderr",
          "text": [
            "100%|██████████| 10/10 [00:10<00:00,  1.02s/it]"
          ]
        },
        {
          "output_type": "stream",
          "name": "stdout",
          "text": [
            "\n",
            "\tTop1: 0.790, Top5: 0.944, Coverage: 0.900, Size: 7.021\u001b[F\n",
            "Model: ResNet152 | Desired coverage: 0.9 | kreg: 1 | lambda: 0.01 \n"
          ]
        },
        {
          "output_type": "stream",
          "name": "stderr",
          "text": [
            "\n",
            " 10%|█         | 1/10 [00:00<00:07,  1.20it/s]"
          ]
        },
        {
          "output_type": "stream",
          "name": "stdout",
          "text": [
            "\n",
            "\tTop1: 0.781, Top5: 0.945, Coverage: 0.906, Size: 3.595\u001b[F"
          ]
        },
        {
          "output_type": "stream",
          "name": "stderr",
          "text": [
            "\r 20%|██        | 2/10 [00:01<00:06,  1.28it/s]"
          ]
        },
        {
          "output_type": "stream",
          "name": "stdout",
          "text": [
            "\n",
            "\tTop1: 0.786, Top5: 0.942, Coverage: 0.907, Size: 3.688\u001b[F"
          ]
        },
        {
          "output_type": "stream",
          "name": "stderr",
          "text": [
            "\r 30%|███       | 3/10 [00:02<00:05,  1.30it/s]"
          ]
        },
        {
          "output_type": "stream",
          "name": "stdout",
          "text": [
            "\n",
            "\tTop1: 0.781, Top5: 0.940, Coverage: 0.906, Size: 3.782\u001b[F"
          ]
        },
        {
          "output_type": "stream",
          "name": "stderr",
          "text": [
            "\r 40%|████      | 4/10 [00:03<00:04,  1.30it/s]"
          ]
        },
        {
          "output_type": "stream",
          "name": "stdout",
          "text": [
            "\n",
            "\tTop1: 0.786, Top5: 0.942, Coverage: 0.907, Size: 3.758\u001b[F"
          ]
        },
        {
          "output_type": "stream",
          "name": "stderr",
          "text": [
            "\r 50%|█████     | 5/10 [00:03<00:03,  1.26it/s]"
          ]
        },
        {
          "output_type": "stream",
          "name": "stdout",
          "text": [
            "\n",
            "\tTop1: 0.786, Top5: 0.940, Coverage: 0.906, Size: 3.735\u001b[F"
          ]
        },
        {
          "output_type": "stream",
          "name": "stderr",
          "text": [
            "\r 60%|██████    | 6/10 [00:04<00:03,  1.26it/s]"
          ]
        },
        {
          "output_type": "stream",
          "name": "stdout",
          "text": [
            "\n",
            "\tTop1: 0.788, Top5: 0.942, Coverage: 0.907, Size: 3.665\u001b[F"
          ]
        },
        {
          "output_type": "stream",
          "name": "stderr",
          "text": [
            "\r 70%|███████   | 7/10 [00:05<00:02,  1.26it/s]"
          ]
        },
        {
          "output_type": "stream",
          "name": "stdout",
          "text": [
            "\n",
            "\tTop1: 0.790, Top5: 0.944, Coverage: 0.906, Size: 3.595\u001b[F"
          ]
        },
        {
          "output_type": "stream",
          "name": "stderr",
          "text": [
            "\r 80%|████████  | 8/10 [00:06<00:01,  1.26it/s]"
          ]
        },
        {
          "output_type": "stream",
          "name": "stdout",
          "text": [
            "\n",
            "\tTop1: 0.790, Top5: 0.943, Coverage: 0.903, Size: 3.594\u001b[F"
          ]
        },
        {
          "output_type": "stream",
          "name": "stderr",
          "text": [
            "\r 90%|█████████ | 9/10 [00:07<00:00,  1.22it/s]"
          ]
        },
        {
          "output_type": "stream",
          "name": "stdout",
          "text": [
            "\n",
            "\tTop1: 0.790, Top5: 0.944, Coverage: 0.899, Size: 3.593\u001b[F"
          ]
        },
        {
          "output_type": "stream",
          "name": "stderr",
          "text": [
            "100%|██████████| 10/10 [00:08<00:00,  1.22it/s]"
          ]
        },
        {
          "output_type": "stream",
          "name": "stdout",
          "text": [
            "\n",
            "\tTop1: 0.790, Top5: 0.944, Coverage: 0.899, Size: 3.594\u001b[F\n",
            "Model: ResNet152 | Desired coverage: 0.9 | kreg: 1 | lambda: 0.02 \n"
          ]
        },
        {
          "output_type": "stream",
          "name": "stderr",
          "text": [
            "\n",
            " 10%|█         | 1/10 [00:00<00:08,  1.10it/s]"
          ]
        },
        {
          "output_type": "stream",
          "name": "stdout",
          "text": [
            "\n",
            "\tTop1: 0.781, Top5: 0.945, Coverage: 0.905, Size: 2.897\u001b[F"
          ]
        },
        {
          "output_type": "stream",
          "name": "stderr",
          "text": [
            "\r 20%|██        | 2/10 [00:01<00:06,  1.26it/s]"
          ]
        },
        {
          "output_type": "stream",
          "name": "stdout",
          "text": [
            "\n",
            "\tTop1: 0.786, Top5: 0.942, Coverage: 0.907, Size: 2.956\u001b[F"
          ]
        },
        {
          "output_type": "stream",
          "name": "stderr",
          "text": [
            "\r 30%|███       | 3/10 [00:02<00:05,  1.28it/s]"
          ]
        },
        {
          "output_type": "stream",
          "name": "stdout",
          "text": [
            "\n",
            "\tTop1: 0.781, Top5: 0.940, Coverage: 0.905, Size: 3.016\u001b[F"
          ]
        },
        {
          "output_type": "stream",
          "name": "stderr",
          "text": [
            "\r 40%|████      | 4/10 [00:03<00:04,  1.31it/s]"
          ]
        },
        {
          "output_type": "stream",
          "name": "stdout",
          "text": [
            "\n",
            "\tTop1: 0.786, Top5: 0.942, Coverage: 0.907, Size: 3.008\u001b[F"
          ]
        },
        {
          "output_type": "stream",
          "name": "stderr",
          "text": [
            "\r 50%|█████     | 5/10 [00:03<00:03,  1.28it/s]"
          ]
        },
        {
          "output_type": "stream",
          "name": "stdout",
          "text": [
            "\n",
            "\tTop1: 0.786, Top5: 0.940, Coverage: 0.905, Size: 3.000\u001b[F"
          ]
        },
        {
          "output_type": "stream",
          "name": "stderr",
          "text": [
            "\r 60%|██████    | 6/10 [00:04<00:03,  1.29it/s]"
          ]
        },
        {
          "output_type": "stream",
          "name": "stdout",
          "text": [
            "\n",
            "\tTop1: 0.788, Top5: 0.942, Coverage: 0.907, Size: 2.967\u001b[F"
          ]
        },
        {
          "output_type": "stream",
          "name": "stderr",
          "text": [
            "\r 70%|███████   | 7/10 [00:05<00:02,  1.29it/s]"
          ]
        },
        {
          "output_type": "stream",
          "name": "stdout",
          "text": [
            "\n",
            "\tTop1: 0.790, Top5: 0.944, Coverage: 0.905, Size: 2.933\u001b[F"
          ]
        },
        {
          "output_type": "stream",
          "name": "stderr",
          "text": [
            "\r 80%|████████  | 8/10 [00:06<00:01,  1.29it/s]"
          ]
        },
        {
          "output_type": "stream",
          "name": "stdout",
          "text": [
            "\n",
            "\tTop1: 0.790, Top5: 0.943, Coverage: 0.906, Size: 2.936\u001b[F"
          ]
        },
        {
          "output_type": "stream",
          "name": "stderr",
          "text": [
            "\r 90%|█████████ | 9/10 [00:07<00:00,  1.29it/s]"
          ]
        },
        {
          "output_type": "stream",
          "name": "stdout",
          "text": [
            "\n",
            "\tTop1: 0.790, Top5: 0.944, Coverage: 0.905, Size: 2.933\u001b[F"
          ]
        },
        {
          "output_type": "stream",
          "name": "stderr",
          "text": [
            "100%|██████████| 10/10 [00:07<00:00,  1.29it/s]"
          ]
        },
        {
          "output_type": "stream",
          "name": "stdout",
          "text": [
            "\n",
            "\tTop1: 0.790, Top5: 0.944, Coverage: 0.906, Size: 2.936\u001b[F\n",
            "Model: ResNet152 | Desired coverage: 0.9 | kreg: 1 | lambda: 0.05 \n"
          ]
        },
        {
          "output_type": "stream",
          "name": "stderr",
          "text": [
            "\n",
            " 10%|█         | 1/10 [00:00<00:07,  1.24it/s]"
          ]
        },
        {
          "output_type": "stream",
          "name": "stdout",
          "text": [
            "\n",
            "\tTop1: 0.781, Top5: 0.945, Coverage: 0.904, Size: 2.220\u001b[F"
          ]
        },
        {
          "output_type": "stream",
          "name": "stderr",
          "text": [
            "\r 20%|██        | 2/10 [00:01<00:06,  1.32it/s]"
          ]
        },
        {
          "output_type": "stream",
          "name": "stdout",
          "text": [
            "\n",
            "\tTop1: 0.786, Top5: 0.942, Coverage: 0.905, Size: 2.263\u001b[F"
          ]
        },
        {
          "output_type": "stream",
          "name": "stderr",
          "text": [
            "\r 30%|███       | 3/10 [00:02<00:05,  1.18it/s]"
          ]
        },
        {
          "output_type": "stream",
          "name": "stdout",
          "text": [
            "\n",
            "\tTop1: 0.781, Top5: 0.940, Coverage: 0.904, Size: 2.306\u001b[F"
          ]
        },
        {
          "output_type": "stream",
          "name": "stderr",
          "text": [
            "\r 40%|████      | 4/10 [00:03<00:05,  1.11it/s]"
          ]
        },
        {
          "output_type": "stream",
          "name": "stdout",
          "text": [
            "\n",
            "\tTop1: 0.786, Top5: 0.942, Coverage: 0.905, Size: 2.305\u001b[F"
          ]
        },
        {
          "output_type": "stream",
          "name": "stderr",
          "text": [
            "\r 50%|█████     | 5/10 [00:04<00:04,  1.03it/s]"
          ]
        },
        {
          "output_type": "stream",
          "name": "stdout",
          "text": [
            "\n",
            "\tTop1: 0.786, Top5: 0.940, Coverage: 0.904, Size: 2.304\u001b[F"
          ]
        },
        {
          "output_type": "stream",
          "name": "stderr",
          "text": [
            "\r 60%|██████    | 6/10 [00:05<00:03,  1.04it/s]"
          ]
        },
        {
          "output_type": "stream",
          "name": "stdout",
          "text": [
            "\n",
            "\tTop1: 0.788, Top5: 0.942, Coverage: 0.905, Size: 2.304\u001b[F"
          ]
        },
        {
          "output_type": "stream",
          "name": "stderr",
          "text": [
            "\r 70%|███████   | 7/10 [00:06<00:02,  1.11it/s]"
          ]
        },
        {
          "output_type": "stream",
          "name": "stdout",
          "text": [
            "\n",
            "\tTop1: 0.790, Top5: 0.944, Coverage: 0.904, Size: 2.304\u001b[F"
          ]
        },
        {
          "output_type": "stream",
          "name": "stderr",
          "text": [
            "\r 80%|████████  | 8/10 [00:07<00:01,  1.16it/s]"
          ]
        },
        {
          "output_type": "stream",
          "name": "stdout",
          "text": [
            "\n",
            "\tTop1: 0.790, Top5: 0.943, Coverage: 0.902, Size: 2.265\u001b[F"
          ]
        },
        {
          "output_type": "stream",
          "name": "stderr",
          "text": [
            "\r 90%|█████████ | 9/10 [00:07<00:00,  1.16it/s]"
          ]
        },
        {
          "output_type": "stream",
          "name": "stdout",
          "text": [
            "\n",
            "\tTop1: 0.790, Top5: 0.944, Coverage: 0.899, Size: 2.227\u001b[F"
          ]
        },
        {
          "output_type": "stream",
          "name": "stderr",
          "text": [
            "100%|██████████| 10/10 [00:08<00:00,  1.15it/s]"
          ]
        },
        {
          "output_type": "stream",
          "name": "stdout",
          "text": [
            "\n",
            "\tTop1: 0.790, Top5: 0.944, Coverage: 0.902, Size: 2.265\u001b[F\n",
            "Model: ResNet152 | Desired coverage: 0.9 | kreg: 1 | lambda: 0.2 \n"
          ]
        },
        {
          "output_type": "stream",
          "name": "stderr",
          "text": [
            "\n",
            " 10%|█         | 1/10 [00:00<00:07,  1.23it/s]"
          ]
        },
        {
          "output_type": "stream",
          "name": "stdout",
          "text": [
            "\n",
            "\tTop1: 0.781, Top5: 0.945, Coverage: 0.904, Size: 2.064\u001b[F"
          ]
        },
        {
          "output_type": "stream",
          "name": "stderr",
          "text": [
            "\r 20%|██        | 2/10 [00:01<00:05,  1.35it/s]"
          ]
        },
        {
          "output_type": "stream",
          "name": "stdout",
          "text": [
            "\n",
            "\tTop1: 0.786, Top5: 0.942, Coverage: 0.907, Size: 2.234\u001b[F"
          ]
        },
        {
          "output_type": "stream",
          "name": "stderr",
          "text": [
            "\r 30%|███       | 3/10 [00:02<00:05,  1.36it/s]"
          ]
        },
        {
          "output_type": "stream",
          "name": "stdout",
          "text": [
            "\n",
            "\tTop1: 0.781, Top5: 0.940, Coverage: 0.904, Size: 2.095\u001b[F"
          ]
        },
        {
          "output_type": "stream",
          "name": "stderr",
          "text": [
            "\r 40%|████      | 4/10 [00:02<00:04,  1.36it/s]"
          ]
        },
        {
          "output_type": "stream",
          "name": "stdout",
          "text": [
            "\n",
            "\tTop1: 0.786, Top5: 0.942, Coverage: 0.906, Size: 2.101\u001b[F"
          ]
        },
        {
          "output_type": "stream",
          "name": "stderr",
          "text": [
            "\r 50%|█████     | 5/10 [00:03<00:03,  1.31it/s]"
          ]
        },
        {
          "output_type": "stream",
          "name": "stdout",
          "text": [
            "\n",
            "\tTop1: 0.786, Top5: 0.940, Coverage: 0.904, Size: 2.107\u001b[F"
          ]
        },
        {
          "output_type": "stream",
          "name": "stderr",
          "text": [
            "\r 60%|██████    | 6/10 [00:04<00:03,  1.31it/s]"
          ]
        },
        {
          "output_type": "stream",
          "name": "stdout",
          "text": [
            "\n",
            "\tTop1: 0.788, Top5: 0.942, Coverage: 0.906, Size: 2.200\u001b[F"
          ]
        },
        {
          "output_type": "stream",
          "name": "stderr",
          "text": [
            "\r 70%|███████   | 7/10 [00:05<00:02,  1.28it/s]"
          ]
        },
        {
          "output_type": "stream",
          "name": "stdout",
          "text": [
            "\n",
            "\tTop1: 0.790, Top5: 0.944, Coverage: 0.904, Size: 2.107\u001b[F"
          ]
        },
        {
          "output_type": "stream",
          "name": "stderr",
          "text": [
            "\r 80%|████████  | 8/10 [00:06<00:01,  1.16it/s]"
          ]
        },
        {
          "output_type": "stream",
          "name": "stdout",
          "text": [
            "\n",
            "\tTop1: 0.790, Top5: 0.943, Coverage: 0.902, Size: 2.101\u001b[F"
          ]
        },
        {
          "output_type": "stream",
          "name": "stderr",
          "text": [
            "\r 90%|█████████ | 9/10 [00:07<00:00,  1.10it/s]"
          ]
        },
        {
          "output_type": "stream",
          "name": "stdout",
          "text": [
            "\n",
            "\tTop1: 0.790, Top5: 0.944, Coverage: 0.904, Size: 2.095\u001b[F"
          ]
        },
        {
          "output_type": "stream",
          "name": "stderr",
          "text": [
            "100%|██████████| 10/10 [00:08<00:00,  1.19it/s]"
          ]
        },
        {
          "output_type": "stream",
          "name": "stdout",
          "text": [
            "\n",
            "\tTop1: 0.790, Top5: 0.944, Coverage: 0.905, Size: 2.091\u001b[F\n",
            "Model: ResNet152 | Desired coverage: 0.9 | kreg: 1 | lambda: 0.5 \n"
          ]
        },
        {
          "output_type": "stream",
          "name": "stderr",
          "text": [
            "\n",
            " 10%|█         | 1/10 [00:01<00:09,  1.08s/it]"
          ]
        },
        {
          "output_type": "stream",
          "name": "stdout",
          "text": [
            "\n",
            "\tTop1: 0.781, Top5: 0.945, Coverage: 0.902, Size: 2.236\u001b[F"
          ]
        },
        {
          "output_type": "stream",
          "name": "stderr",
          "text": [
            "\r 20%|██        | 2/10 [00:02<00:08,  1.01s/it]"
          ]
        },
        {
          "output_type": "stream",
          "name": "stdout",
          "text": [
            "\n",
            "\tTop1: 0.786, Top5: 0.942, Coverage: 0.905, Size: 2.298\u001b[F"
          ]
        },
        {
          "output_type": "stream",
          "name": "stderr",
          "text": [
            "\r 30%|███       | 3/10 [00:02<00:06,  1.12it/s]"
          ]
        },
        {
          "output_type": "stream",
          "name": "stdout",
          "text": [
            "\n",
            "\tTop1: 0.781, Top5: 0.940, Coverage: 0.902, Size: 2.306\u001b[F"
          ]
        },
        {
          "output_type": "stream",
          "name": "stderr",
          "text": [
            "\r 40%|████      | 4/10 [00:03<00:04,  1.20it/s]"
          ]
        },
        {
          "output_type": "stream",
          "name": "stdout",
          "text": [
            "\n",
            "\tTop1: 0.786, Top5: 0.942, Coverage: 0.905, Size: 2.280\u001b[F"
          ]
        },
        {
          "output_type": "stream",
          "name": "stderr",
          "text": [
            "\r 50%|█████     | 5/10 [00:04<00:04,  1.21it/s]"
          ]
        },
        {
          "output_type": "stream",
          "name": "stdout",
          "text": [
            "\n",
            "\tTop1: 0.786, Top5: 0.940, Coverage: 0.903, Size: 2.306\u001b[F"
          ]
        },
        {
          "output_type": "stream",
          "name": "stderr",
          "text": [
            "\r 60%|██████    | 6/10 [00:05<00:03,  1.23it/s]"
          ]
        },
        {
          "output_type": "stream",
          "name": "stdout",
          "text": [
            "\n",
            "\tTop1: 0.788, Top5: 0.942, Coverage: 0.905, Size: 2.334\u001b[F"
          ]
        },
        {
          "output_type": "stream",
          "name": "stderr",
          "text": [
            "\r 70%|███████   | 7/10 [00:05<00:02,  1.24it/s]"
          ]
        },
        {
          "output_type": "stream",
          "name": "stdout",
          "text": [
            "\n",
            "\tTop1: 0.790, Top5: 0.944, Coverage: 0.903, Size: 2.306\u001b[F"
          ]
        },
        {
          "output_type": "stream",
          "name": "stderr",
          "text": [
            "\r 80%|████████  | 8/10 [00:06<00:01,  1.25it/s]"
          ]
        },
        {
          "output_type": "stream",
          "name": "stdout",
          "text": [
            "\n",
            "\tTop1: 0.790, Top5: 0.943, Coverage: 0.903, Size: 2.280\u001b[F"
          ]
        },
        {
          "output_type": "stream",
          "name": "stderr",
          "text": [
            "\r 90%|█████████ | 9/10 [00:07<00:00,  1.26it/s]"
          ]
        },
        {
          "output_type": "stream",
          "name": "stdout",
          "text": [
            "\n",
            "\tTop1: 0.790, Top5: 0.944, Coverage: 0.903, Size: 2.255\u001b[F"
          ]
        },
        {
          "output_type": "stream",
          "name": "stderr",
          "text": [
            "100%|██████████| 10/10 [00:08<00:00,  1.21it/s]"
          ]
        },
        {
          "output_type": "stream",
          "name": "stdout",
          "text": [
            "\n",
            "\tTop1: 0.790, Top5: 0.944, Coverage: 0.904, Size: 2.256\u001b[F\n",
            "Model: ResNet152 | Desired coverage: 0.9 | kreg: 1 | lambda: 0.7 \n"
          ]
        },
        {
          "output_type": "stream",
          "name": "stderr",
          "text": [
            "\n",
            " 10%|█         | 1/10 [00:01<00:09,  1.09s/it]"
          ]
        },
        {
          "output_type": "stream",
          "name": "stdout",
          "text": [
            "\n",
            "\tTop1: 0.781, Top5: 0.945, Coverage: 0.901, Size: 2.225\u001b[F"
          ]
        },
        {
          "output_type": "stream",
          "name": "stderr",
          "text": [
            "\r 20%|██        | 2/10 [00:02<00:07,  1.00it/s]"
          ]
        },
        {
          "output_type": "stream",
          "name": "stdout",
          "text": [
            "\n",
            "\tTop1: 0.786, Top5: 0.942, Coverage: 0.904, Size: 2.289\u001b[F"
          ]
        },
        {
          "output_type": "stream",
          "name": "stderr",
          "text": [
            "\r 30%|███       | 3/10 [00:03<00:06,  1.01it/s]"
          ]
        },
        {
          "output_type": "stream",
          "name": "stdout",
          "text": [
            "\n",
            "\tTop1: 0.781, Top5: 0.940, Coverage: 0.901, Size: 2.326\u001b[F"
          ]
        },
        {
          "output_type": "stream",
          "name": "stderr",
          "text": [
            "\r 40%|████      | 4/10 [00:03<00:05,  1.09it/s]"
          ]
        },
        {
          "output_type": "stream",
          "name": "stdout",
          "text": [
            "\n",
            "\tTop1: 0.786, Top5: 0.942, Coverage: 0.904, Size: 2.290\u001b[F"
          ]
        },
        {
          "output_type": "stream",
          "name": "stderr",
          "text": [
            "\r 50%|█████     | 5/10 [00:04<00:04,  1.14it/s]"
          ]
        },
        {
          "output_type": "stream",
          "name": "stdout",
          "text": [
            "\n",
            "\tTop1: 0.786, Top5: 0.940, Coverage: 0.901, Size: 2.326\u001b[F"
          ]
        },
        {
          "output_type": "stream",
          "name": "stderr",
          "text": [
            "\r 60%|██████    | 6/10 [00:05<00:03,  1.18it/s]"
          ]
        },
        {
          "output_type": "stream",
          "name": "stdout",
          "text": [
            "\n",
            "\tTop1: 0.788, Top5: 0.942, Coverage: 0.904, Size: 2.340\u001b[F"
          ]
        },
        {
          "output_type": "stream",
          "name": "stderr",
          "text": [
            "\r 70%|███████   | 7/10 [00:06<00:02,  1.21it/s]"
          ]
        },
        {
          "output_type": "stream",
          "name": "stdout",
          "text": [
            "\n",
            "\tTop1: 0.790, Top5: 0.944, Coverage: 0.902, Size: 2.326\u001b[F"
          ]
        },
        {
          "output_type": "stream",
          "name": "stderr",
          "text": [
            "\r 80%|████████  | 8/10 [00:06<00:01,  1.23it/s]"
          ]
        },
        {
          "output_type": "stream",
          "name": "stdout",
          "text": [
            "\n",
            "\tTop1: 0.790, Top5: 0.943, Coverage: 0.903, Size: 2.290\u001b[F"
          ]
        },
        {
          "output_type": "stream",
          "name": "stderr",
          "text": [
            "\r 90%|█████████ | 9/10 [00:07<00:00,  1.25it/s]"
          ]
        },
        {
          "output_type": "stream",
          "name": "stdout",
          "text": [
            "\n",
            "\tTop1: 0.790, Top5: 0.944, Coverage: 0.903, Size: 2.253\u001b[F"
          ]
        },
        {
          "output_type": "stream",
          "name": "stderr",
          "text": [
            "100%|██████████| 10/10 [00:08<00:00,  1.17it/s]"
          ]
        },
        {
          "output_type": "stream",
          "name": "stdout",
          "text": [
            "\n",
            "\tTop1: 0.790, Top5: 0.944, Coverage: 0.904, Size: 2.246\u001b[F\n",
            "Model: ResNet152 | Desired coverage: 0.9 | kreg: 1 | lambda: 1.0 \n"
          ]
        },
        {
          "output_type": "stream",
          "name": "stderr",
          "text": [
            "\n",
            " 10%|█         | 1/10 [00:00<00:07,  1.20it/s]"
          ]
        },
        {
          "output_type": "stream",
          "name": "stdout",
          "text": [
            "\n",
            "\tTop1: 0.781, Top5: 0.945, Coverage: 0.901, Size: 2.225\u001b[F"
          ]
        },
        {
          "output_type": "stream",
          "name": "stderr",
          "text": [
            "\r 20%|██        | 2/10 [00:01<00:06,  1.33it/s]"
          ]
        },
        {
          "output_type": "stream",
          "name": "stdout",
          "text": [
            "\n",
            "\tTop1: 0.786, Top5: 0.942, Coverage: 0.905, Size: 2.316\u001b[F"
          ]
        },
        {
          "output_type": "stream",
          "name": "stderr",
          "text": [
            "\r 30%|███       | 3/10 [00:02<00:05,  1.35it/s]"
          ]
        },
        {
          "output_type": "stream",
          "name": "stdout",
          "text": [
            "\n",
            "\tTop1: 0.781, Top5: 0.940, Coverage: 0.901, Size: 2.337\u001b[F"
          ]
        },
        {
          "output_type": "stream",
          "name": "stderr",
          "text": [
            "\r 40%|████      | 4/10 [00:02<00:04,  1.35it/s]"
          ]
        },
        {
          "output_type": "stream",
          "name": "stdout",
          "text": [
            "\n",
            "\tTop1: 0.786, Top5: 0.942, Coverage: 0.904, Size: 2.295\u001b[F"
          ]
        },
        {
          "output_type": "stream",
          "name": "stderr",
          "text": [
            "\r 50%|█████     | 5/10 [00:03<00:04,  1.23it/s]"
          ]
        },
        {
          "output_type": "stream",
          "name": "stdout",
          "text": [
            "\n",
            "\tTop1: 0.786, Top5: 0.940, Coverage: 0.901, Size: 2.337\u001b[F"
          ]
        },
        {
          "output_type": "stream",
          "name": "stderr",
          "text": [
            "\r 60%|██████    | 6/10 [00:04<00:03,  1.14it/s]"
          ]
        },
        {
          "output_type": "stream",
          "name": "stdout",
          "text": [
            "\n",
            "\tTop1: 0.788, Top5: 0.942, Coverage: 0.904, Size: 2.348\u001b[F"
          ]
        },
        {
          "output_type": "stream",
          "name": "stderr",
          "text": [
            "\r 70%|███████   | 7/10 [00:05<00:02,  1.08it/s]"
          ]
        },
        {
          "output_type": "stream",
          "name": "stdout",
          "text": [
            "\n",
            "\tTop1: 0.790, Top5: 0.944, Coverage: 0.902, Size: 2.337\u001b[F"
          ]
        },
        {
          "output_type": "stream",
          "name": "stderr",
          "text": [
            "\r 80%|████████  | 8/10 [00:07<00:01,  1.04it/s]"
          ]
        },
        {
          "output_type": "stream",
          "name": "stdout",
          "text": [
            "\n",
            "\tTop1: 0.790, Top5: 0.943, Coverage: 0.903, Size: 2.295\u001b[F"
          ]
        },
        {
          "output_type": "stream",
          "name": "stderr",
          "text": [
            "\r 90%|█████████ | 9/10 [00:07<00:00,  1.09it/s]"
          ]
        },
        {
          "output_type": "stream",
          "name": "stdout",
          "text": [
            "\n",
            "\tTop1: 0.790, Top5: 0.944, Coverage: 0.903, Size: 2.253\u001b[F"
          ]
        },
        {
          "output_type": "stream",
          "name": "stderr",
          "text": [
            "100%|██████████| 10/10 [00:08<00:00,  1.17it/s]"
          ]
        },
        {
          "output_type": "stream",
          "name": "stdout",
          "text": [
            "\n",
            "\tTop1: 0.790, Top5: 0.944, Coverage: 0.904, Size: 2.245\u001b[F\n",
            "Model: ResNet152 | Desired coverage: 0.9 | kreg: 2 | lambda: 0 \n"
          ]
        },
        {
          "output_type": "stream",
          "name": "stderr",
          "text": [
            "\n",
            " 10%|█         | 1/10 [00:00<00:07,  1.21it/s]"
          ]
        },
        {
          "output_type": "stream",
          "name": "stdout",
          "text": [
            "\n",
            "\tTop1: 0.781, Top5: 0.945, Coverage: 0.910, Size: 11.450\u001b[F"
          ]
        },
        {
          "output_type": "stream",
          "name": "stderr",
          "text": [
            "\r 20%|██        | 2/10 [00:01<00:06,  1.32it/s]"
          ]
        },
        {
          "output_type": "stream",
          "name": "stdout",
          "text": [
            "\n",
            "\tTop1: 0.786, Top5: 0.942, Coverage: 0.907, Size: 11.628\u001b[F"
          ]
        },
        {
          "output_type": "stream",
          "name": "stderr",
          "text": [
            "\r 30%|███       | 3/10 [00:02<00:05,  1.34it/s]"
          ]
        },
        {
          "output_type": "stream",
          "name": "stdout",
          "text": [
            "\n",
            "\tTop1: 0.781, Top5: 0.940, Coverage: 0.904, Size: 11.806\u001b[F"
          ]
        },
        {
          "output_type": "stream",
          "name": "stderr",
          "text": [
            "\r 40%|████      | 4/10 [00:03<00:04,  1.35it/s]"
          ]
        },
        {
          "output_type": "stream",
          "name": "stdout",
          "text": [
            "\n",
            "\tTop1: 0.786, Top5: 0.942, Coverage: 0.907, Size: 11.628\u001b[F"
          ]
        },
        {
          "output_type": "stream",
          "name": "stderr",
          "text": [
            "\r 50%|█████     | 5/10 [00:03<00:03,  1.30it/s]"
          ]
        },
        {
          "output_type": "stream",
          "name": "stdout",
          "text": [
            "\n",
            "\tTop1: 0.786, Top5: 0.940, Coverage: 0.904, Size: 11.450\u001b[F"
          ]
        },
        {
          "output_type": "stream",
          "name": "stderr",
          "text": [
            "\r 60%|██████    | 6/10 [00:04<00:03,  1.29it/s]"
          ]
        },
        {
          "output_type": "stream",
          "name": "stdout",
          "text": [
            "\n",
            "\tTop1: 0.788, Top5: 0.942, Coverage: 0.906, Size: 11.371\u001b[F"
          ]
        },
        {
          "output_type": "stream",
          "name": "stderr",
          "text": [
            "\r 70%|███████   | 7/10 [00:05<00:02,  1.29it/s]"
          ]
        },
        {
          "output_type": "stream",
          "name": "stdout",
          "text": [
            "\n",
            "\tTop1: 0.790, Top5: 0.944, Coverage: 0.904, Size: 11.292\u001b[F"
          ]
        },
        {
          "output_type": "stream",
          "name": "stderr",
          "text": [
            "\r 80%|████████  | 8/10 [00:06<00:01,  1.29it/s]"
          ]
        },
        {
          "output_type": "stream",
          "name": "stdout",
          "text": [
            "\n",
            "\tTop1: 0.790, Top5: 0.943, Coverage: 0.901, Size: 11.212\u001b[F"
          ]
        },
        {
          "output_type": "stream",
          "name": "stderr",
          "text": [
            "\r 90%|█████████ | 9/10 [00:06<00:00,  1.28it/s]"
          ]
        },
        {
          "output_type": "stream",
          "name": "stdout",
          "text": [
            "\n",
            "\tTop1: 0.790, Top5: 0.944, Coverage: 0.899, Size: 11.132\u001b[F"
          ]
        },
        {
          "output_type": "stream",
          "name": "stderr",
          "text": [
            "100%|██████████| 10/10 [00:07<00:00,  1.27it/s]"
          ]
        },
        {
          "output_type": "stream",
          "name": "stdout",
          "text": [
            "\n",
            "\tTop1: 0.790, Top5: 0.944, Coverage: 0.899, Size: 11.212\u001b[F\n",
            "Model: ResNet152 | Desired coverage: 0.9 | kreg: 2 | lambda: 0.0001 \n"
          ]
        },
        {
          "output_type": "stream",
          "name": "stderr",
          "text": [
            "\n",
            " 10%|█         | 1/10 [00:01<00:09,  1.09s/it]"
          ]
        },
        {
          "output_type": "stream",
          "name": "stdout",
          "text": [
            "\n",
            "\tTop1: 0.781, Top5: 0.945, Coverage: 0.909, Size: 10.292\u001b[F"
          ]
        },
        {
          "output_type": "stream",
          "name": "stderr",
          "text": [
            "\r 20%|██        | 2/10 [00:01<00:07,  1.13it/s]"
          ]
        },
        {
          "output_type": "stream",
          "name": "stdout",
          "text": [
            "\n",
            "\tTop1: 0.786, Top5: 0.942, Coverage: 0.907, Size: 10.532\u001b[F"
          ]
        },
        {
          "output_type": "stream",
          "name": "stderr",
          "text": [
            "\r 30%|███       | 3/10 [00:02<00:05,  1.19it/s]"
          ]
        },
        {
          "output_type": "stream",
          "name": "stdout",
          "text": [
            "\n",
            "\tTop1: 0.781, Top5: 0.940, Coverage: 0.904, Size: 10.773\u001b[F"
          ]
        },
        {
          "output_type": "stream",
          "name": "stderr",
          "text": [
            "\r 40%|████      | 4/10 [00:03<00:04,  1.25it/s]"
          ]
        },
        {
          "output_type": "stream",
          "name": "stdout",
          "text": [
            "\n",
            "\tTop1: 0.786, Top5: 0.942, Coverage: 0.907, Size: 10.718\u001b[F"
          ]
        },
        {
          "output_type": "stream",
          "name": "stderr",
          "text": [
            "\r 50%|█████     | 5/10 [00:04<00:04,  1.23it/s]"
          ]
        },
        {
          "output_type": "stream",
          "name": "stdout",
          "text": [
            "\n",
            "\tTop1: 0.786, Top5: 0.940, Coverage: 0.904, Size: 10.664\u001b[F"
          ]
        },
        {
          "output_type": "stream",
          "name": "stderr",
          "text": [
            "\r 60%|██████    | 6/10 [00:04<00:03,  1.23it/s]"
          ]
        },
        {
          "output_type": "stream",
          "name": "stdout",
          "text": [
            "\n",
            "\tTop1: 0.788, Top5: 0.942, Coverage: 0.906, Size: 10.478\u001b[F"
          ]
        },
        {
          "output_type": "stream",
          "name": "stderr",
          "text": [
            "\r 70%|███████   | 7/10 [00:05<00:02,  1.25it/s]"
          ]
        },
        {
          "output_type": "stream",
          "name": "stdout",
          "text": [
            "\n",
            "\tTop1: 0.790, Top5: 0.944, Coverage: 0.904, Size: 10.292\u001b[F"
          ]
        },
        {
          "output_type": "stream",
          "name": "stderr",
          "text": [
            "\r 80%|████████  | 8/10 [00:06<00:01,  1.25it/s]"
          ]
        },
        {
          "output_type": "stream",
          "name": "stdout",
          "text": [
            "\n",
            "\tTop1: 0.790, Top5: 0.943, Coverage: 0.901, Size: 10.162\u001b[F"
          ]
        },
        {
          "output_type": "stream",
          "name": "stderr",
          "text": [
            "\r 90%|█████████ | 9/10 [00:07<00:00,  1.25it/s]"
          ]
        },
        {
          "output_type": "stream",
          "name": "stdout",
          "text": [
            "\n",
            "\tTop1: 0.790, Top5: 0.944, Coverage: 0.899, Size: 10.031\u001b[F"
          ]
        },
        {
          "output_type": "stream",
          "name": "stderr",
          "text": [
            "100%|██████████| 10/10 [00:08<00:00,  1.23it/s]"
          ]
        },
        {
          "output_type": "stream",
          "name": "stdout",
          "text": [
            "\n",
            "\tTop1: 0.790, Top5: 0.944, Coverage: 0.899, Size: 10.162\u001b[F\n",
            "Model: ResNet152 | Desired coverage: 0.9 | kreg: 2 | lambda: 0.001 \n"
          ]
        },
        {
          "output_type": "stream",
          "name": "stderr",
          "text": [
            "\n",
            " 10%|█         | 1/10 [00:00<00:07,  1.17it/s]"
          ]
        },
        {
          "output_type": "stream",
          "name": "stdout",
          "text": [
            "\n",
            "\tTop1: 0.781, Top5: 0.945, Coverage: 0.907, Size: 7.170\u001b[F"
          ]
        },
        {
          "output_type": "stream",
          "name": "stderr",
          "text": [
            "\r 20%|██        | 2/10 [00:01<00:06,  1.29it/s]"
          ]
        },
        {
          "output_type": "stream",
          "name": "stdout",
          "text": [
            "\n",
            "\tTop1: 0.786, Top5: 0.942, Coverage: 0.905, Size: 7.286\u001b[F"
          ]
        },
        {
          "output_type": "stream",
          "name": "stderr",
          "text": [
            "\r 30%|███       | 3/10 [00:02<00:06,  1.16it/s]"
          ]
        },
        {
          "output_type": "stream",
          "name": "stdout",
          "text": [
            "\n",
            "\tTop1: 0.781, Top5: 0.940, Coverage: 0.902, Size: 7.402\u001b[F"
          ]
        },
        {
          "output_type": "stream",
          "name": "stderr",
          "text": [
            "\r 40%|████      | 4/10 [00:03<00:05,  1.11it/s]"
          ]
        },
        {
          "output_type": "stream",
          "name": "stdout",
          "text": [
            "\n",
            "\tTop1: 0.786, Top5: 0.942, Coverage: 0.905, Size: 7.394\u001b[F"
          ]
        },
        {
          "output_type": "stream",
          "name": "stderr",
          "text": [
            "\r 50%|█████     | 5/10 [00:04<00:04,  1.03it/s]"
          ]
        },
        {
          "output_type": "stream",
          "name": "stdout",
          "text": [
            "\n",
            "\tTop1: 0.786, Top5: 0.940, Coverage: 0.902, Size: 7.387\u001b[F"
          ]
        },
        {
          "output_type": "stream",
          "name": "stderr",
          "text": [
            "\r 60%|██████    | 6/10 [00:05<00:03,  1.03it/s]"
          ]
        },
        {
          "output_type": "stream",
          "name": "stdout",
          "text": [
            "\n",
            "\tTop1: 0.788, Top5: 0.942, Coverage: 0.905, Size: 7.278\u001b[F"
          ]
        },
        {
          "output_type": "stream",
          "name": "stderr",
          "text": [
            "\r 70%|███████   | 7/10 [00:06<00:02,  1.10it/s]"
          ]
        },
        {
          "output_type": "stream",
          "name": "stdout",
          "text": [
            "\n",
            "\tTop1: 0.790, Top5: 0.944, Coverage: 0.902, Size: 7.170\u001b[F"
          ]
        },
        {
          "output_type": "stream",
          "name": "stderr",
          "text": [
            "\r 80%|████████  | 8/10 [00:07<00:01,  1.15it/s]"
          ]
        },
        {
          "output_type": "stream",
          "name": "stdout",
          "text": [
            "\n",
            "\tTop1: 0.790, Top5: 0.943, Coverage: 0.900, Size: 7.078\u001b[F"
          ]
        },
        {
          "output_type": "stream",
          "name": "stderr",
          "text": [
            "\r 90%|█████████ | 9/10 [00:07<00:00,  1.18it/s]"
          ]
        },
        {
          "output_type": "stream",
          "name": "stdout",
          "text": [
            "\n",
            "\tTop1: 0.790, Top5: 0.944, Coverage: 0.897, Size: 6.985\u001b[F"
          ]
        },
        {
          "output_type": "stream",
          "name": "stderr",
          "text": [
            "100%|██████████| 10/10 [00:08<00:00,  1.15it/s]"
          ]
        },
        {
          "output_type": "stream",
          "name": "stdout",
          "text": [
            "\n",
            "\tTop1: 0.790, Top5: 0.944, Coverage: 0.900, Size: 7.078\u001b[F\n",
            "Model: ResNet152 | Desired coverage: 0.9 | kreg: 2 | lambda: 0.01 \n"
          ]
        },
        {
          "output_type": "stream",
          "name": "stderr",
          "text": [
            "\n",
            " 10%|█         | 1/10 [00:00<00:07,  1.22it/s]"
          ]
        },
        {
          "output_type": "stream",
          "name": "stdout",
          "text": [
            "\n",
            "\tTop1: 0.781, Top5: 0.945, Coverage: 0.906, Size: 3.654\u001b[F"
          ]
        },
        {
          "output_type": "stream",
          "name": "stderr",
          "text": [
            "\r 20%|██        | 2/10 [00:01<00:05,  1.34it/s]"
          ]
        },
        {
          "output_type": "stream",
          "name": "stdout",
          "text": [
            "\n",
            "\tTop1: 0.786, Top5: 0.942, Coverage: 0.907, Size: 3.755\u001b[F"
          ]
        },
        {
          "output_type": "stream",
          "name": "stderr",
          "text": [
            "\r 30%|███       | 3/10 [00:02<00:05,  1.34it/s]"
          ]
        },
        {
          "output_type": "stream",
          "name": "stdout",
          "text": [
            "\n",
            "\tTop1: 0.781, Top5: 0.940, Coverage: 0.906, Size: 3.856\u001b[F"
          ]
        },
        {
          "output_type": "stream",
          "name": "stderr",
          "text": [
            "\r 40%|████      | 4/10 [00:02<00:04,  1.35it/s]"
          ]
        },
        {
          "output_type": "stream",
          "name": "stdout",
          "text": [
            "\n",
            "\tTop1: 0.786, Top5: 0.942, Coverage: 0.907, Size: 3.835\u001b[F"
          ]
        },
        {
          "output_type": "stream",
          "name": "stderr",
          "text": [
            "\r 50%|█████     | 5/10 [00:03<00:03,  1.29it/s]"
          ]
        },
        {
          "output_type": "stream",
          "name": "stdout",
          "text": [
            "\n",
            "\tTop1: 0.786, Top5: 0.940, Coverage: 0.906, Size: 3.813\u001b[F"
          ]
        },
        {
          "output_type": "stream",
          "name": "stderr",
          "text": [
            "\r 60%|██████    | 6/10 [00:04<00:03,  1.29it/s]"
          ]
        },
        {
          "output_type": "stream",
          "name": "stdout",
          "text": [
            "\n",
            "\tTop1: 0.788, Top5: 0.942, Coverage: 0.907, Size: 3.734\u001b[F"
          ]
        },
        {
          "output_type": "stream",
          "name": "stderr",
          "text": [
            "\r 70%|███████   | 7/10 [00:05<00:02,  1.29it/s]"
          ]
        },
        {
          "output_type": "stream",
          "name": "stdout",
          "text": [
            "\n",
            "\tTop1: 0.790, Top5: 0.944, Coverage: 0.906, Size: 3.654\u001b[F"
          ]
        },
        {
          "output_type": "stream",
          "name": "stderr",
          "text": [
            "\r 80%|████████  | 8/10 [00:06<00:01,  1.18it/s]"
          ]
        },
        {
          "output_type": "stream",
          "name": "stdout",
          "text": [
            "\n",
            "\tTop1: 0.790, Top5: 0.943, Coverage: 0.904, Size: 3.652\u001b[F"
          ]
        },
        {
          "output_type": "stream",
          "name": "stderr",
          "text": [
            "\r 90%|█████████ | 9/10 [00:07<00:00,  1.12it/s]"
          ]
        },
        {
          "output_type": "stream",
          "name": "stdout",
          "text": [
            "\n",
            "\tTop1: 0.790, Top5: 0.944, Coverage: 0.901, Size: 3.650\u001b[F"
          ]
        },
        {
          "output_type": "stream",
          "name": "stderr",
          "text": [
            "100%|██████████| 10/10 [00:08<00:00,  1.20it/s]"
          ]
        },
        {
          "output_type": "stream",
          "name": "stdout",
          "text": [
            "\n",
            "\tTop1: 0.790, Top5: 0.944, Coverage: 0.900, Size: 3.652\u001b[F\n",
            "Model: ResNet152 | Desired coverage: 0.9 | kreg: 2 | lambda: 0.02 \n"
          ]
        },
        {
          "output_type": "stream",
          "name": "stderr",
          "text": [
            "\n",
            " 10%|█         | 1/10 [00:00<00:07,  1.23it/s]"
          ]
        },
        {
          "output_type": "stream",
          "name": "stdout",
          "text": [
            "\n",
            "\tTop1: 0.781, Top5: 0.945, Coverage: 0.905, Size: 3.034\u001b[F"
          ]
        },
        {
          "output_type": "stream",
          "name": "stderr",
          "text": [
            "\r 20%|██        | 2/10 [00:01<00:05,  1.34it/s]"
          ]
        },
        {
          "output_type": "stream",
          "name": "stdout",
          "text": [
            "\n",
            "\tTop1: 0.786, Top5: 0.942, Coverage: 0.908, Size: 3.092\u001b[F"
          ]
        },
        {
          "output_type": "stream",
          "name": "stderr",
          "text": [
            "\r 30%|███       | 3/10 [00:02<00:05,  1.37it/s]"
          ]
        },
        {
          "output_type": "stream",
          "name": "stdout",
          "text": [
            "\n",
            "\tTop1: 0.781, Top5: 0.940, Coverage: 0.905, Size: 3.150\u001b[F"
          ]
        },
        {
          "output_type": "stream",
          "name": "stderr",
          "text": [
            "\r 40%|████      | 4/10 [00:02<00:04,  1.36it/s]"
          ]
        },
        {
          "output_type": "stream",
          "name": "stdout",
          "text": [
            "\n",
            "\tTop1: 0.786, Top5: 0.942, Coverage: 0.908, Size: 3.144\u001b[F"
          ]
        },
        {
          "output_type": "stream",
          "name": "stderr",
          "text": [
            "\r 50%|█████     | 5/10 [00:03<00:03,  1.31it/s]"
          ]
        },
        {
          "output_type": "stream",
          "name": "stdout",
          "text": [
            "\n",
            "\tTop1: 0.786, Top5: 0.940, Coverage: 0.905, Size: 3.139\u001b[F"
          ]
        },
        {
          "output_type": "stream",
          "name": "stderr",
          "text": [
            "\r 60%|██████    | 6/10 [00:04<00:03,  1.31it/s]"
          ]
        },
        {
          "output_type": "stream",
          "name": "stdout",
          "text": [
            "\n",
            "\tTop1: 0.788, Top5: 0.942, Coverage: 0.908, Size: 3.086\u001b[F"
          ]
        },
        {
          "output_type": "stream",
          "name": "stderr",
          "text": [
            "\r 70%|███████   | 7/10 [00:05<00:02,  1.29it/s]"
          ]
        },
        {
          "output_type": "stream",
          "name": "stdout",
          "text": [
            "\n",
            "\tTop1: 0.790, Top5: 0.944, Coverage: 0.905, Size: 3.034\u001b[F"
          ]
        },
        {
          "output_type": "stream",
          "name": "stderr",
          "text": [
            "\r 80%|████████  | 8/10 [00:06<00:01,  1.29it/s]"
          ]
        },
        {
          "output_type": "stream",
          "name": "stdout",
          "text": [
            "\n",
            "\tTop1: 0.790, Top5: 0.943, Coverage: 0.903, Size: 3.030\u001b[F"
          ]
        },
        {
          "output_type": "stream",
          "name": "stderr",
          "text": [
            "\r 90%|█████████ | 9/10 [00:06<00:00,  1.29it/s]"
          ]
        },
        {
          "output_type": "stream",
          "name": "stdout",
          "text": [
            "\n",
            "\tTop1: 0.790, Top5: 0.944, Coverage: 0.901, Size: 3.026\u001b[F"
          ]
        },
        {
          "output_type": "stream",
          "name": "stderr",
          "text": [
            "100%|██████████| 10/10 [00:07<00:00,  1.31it/s]"
          ]
        },
        {
          "output_type": "stream",
          "name": "stdout",
          "text": [
            "\n",
            "\tTop1: 0.790, Top5: 0.944, Coverage: 0.903, Size: 3.030\u001b[F\n",
            "Model: ResNet152 | Desired coverage: 0.9 | kreg: 2 | lambda: 0.05 \n"
          ]
        },
        {
          "output_type": "stream",
          "name": "stderr",
          "text": [
            "\n",
            " 10%|█         | 1/10 [00:00<00:08,  1.05it/s]"
          ]
        },
        {
          "output_type": "stream",
          "name": "stdout",
          "text": [
            "\n",
            "\tTop1: 0.781, Top5: 0.945, Coverage: 0.906, Size: 2.412\u001b[F"
          ]
        },
        {
          "output_type": "stream",
          "name": "stderr",
          "text": [
            "\r 20%|██        | 2/10 [00:01<00:07,  1.06it/s]"
          ]
        },
        {
          "output_type": "stream",
          "name": "stdout",
          "text": [
            "\n",
            "\tTop1: 0.786, Top5: 0.942, Coverage: 0.905, Size: 2.420\u001b[F"
          ]
        },
        {
          "output_type": "stream",
          "name": "stderr",
          "text": [
            "\r 30%|███       | 3/10 [00:02<00:06,  1.04it/s]"
          ]
        },
        {
          "output_type": "stream",
          "name": "stdout",
          "text": [
            "\n",
            "\tTop1: 0.781, Top5: 0.940, Coverage: 0.904, Size: 2.428\u001b[F"
          ]
        },
        {
          "output_type": "stream",
          "name": "stderr",
          "text": [
            "\r 40%|████      | 4/10 [00:03<00:05,  1.04it/s]"
          ]
        },
        {
          "output_type": "stream",
          "name": "stdout",
          "text": [
            "\n",
            "\tTop1: 0.786, Top5: 0.942, Coverage: 0.905, Size: 2.468\u001b[F"
          ]
        },
        {
          "output_type": "stream",
          "name": "stderr",
          "text": [
            "\r 50%|█████     | 5/10 [00:04<00:04,  1.06it/s]"
          ]
        },
        {
          "output_type": "stream",
          "name": "stdout",
          "text": [
            "\n",
            "\tTop1: 0.786, Top5: 0.940, Coverage: 0.904, Size: 2.428\u001b[F"
          ]
        },
        {
          "output_type": "stream",
          "name": "stderr",
          "text": [
            "\r 60%|██████    | 6/10 [00:05<00:03,  1.13it/s]"
          ]
        },
        {
          "output_type": "stream",
          "name": "stdout",
          "text": [
            "\n",
            "\tTop1: 0.788, Top5: 0.942, Coverage: 0.905, Size: 2.441\u001b[F"
          ]
        },
        {
          "output_type": "stream",
          "name": "stderr",
          "text": [
            "\r 70%|███████   | 7/10 [00:06<00:02,  1.18it/s]"
          ]
        },
        {
          "output_type": "stream",
          "name": "stdout",
          "text": [
            "\n",
            "\tTop1: 0.790, Top5: 0.944, Coverage: 0.904, Size: 2.428\u001b[F"
          ]
        },
        {
          "output_type": "stream",
          "name": "stderr",
          "text": [
            "\r 80%|████████  | 8/10 [00:07<00:01,  1.21it/s]"
          ]
        },
        {
          "output_type": "stream",
          "name": "stdout",
          "text": [
            "\n",
            "\tTop1: 0.790, Top5: 0.943, Coverage: 0.903, Size: 2.420\u001b[F"
          ]
        },
        {
          "output_type": "stream",
          "name": "stderr",
          "text": [
            "\r 90%|█████████ | 9/10 [00:07<00:00,  1.24it/s]"
          ]
        },
        {
          "output_type": "stream",
          "name": "stdout",
          "text": [
            "\n",
            "\tTop1: 0.790, Top5: 0.944, Coverage: 0.901, Size: 2.412\u001b[F"
          ]
        },
        {
          "output_type": "stream",
          "name": "stderr",
          "text": [
            "100%|██████████| 10/10 [00:08<00:00,  1.17it/s]"
          ]
        },
        {
          "output_type": "stream",
          "name": "stdout",
          "text": [
            "\n",
            "\tTop1: 0.790, Top5: 0.944, Coverage: 0.903, Size: 2.420\u001b[F\n",
            "Model: ResNet152 | Desired coverage: 0.9 | kreg: 2 | lambda: 0.2 \n"
          ]
        },
        {
          "output_type": "stream",
          "name": "stderr",
          "text": [
            "\n",
            " 10%|█         | 1/10 [00:00<00:07,  1.23it/s]"
          ]
        },
        {
          "output_type": "stream",
          "name": "stdout",
          "text": [
            "\n",
            "\tTop1: 0.781, Top5: 0.945, Coverage: 0.904, Size: 2.096\u001b[F"
          ]
        },
        {
          "output_type": "stream",
          "name": "stderr",
          "text": [
            "\r 20%|██        | 2/10 [00:01<00:05,  1.35it/s]"
          ]
        },
        {
          "output_type": "stream",
          "name": "stdout",
          "text": [
            "\n",
            "\tTop1: 0.786, Top5: 0.942, Coverage: 0.907, Size: 2.250\u001b[F"
          ]
        },
        {
          "output_type": "stream",
          "name": "stderr",
          "text": [
            "\r 30%|███       | 3/10 [00:02<00:05,  1.35it/s]"
          ]
        },
        {
          "output_type": "stream",
          "name": "stdout",
          "text": [
            "\n",
            "\tTop1: 0.781, Top5: 0.940, Coverage: 0.904, Size: 2.157\u001b[F"
          ]
        },
        {
          "output_type": "stream",
          "name": "stderr",
          "text": [
            "\r 40%|████      | 4/10 [00:02<00:04,  1.36it/s]"
          ]
        },
        {
          "output_type": "stream",
          "name": "stdout",
          "text": [
            "\n",
            "\tTop1: 0.786, Top5: 0.942, Coverage: 0.905, Size: 2.138\u001b[F"
          ]
        },
        {
          "output_type": "stream",
          "name": "stderr",
          "text": [
            "\r 50%|█████     | 5/10 [00:03<00:03,  1.31it/s]"
          ]
        },
        {
          "output_type": "stream",
          "name": "stdout",
          "text": [
            "\n",
            "\tTop1: 0.786, Top5: 0.940, Coverage: 0.904, Size: 2.157\u001b[F"
          ]
        },
        {
          "output_type": "stream",
          "name": "stderr",
          "text": [
            "\r 60%|██████    | 6/10 [00:04<00:03,  1.28it/s]"
          ]
        },
        {
          "output_type": "stream",
          "name": "stdout",
          "text": [
            "\n",
            "\tTop1: 0.788, Top5: 0.942, Coverage: 0.905, Size: 2.224\u001b[F"
          ]
        },
        {
          "output_type": "stream",
          "name": "stderr",
          "text": [
            "\r 70%|███████   | 7/10 [00:05<00:02,  1.16it/s]"
          ]
        },
        {
          "output_type": "stream",
          "name": "stdout",
          "text": [
            "\n",
            "\tTop1: 0.790, Top5: 0.944, Coverage: 0.904, Size: 2.157\u001b[F"
          ]
        },
        {
          "output_type": "stream",
          "name": "stderr",
          "text": [
            "\r 80%|████████  | 8/10 [00:06<00:01,  1.11it/s]"
          ]
        },
        {
          "output_type": "stream",
          "name": "stdout",
          "text": [
            "\n",
            "\tTop1: 0.790, Top5: 0.943, Coverage: 0.901, Size: 2.138\u001b[F"
          ]
        },
        {
          "output_type": "stream",
          "name": "stderr",
          "text": [
            "\r 90%|█████████ | 9/10 [00:07<00:00,  1.06it/s]"
          ]
        },
        {
          "output_type": "stream",
          "name": "stdout",
          "text": [
            "\n",
            "\tTop1: 0.790, Top5: 0.944, Coverage: 0.904, Size: 2.119\u001b[F"
          ]
        },
        {
          "output_type": "stream",
          "name": "stderr",
          "text": [
            "100%|██████████| 10/10 [00:08<00:00,  1.17it/s]"
          ]
        },
        {
          "output_type": "stream",
          "name": "stdout",
          "text": [
            "\n",
            "\tTop1: 0.790, Top5: 0.944, Coverage: 0.905, Size: 2.108\u001b[F\n",
            "Model: ResNet152 | Desired coverage: 0.9 | kreg: 2 | lambda: 0.5 \n"
          ]
        },
        {
          "output_type": "stream",
          "name": "stderr",
          "text": [
            "\n",
            " 10%|█         | 1/10 [00:00<00:07,  1.26it/s]"
          ]
        },
        {
          "output_type": "stream",
          "name": "stdout",
          "text": [
            "\n",
            "\tTop1: 0.781, Top5: 0.945, Coverage: 0.902, Size: 2.236\u001b[F"
          ]
        },
        {
          "output_type": "stream",
          "name": "stderr",
          "text": [
            "\r 20%|██        | 2/10 [00:01<00:06,  1.28it/s]"
          ]
        },
        {
          "output_type": "stream",
          "name": "stdout",
          "text": [
            "\n",
            "\tTop1: 0.786, Top5: 0.942, Coverage: 0.905, Size: 2.298\u001b[F"
          ]
        },
        {
          "output_type": "stream",
          "name": "stderr",
          "text": [
            "\r 30%|███       | 3/10 [00:02<00:05,  1.26it/s]"
          ]
        },
        {
          "output_type": "stream",
          "name": "stdout",
          "text": [
            "\n",
            "\tTop1: 0.781, Top5: 0.940, Coverage: 0.902, Size: 2.306\u001b[F"
          ]
        },
        {
          "output_type": "stream",
          "name": "stderr",
          "text": [
            "\r 40%|████      | 4/10 [00:03<00:04,  1.28it/s]"
          ]
        },
        {
          "output_type": "stream",
          "name": "stdout",
          "text": [
            "\n",
            "\tTop1: 0.786, Top5: 0.942, Coverage: 0.905, Size: 2.280\u001b[F"
          ]
        },
        {
          "output_type": "stream",
          "name": "stderr",
          "text": [
            "\r 50%|█████     | 5/10 [00:03<00:03,  1.27it/s]"
          ]
        },
        {
          "output_type": "stream",
          "name": "stdout",
          "text": [
            "\n",
            "\tTop1: 0.786, Top5: 0.940, Coverage: 0.903, Size: 2.306\u001b[F"
          ]
        },
        {
          "output_type": "stream",
          "name": "stderr",
          "text": [
            "\r 60%|██████    | 6/10 [00:04<00:03,  1.28it/s]"
          ]
        },
        {
          "output_type": "stream",
          "name": "stdout",
          "text": [
            "\n",
            "\tTop1: 0.788, Top5: 0.942, Coverage: 0.905, Size: 2.334\u001b[F"
          ]
        },
        {
          "output_type": "stream",
          "name": "stderr",
          "text": [
            "\r 70%|███████   | 7/10 [00:05<00:02,  1.29it/s]"
          ]
        },
        {
          "output_type": "stream",
          "name": "stdout",
          "text": [
            "\n",
            "\tTop1: 0.790, Top5: 0.944, Coverage: 0.903, Size: 2.306\u001b[F"
          ]
        },
        {
          "output_type": "stream",
          "name": "stderr",
          "text": [
            "\r 80%|████████  | 8/10 [00:06<00:01,  1.29it/s]"
          ]
        },
        {
          "output_type": "stream",
          "name": "stdout",
          "text": [
            "\n",
            "\tTop1: 0.790, Top5: 0.943, Coverage: 0.903, Size: 2.280\u001b[F"
          ]
        },
        {
          "output_type": "stream",
          "name": "stderr",
          "text": [
            "\r 90%|█████████ | 9/10 [00:07<00:00,  1.29it/s]"
          ]
        },
        {
          "output_type": "stream",
          "name": "stdout",
          "text": [
            "\n",
            "\tTop1: 0.790, Top5: 0.944, Coverage: 0.903, Size: 2.255\u001b[F"
          ]
        },
        {
          "output_type": "stream",
          "name": "stderr",
          "text": [
            "100%|██████████| 10/10 [00:07<00:00,  1.29it/s]"
          ]
        },
        {
          "output_type": "stream",
          "name": "stdout",
          "text": [
            "\n",
            "\tTop1: 0.790, Top5: 0.944, Coverage: 0.904, Size: 2.256\u001b[F\n",
            "Model: ResNet152 | Desired coverage: 0.9 | kreg: 2 | lambda: 0.7 \n"
          ]
        },
        {
          "output_type": "stream",
          "name": "stderr",
          "text": [
            "\n",
            " 10%|█         | 1/10 [00:01<00:09,  1.03s/it]"
          ]
        },
        {
          "output_type": "stream",
          "name": "stdout",
          "text": [
            "\n",
            "\tTop1: 0.781, Top5: 0.945, Coverage: 0.901, Size: 2.225\u001b[F"
          ]
        },
        {
          "output_type": "stream",
          "name": "stderr",
          "text": [
            "\r 20%|██        | 2/10 [00:01<00:07,  1.04it/s]"
          ]
        },
        {
          "output_type": "stream",
          "name": "stdout",
          "text": [
            "\n",
            "\tTop1: 0.786, Top5: 0.942, Coverage: 0.904, Size: 2.289\u001b[F"
          ]
        },
        {
          "output_type": "stream",
          "name": "stderr",
          "text": [
            "\r 30%|███       | 3/10 [00:02<00:06,  1.05it/s]"
          ]
        },
        {
          "output_type": "stream",
          "name": "stdout",
          "text": [
            "\n",
            "\tTop1: 0.781, Top5: 0.940, Coverage: 0.901, Size: 2.326\u001b[F"
          ]
        },
        {
          "output_type": "stream",
          "name": "stderr",
          "text": [
            "\r 40%|████      | 4/10 [00:03<00:05,  1.12it/s]"
          ]
        },
        {
          "output_type": "stream",
          "name": "stdout",
          "text": [
            "\n",
            "\tTop1: 0.786, Top5: 0.942, Coverage: 0.904, Size: 2.290\u001b[F"
          ]
        },
        {
          "output_type": "stream",
          "name": "stderr",
          "text": [
            "\r 50%|█████     | 5/10 [00:04<00:04,  1.13it/s]"
          ]
        },
        {
          "output_type": "stream",
          "name": "stdout",
          "text": [
            "\n",
            "\tTop1: 0.786, Top5: 0.940, Coverage: 0.901, Size: 2.326\u001b[F"
          ]
        },
        {
          "output_type": "stream",
          "name": "stderr",
          "text": [
            "\r 60%|██████    | 6/10 [00:05<00:03,  1.19it/s]"
          ]
        },
        {
          "output_type": "stream",
          "name": "stdout",
          "text": [
            "\n",
            "\tTop1: 0.788, Top5: 0.942, Coverage: 0.904, Size: 2.340\u001b[F"
          ]
        },
        {
          "output_type": "stream",
          "name": "stderr",
          "text": [
            "\r 70%|███████   | 7/10 [00:06<00:02,  1.23it/s]"
          ]
        },
        {
          "output_type": "stream",
          "name": "stdout",
          "text": [
            "\n",
            "\tTop1: 0.790, Top5: 0.944, Coverage: 0.902, Size: 2.326\u001b[F"
          ]
        },
        {
          "output_type": "stream",
          "name": "stderr",
          "text": [
            "\r 80%|████████  | 8/10 [00:06<00:01,  1.26it/s]"
          ]
        },
        {
          "output_type": "stream",
          "name": "stdout",
          "text": [
            "\n",
            "\tTop1: 0.790, Top5: 0.943, Coverage: 0.903, Size: 2.290\u001b[F"
          ]
        },
        {
          "output_type": "stream",
          "name": "stderr",
          "text": [
            "\r 90%|█████████ | 9/10 [00:07<00:00,  1.27it/s]"
          ]
        },
        {
          "output_type": "stream",
          "name": "stdout",
          "text": [
            "\n",
            "\tTop1: 0.790, Top5: 0.944, Coverage: 0.903, Size: 2.253\u001b[F"
          ]
        },
        {
          "output_type": "stream",
          "name": "stderr",
          "text": [
            "100%|██████████| 10/10 [00:08<00:00,  1.20it/s]"
          ]
        },
        {
          "output_type": "stream",
          "name": "stdout",
          "text": [
            "\n",
            "\tTop1: 0.790, Top5: 0.944, Coverage: 0.904, Size: 2.246\u001b[F\n",
            "Model: ResNet152 | Desired coverage: 0.9 | kreg: 2 | lambda: 1.0 \n"
          ]
        },
        {
          "output_type": "stream",
          "name": "stderr",
          "text": [
            "\n",
            " 10%|█         | 1/10 [00:00<00:07,  1.24it/s]"
          ]
        },
        {
          "output_type": "stream",
          "name": "stdout",
          "text": [
            "\n",
            "\tTop1: 0.781, Top5: 0.945, Coverage: 0.901, Size: 2.225\u001b[F"
          ]
        },
        {
          "output_type": "stream",
          "name": "stderr",
          "text": [
            "\r 20%|██        | 2/10 [00:01<00:05,  1.36it/s]"
          ]
        },
        {
          "output_type": "stream",
          "name": "stdout",
          "text": [
            "\n",
            "\tTop1: 0.786, Top5: 0.942, Coverage: 0.905, Size: 2.316\u001b[F"
          ]
        },
        {
          "output_type": "stream",
          "name": "stderr",
          "text": [
            "\r 30%|███       | 3/10 [00:02<00:05,  1.36it/s]"
          ]
        },
        {
          "output_type": "stream",
          "name": "stdout",
          "text": [
            "\n",
            "\tTop1: 0.781, Top5: 0.940, Coverage: 0.901, Size: 2.337\u001b[F"
          ]
        },
        {
          "output_type": "stream",
          "name": "stderr",
          "text": [
            "\r 40%|████      | 4/10 [00:02<00:04,  1.36it/s]"
          ]
        },
        {
          "output_type": "stream",
          "name": "stdout",
          "text": [
            "\n",
            "\tTop1: 0.786, Top5: 0.942, Coverage: 0.904, Size: 2.295\u001b[F"
          ]
        },
        {
          "output_type": "stream",
          "name": "stderr",
          "text": [
            "\r 50%|█████     | 5/10 [00:03<00:04,  1.18it/s]"
          ]
        },
        {
          "output_type": "stream",
          "name": "stdout",
          "text": [
            "\n",
            "\tTop1: 0.786, Top5: 0.940, Coverage: 0.901, Size: 2.337\u001b[F"
          ]
        },
        {
          "output_type": "stream",
          "name": "stderr",
          "text": [
            "\r 60%|██████    | 6/10 [00:05<00:03,  1.11it/s]"
          ]
        },
        {
          "output_type": "stream",
          "name": "stdout",
          "text": [
            "\n",
            "\tTop1: 0.788, Top5: 0.942, Coverage: 0.904, Size: 2.348\u001b[F"
          ]
        },
        {
          "output_type": "stream",
          "name": "stderr",
          "text": [
            "\r 70%|███████   | 7/10 [00:06<00:02,  1.07it/s]"
          ]
        },
        {
          "output_type": "stream",
          "name": "stdout",
          "text": [
            "\n",
            "\tTop1: 0.790, Top5: 0.944, Coverage: 0.902, Size: 2.337\u001b[F"
          ]
        },
        {
          "output_type": "stream",
          "name": "stderr",
          "text": [
            "\r 80%|████████  | 8/10 [00:06<00:01,  1.06it/s]"
          ]
        },
        {
          "output_type": "stream",
          "name": "stdout",
          "text": [
            "\n",
            "\tTop1: 0.790, Top5: 0.943, Coverage: 0.903, Size: 2.295\u001b[F"
          ]
        },
        {
          "output_type": "stream",
          "name": "stderr",
          "text": [
            "\r 90%|█████████ | 9/10 [00:07<00:00,  1.12it/s]"
          ]
        },
        {
          "output_type": "stream",
          "name": "stdout",
          "text": [
            "\n",
            "\tTop1: 0.790, Top5: 0.944, Coverage: 0.903, Size: 2.253\u001b[F"
          ]
        },
        {
          "output_type": "stream",
          "name": "stderr",
          "text": [
            "100%|██████████| 10/10 [00:08<00:00,  1.18it/s]"
          ]
        },
        {
          "output_type": "stream",
          "name": "stdout",
          "text": [
            "\n",
            "\tTop1: 0.790, Top5: 0.944, Coverage: 0.904, Size: 2.245\u001b[F\n",
            "Model: ResNet152 | Desired coverage: 0.9 | kreg: 5 | lambda: 0 \n"
          ]
        },
        {
          "output_type": "stream",
          "name": "stderr",
          "text": [
            "\n",
            " 10%|█         | 1/10 [00:00<00:07,  1.25it/s]"
          ]
        },
        {
          "output_type": "stream",
          "name": "stdout",
          "text": [
            "\n",
            "\tTop1: 0.781, Top5: 0.945, Coverage: 0.910, Size: 11.450\u001b[F"
          ]
        },
        {
          "output_type": "stream",
          "name": "stderr",
          "text": [
            "\r 20%|██        | 2/10 [00:01<00:05,  1.37it/s]"
          ]
        },
        {
          "output_type": "stream",
          "name": "stdout",
          "text": [
            "\n",
            "\tTop1: 0.786, Top5: 0.942, Coverage: 0.907, Size: 11.628\u001b[F"
          ]
        },
        {
          "output_type": "stream",
          "name": "stderr",
          "text": [
            "\r 30%|███       | 3/10 [00:02<00:05,  1.38it/s]"
          ]
        },
        {
          "output_type": "stream",
          "name": "stdout",
          "text": [
            "\n",
            "\tTop1: 0.781, Top5: 0.940, Coverage: 0.904, Size: 11.806\u001b[F"
          ]
        },
        {
          "output_type": "stream",
          "name": "stderr",
          "text": [
            "\r 40%|████      | 4/10 [00:02<00:04,  1.37it/s]"
          ]
        },
        {
          "output_type": "stream",
          "name": "stdout",
          "text": [
            "\n",
            "\tTop1: 0.786, Top5: 0.942, Coverage: 0.907, Size: 11.628\u001b[F"
          ]
        },
        {
          "output_type": "stream",
          "name": "stderr",
          "text": [
            "\r 50%|█████     | 5/10 [00:03<00:03,  1.32it/s]"
          ]
        },
        {
          "output_type": "stream",
          "name": "stdout",
          "text": [
            "\n",
            "\tTop1: 0.786, Top5: 0.940, Coverage: 0.904, Size: 11.450\u001b[F"
          ]
        },
        {
          "output_type": "stream",
          "name": "stderr",
          "text": [
            "\r 60%|██████    | 6/10 [00:04<00:03,  1.32it/s]"
          ]
        },
        {
          "output_type": "stream",
          "name": "stdout",
          "text": [
            "\n",
            "\tTop1: 0.788, Top5: 0.942, Coverage: 0.906, Size: 11.371\u001b[F"
          ]
        },
        {
          "output_type": "stream",
          "name": "stderr",
          "text": [
            "\r 70%|███████   | 7/10 [00:05<00:02,  1.32it/s]"
          ]
        },
        {
          "output_type": "stream",
          "name": "stdout",
          "text": [
            "\n",
            "\tTop1: 0.790, Top5: 0.944, Coverage: 0.904, Size: 11.292\u001b[F"
          ]
        },
        {
          "output_type": "stream",
          "name": "stderr",
          "text": [
            "\r 80%|████████  | 8/10 [00:06<00:01,  1.32it/s]"
          ]
        },
        {
          "output_type": "stream",
          "name": "stdout",
          "text": [
            "\n",
            "\tTop1: 0.790, Top5: 0.943, Coverage: 0.901, Size: 11.212\u001b[F"
          ]
        },
        {
          "output_type": "stream",
          "name": "stderr",
          "text": [
            "\r 90%|█████████ | 9/10 [00:06<00:00,  1.31it/s]"
          ]
        },
        {
          "output_type": "stream",
          "name": "stdout",
          "text": [
            "\n",
            "\tTop1: 0.790, Top5: 0.944, Coverage: 0.899, Size: 11.132\u001b[F"
          ]
        },
        {
          "output_type": "stream",
          "name": "stderr",
          "text": [
            "100%|██████████| 10/10 [00:07<00:00,  1.30it/s]"
          ]
        },
        {
          "output_type": "stream",
          "name": "stdout",
          "text": [
            "\n",
            "\tTop1: 0.790, Top5: 0.944, Coverage: 0.899, Size: 11.212\u001b[F\n",
            "Model: ResNet152 | Desired coverage: 0.9 | kreg: 5 | lambda: 0.0001 \n"
          ]
        },
        {
          "output_type": "stream",
          "name": "stderr",
          "text": [
            "\n",
            " 10%|█         | 1/10 [00:01<00:09,  1.02s/it]"
          ]
        },
        {
          "output_type": "stream",
          "name": "stdout",
          "text": [
            "\n",
            "\tTop1: 0.781, Top5: 0.945, Coverage: 0.909, Size: 10.330\u001b[F"
          ]
        },
        {
          "output_type": "stream",
          "name": "stderr",
          "text": [
            "\r 20%|██        | 2/10 [00:01<00:06,  1.21it/s]"
          ]
        },
        {
          "output_type": "stream",
          "name": "stdout",
          "text": [
            "\n",
            "\tTop1: 0.786, Top5: 0.942, Coverage: 0.907, Size: 10.565\u001b[F"
          ]
        },
        {
          "output_type": "stream",
          "name": "stderr",
          "text": [
            "\r 30%|███       | 3/10 [00:02<00:05,  1.28it/s]"
          ]
        },
        {
          "output_type": "stream",
          "name": "stdout",
          "text": [
            "\n",
            "\tTop1: 0.781, Top5: 0.940, Coverage: 0.904, Size: 10.800\u001b[F"
          ]
        },
        {
          "output_type": "stream",
          "name": "stderr",
          "text": [
            "\r 40%|████      | 4/10 [00:03<00:04,  1.29it/s]"
          ]
        },
        {
          "output_type": "stream",
          "name": "stdout",
          "text": [
            "\n",
            "\tTop1: 0.786, Top5: 0.942, Coverage: 0.907, Size: 10.748\u001b[F"
          ]
        },
        {
          "output_type": "stream",
          "name": "stderr",
          "text": [
            "\r 50%|█████     | 5/10 [00:04<00:03,  1.26it/s]"
          ]
        },
        {
          "output_type": "stream",
          "name": "stdout",
          "text": [
            "\n",
            "\tTop1: 0.786, Top5: 0.940, Coverage: 0.904, Size: 10.697\u001b[F"
          ]
        },
        {
          "output_type": "stream",
          "name": "stderr",
          "text": [
            "\r 60%|██████    | 6/10 [00:04<00:03,  1.24it/s]"
          ]
        },
        {
          "output_type": "stream",
          "name": "stdout",
          "text": [
            "\n",
            "\tTop1: 0.788, Top5: 0.942, Coverage: 0.906, Size: 10.514\u001b[F"
          ]
        },
        {
          "output_type": "stream",
          "name": "stderr",
          "text": [
            "\r 70%|███████   | 7/10 [00:05<00:02,  1.25it/s]"
          ]
        },
        {
          "output_type": "stream",
          "name": "stdout",
          "text": [
            "\n",
            "\tTop1: 0.790, Top5: 0.944, Coverage: 0.904, Size: 10.330\u001b[F"
          ]
        },
        {
          "output_type": "stream",
          "name": "stderr",
          "text": [
            "\r 80%|████████  | 8/10 [00:06<00:01,  1.26it/s]"
          ]
        },
        {
          "output_type": "stream",
          "name": "stdout",
          "text": [
            "\n",
            "\tTop1: 0.790, Top5: 0.943, Coverage: 0.901, Size: 10.198\u001b[F"
          ]
        },
        {
          "output_type": "stream",
          "name": "stderr",
          "text": [
            "\r 90%|█████████ | 9/10 [00:07<00:00,  1.27it/s]"
          ]
        },
        {
          "output_type": "stream",
          "name": "stdout",
          "text": [
            "\n",
            "\tTop1: 0.790, Top5: 0.944, Coverage: 0.899, Size: 10.066\u001b[F"
          ]
        },
        {
          "output_type": "stream",
          "name": "stderr",
          "text": [
            "100%|██████████| 10/10 [00:07<00:00,  1.26it/s]"
          ]
        },
        {
          "output_type": "stream",
          "name": "stdout",
          "text": [
            "\n",
            "\tTop1: 0.790, Top5: 0.944, Coverage: 0.899, Size: 10.198\u001b[F\n",
            "Model: ResNet152 | Desired coverage: 0.9 | kreg: 5 | lambda: 0.001 \n"
          ]
        },
        {
          "output_type": "stream",
          "name": "stderr",
          "text": [
            "\n",
            " 10%|█         | 1/10 [00:00<00:07,  1.25it/s]"
          ]
        },
        {
          "output_type": "stream",
          "name": "stdout",
          "text": [
            "\n",
            "\tTop1: 0.781, Top5: 0.945, Coverage: 0.908, Size: 7.332\u001b[F"
          ]
        },
        {
          "output_type": "stream",
          "name": "stderr",
          "text": [
            "\r 20%|██        | 2/10 [00:01<00:05,  1.37it/s]"
          ]
        },
        {
          "output_type": "stream",
          "name": "stdout",
          "text": [
            "\n",
            "\tTop1: 0.786, Top5: 0.942, Coverage: 0.906, Size: 7.446\u001b[F"
          ]
        },
        {
          "output_type": "stream",
          "name": "stderr",
          "text": [
            "\r 30%|███       | 3/10 [00:02<00:05,  1.26it/s]"
          ]
        },
        {
          "output_type": "stream",
          "name": "stdout",
          "text": [
            "\n",
            "\tTop1: 0.781, Top5: 0.940, Coverage: 0.903, Size: 7.559\u001b[F"
          ]
        },
        {
          "output_type": "stream",
          "name": "stderr",
          "text": [
            "\r 40%|████      | 4/10 [00:03<00:05,  1.17it/s]"
          ]
        },
        {
          "output_type": "stream",
          "name": "stdout",
          "text": [
            "\n",
            "\tTop1: 0.786, Top5: 0.942, Coverage: 0.906, Size: 7.550\u001b[F"
          ]
        },
        {
          "output_type": "stream",
          "name": "stderr",
          "text": [
            "\r 50%|█████     | 5/10 [00:04<00:04,  1.08it/s]"
          ]
        },
        {
          "output_type": "stream",
          "name": "stdout",
          "text": [
            "\n",
            "\tTop1: 0.786, Top5: 0.940, Coverage: 0.903, Size: 7.540\u001b[F"
          ]
        },
        {
          "output_type": "stream",
          "name": "stderr",
          "text": [
            "\r 60%|██████    | 6/10 [00:05<00:03,  1.05it/s]"
          ]
        },
        {
          "output_type": "stream",
          "name": "stdout",
          "text": [
            "\n",
            "\tTop1: 0.788, Top5: 0.942, Coverage: 0.906, Size: 7.436\u001b[F"
          ]
        },
        {
          "output_type": "stream",
          "name": "stderr",
          "text": [
            "\r 70%|███████   | 7/10 [00:06<00:02,  1.12it/s]"
          ]
        },
        {
          "output_type": "stream",
          "name": "stdout",
          "text": [
            "\n",
            "\tTop1: 0.790, Top5: 0.944, Coverage: 0.903, Size: 7.332\u001b[F"
          ]
        },
        {
          "output_type": "stream",
          "name": "stderr",
          "text": [
            "\r 80%|████████  | 8/10 [00:06<00:01,  1.17it/s]"
          ]
        },
        {
          "output_type": "stream",
          "name": "stdout",
          "text": [
            "\n",
            "\tTop1: 0.790, Top5: 0.943, Coverage: 0.900, Size: 7.211\u001b[F"
          ]
        },
        {
          "output_type": "stream",
          "name": "stderr",
          "text": [
            "\r 90%|█████████ | 9/10 [00:07<00:00,  1.22it/s]"
          ]
        },
        {
          "output_type": "stream",
          "name": "stdout",
          "text": [
            "\n",
            "\tTop1: 0.790, Top5: 0.944, Coverage: 0.897, Size: 7.089\u001b[F"
          ]
        },
        {
          "output_type": "stream",
          "name": "stderr",
          "text": [
            "100%|██████████| 10/10 [00:08<00:00,  1.19it/s]"
          ]
        },
        {
          "output_type": "stream",
          "name": "stdout",
          "text": [
            "\n",
            "\tTop1: 0.790, Top5: 0.944, Coverage: 0.900, Size: 7.211\u001b[F\n",
            "Model: ResNet152 | Desired coverage: 0.9 | kreg: 5 | lambda: 0.01 \n"
          ]
        },
        {
          "output_type": "stream",
          "name": "stderr",
          "text": [
            "\n",
            " 10%|█         | 1/10 [00:00<00:07,  1.26it/s]"
          ]
        },
        {
          "output_type": "stream",
          "name": "stdout",
          "text": [
            "\n",
            "\tTop1: 0.781, Top5: 0.945, Coverage: 0.906, Size: 3.937\u001b[F"
          ]
        },
        {
          "output_type": "stream",
          "name": "stderr",
          "text": [
            "\r 20%|██        | 2/10 [00:01<00:05,  1.37it/s]"
          ]
        },
        {
          "output_type": "stream",
          "name": "stdout",
          "text": [
            "\n",
            "\tTop1: 0.786, Top5: 0.942, Coverage: 0.907, Size: 4.086\u001b[F"
          ]
        },
        {
          "output_type": "stream",
          "name": "stderr",
          "text": [
            "\r 30%|███       | 3/10 [00:02<00:05,  1.38it/s]"
          ]
        },
        {
          "output_type": "stream",
          "name": "stdout",
          "text": [
            "\n",
            "\tTop1: 0.781, Top5: 0.940, Coverage: 0.906, Size: 4.234\u001b[F"
          ]
        },
        {
          "output_type": "stream",
          "name": "stderr",
          "text": [
            "\r 40%|████      | 4/10 [00:02<00:04,  1.38it/s]"
          ]
        },
        {
          "output_type": "stream",
          "name": "stdout",
          "text": [
            "\n",
            "\tTop1: 0.786, Top5: 0.942, Coverage: 0.907, Size: 4.176\u001b[F"
          ]
        },
        {
          "output_type": "stream",
          "name": "stderr",
          "text": [
            "\r 50%|█████     | 5/10 [00:03<00:03,  1.33it/s]"
          ]
        },
        {
          "output_type": "stream",
          "name": "stdout",
          "text": [
            "\n",
            "\tTop1: 0.786, Top5: 0.940, Coverage: 0.906, Size: 4.117\u001b[F"
          ]
        },
        {
          "output_type": "stream",
          "name": "stderr",
          "text": [
            "\r 60%|██████    | 6/10 [00:04<00:03,  1.33it/s]"
          ]
        },
        {
          "output_type": "stream",
          "name": "stdout",
          "text": [
            "\n",
            "\tTop1: 0.788, Top5: 0.942, Coverage: 0.907, Size: 4.028\u001b[F"
          ]
        },
        {
          "output_type": "stream",
          "name": "stderr",
          "text": [
            "\r 70%|███████   | 7/10 [00:05<00:02,  1.32it/s]"
          ]
        },
        {
          "output_type": "stream",
          "name": "stdout",
          "text": [
            "\n",
            "\tTop1: 0.790, Top5: 0.944, Coverage: 0.906, Size: 3.939\u001b[F"
          ]
        },
        {
          "output_type": "stream",
          "name": "stderr",
          "text": [
            "\r 80%|████████  | 8/10 [00:06<00:01,  1.30it/s]"
          ]
        },
        {
          "output_type": "stream",
          "name": "stdout",
          "text": [
            "\n",
            "\tTop1: 0.790, Top5: 0.943, Coverage: 0.903, Size: 3.938\u001b[F"
          ]
        },
        {
          "output_type": "stream",
          "name": "stderr",
          "text": [
            "\r 90%|█████████ | 9/10 [00:07<00:00,  1.19it/s]"
          ]
        },
        {
          "output_type": "stream",
          "name": "stdout",
          "text": [
            "\n",
            "\tTop1: 0.790, Top5: 0.944, Coverage: 0.901, Size: 3.937\u001b[F"
          ]
        },
        {
          "output_type": "stream",
          "name": "stderr",
          "text": [
            "100%|██████████| 10/10 [00:07<00:00,  1.25it/s]"
          ]
        },
        {
          "output_type": "stream",
          "name": "stdout",
          "text": [
            "\n",
            "\tTop1: 0.790, Top5: 0.944, Coverage: 0.901, Size: 3.938\u001b[F\n",
            "Model: ResNet152 | Desired coverage: 0.9 | kreg: 5 | lambda: 0.02 \n"
          ]
        },
        {
          "output_type": "stream",
          "name": "stderr",
          "text": [
            "\n",
            " 10%|█         | 1/10 [00:00<00:07,  1.25it/s]"
          ]
        },
        {
          "output_type": "stream",
          "name": "stdout",
          "text": [
            "\n",
            "\tTop1: 0.781, Top5: 0.945, Coverage: 0.907, Size: 3.402\u001b[F"
          ]
        },
        {
          "output_type": "stream",
          "name": "stderr",
          "text": [
            "\r 20%|██        | 2/10 [00:01<00:06,  1.33it/s]"
          ]
        },
        {
          "output_type": "stream",
          "name": "stdout",
          "text": [
            "\n",
            "\tTop1: 0.786, Top5: 0.942, Coverage: 0.908, Size: 3.486\u001b[F"
          ]
        },
        {
          "output_type": "stream",
          "name": "stderr",
          "text": [
            "\r 30%|███       | 3/10 [00:02<00:05,  1.35it/s]"
          ]
        },
        {
          "output_type": "stream",
          "name": "stdout",
          "text": [
            "\n",
            "\tTop1: 0.781, Top5: 0.940, Coverage: 0.907, Size: 3.568\u001b[F"
          ]
        },
        {
          "output_type": "stream",
          "name": "stderr",
          "text": [
            "\r 40%|████      | 4/10 [00:02<00:04,  1.36it/s]"
          ]
        },
        {
          "output_type": "stream",
          "name": "stdout",
          "text": [
            "\n",
            "\tTop1: 0.786, Top5: 0.942, Coverage: 0.908, Size: 3.535\u001b[F"
          ]
        },
        {
          "output_type": "stream",
          "name": "stderr",
          "text": [
            "\r 50%|█████     | 5/10 [00:03<00:03,  1.32it/s]"
          ]
        },
        {
          "output_type": "stream",
          "name": "stdout",
          "text": [
            "\n",
            "\tTop1: 0.786, Top5: 0.940, Coverage: 0.907, Size: 3.501\u001b[F"
          ]
        },
        {
          "output_type": "stream",
          "name": "stderr",
          "text": [
            "\r 60%|██████    | 6/10 [00:04<00:03,  1.31it/s]"
          ]
        },
        {
          "output_type": "stream",
          "name": "stdout",
          "text": [
            "\n",
            "\tTop1: 0.788, Top5: 0.942, Coverage: 0.908, Size: 3.458\u001b[F"
          ]
        },
        {
          "output_type": "stream",
          "name": "stderr",
          "text": [
            "\r 70%|███████   | 7/10 [00:05<00:02,  1.31it/s]"
          ]
        },
        {
          "output_type": "stream",
          "name": "stdout",
          "text": [
            "\n",
            "\tTop1: 0.790, Top5: 0.944, Coverage: 0.907, Size: 3.414\u001b[F"
          ]
        },
        {
          "output_type": "stream",
          "name": "stderr",
          "text": [
            "\r 80%|████████  | 8/10 [00:06<00:01,  1.29it/s]"
          ]
        },
        {
          "output_type": "stream",
          "name": "stdout",
          "text": [
            "\n",
            "\tTop1: 0.790, Top5: 0.943, Coverage: 0.903, Size: 3.409\u001b[F"
          ]
        },
        {
          "output_type": "stream",
          "name": "stderr",
          "text": [
            "\r 90%|█████████ | 9/10 [00:06<00:00,  1.24it/s]"
          ]
        },
        {
          "output_type": "stream",
          "name": "stdout",
          "text": [
            "\n",
            "\tTop1: 0.790, Top5: 0.944, Coverage: 0.901, Size: 3.402\u001b[F"
          ]
        },
        {
          "output_type": "stream",
          "name": "stderr",
          "text": [
            "100%|██████████| 10/10 [00:07<00:00,  1.28it/s]"
          ]
        },
        {
          "output_type": "stream",
          "name": "stdout",
          "text": [
            "\n",
            "\tTop1: 0.790, Top5: 0.944, Coverage: 0.902, Size: 3.409\u001b[F\n",
            "Model: ResNet152 | Desired coverage: 0.9 | kreg: 5 | lambda: 0.05 \n"
          ]
        },
        {
          "output_type": "stream",
          "name": "stderr",
          "text": [
            "\n",
            " 10%|█         | 1/10 [00:00<00:07,  1.21it/s]"
          ]
        },
        {
          "output_type": "stream",
          "name": "stdout",
          "text": [
            "\n",
            "\tTop1: 0.781, Top5: 0.945, Coverage: 0.904, Size: 2.916\u001b[F"
          ]
        },
        {
          "output_type": "stream",
          "name": "stderr",
          "text": [
            "\r 20%|██        | 2/10 [00:01<00:06,  1.15it/s]"
          ]
        },
        {
          "output_type": "stream",
          "name": "stdout",
          "text": [
            "\n",
            "\tTop1: 0.786, Top5: 0.942, Coverage: 0.906, Size: 2.937\u001b[F"
          ]
        },
        {
          "output_type": "stream",
          "name": "stderr",
          "text": [
            "\r 30%|███       | 3/10 [00:02<00:06,  1.11it/s]"
          ]
        },
        {
          "output_type": "stream",
          "name": "stdout",
          "text": [
            "\n",
            "\tTop1: 0.781, Top5: 0.940, Coverage: 0.904, Size: 2.958\u001b[F"
          ]
        },
        {
          "output_type": "stream",
          "name": "stderr",
          "text": [
            "\r 40%|████      | 4/10 [00:03<00:05,  1.08it/s]"
          ]
        },
        {
          "output_type": "stream",
          "name": "stdout",
          "text": [
            "\n",
            "\tTop1: 0.786, Top5: 0.942, Coverage: 0.905, Size: 2.960\u001b[F"
          ]
        },
        {
          "output_type": "stream",
          "name": "stderr",
          "text": [
            "\r 50%|█████     | 5/10 [00:04<00:04,  1.05it/s]"
          ]
        },
        {
          "output_type": "stream",
          "name": "stdout",
          "text": [
            "\n",
            "\tTop1: 0.786, Top5: 0.940, Coverage: 0.904, Size: 2.958\u001b[F"
          ]
        },
        {
          "output_type": "stream",
          "name": "stderr",
          "text": [
            "\r 60%|██████    | 6/10 [00:05<00:03,  1.13it/s]"
          ]
        },
        {
          "output_type": "stream",
          "name": "stdout",
          "text": [
            "\n",
            "\tTop1: 0.788, Top5: 0.942, Coverage: 0.905, Size: 2.942\u001b[F"
          ]
        },
        {
          "output_type": "stream",
          "name": "stderr",
          "text": [
            "\r 70%|███████   | 7/10 [00:06<00:02,  1.18it/s]"
          ]
        },
        {
          "output_type": "stream",
          "name": "stdout",
          "text": [
            "\n",
            "\tTop1: 0.790, Top5: 0.944, Coverage: 0.904, Size: 2.926\u001b[F"
          ]
        },
        {
          "output_type": "stream",
          "name": "stderr",
          "text": [
            "\r 80%|████████  | 8/10 [00:06<00:01,  1.22it/s]"
          ]
        },
        {
          "output_type": "stream",
          "name": "stdout",
          "text": [
            "\n",
            "\tTop1: 0.790, Top5: 0.943, Coverage: 0.900, Size: 2.921\u001b[F"
          ]
        },
        {
          "output_type": "stream",
          "name": "stderr",
          "text": [
            "\r 90%|█████████ | 9/10 [00:07<00:00,  1.25it/s]"
          ]
        },
        {
          "output_type": "stream",
          "name": "stdout",
          "text": [
            "\n",
            "\tTop1: 0.790, Top5: 0.944, Coverage: 0.899, Size: 2.916\u001b[F"
          ]
        },
        {
          "output_type": "stream",
          "name": "stderr",
          "text": [
            "100%|██████████| 10/10 [00:08<00:00,  1.19it/s]"
          ]
        },
        {
          "output_type": "stream",
          "name": "stdout",
          "text": [
            "\n",
            "\tTop1: 0.790, Top5: 0.944, Coverage: 0.902, Size: 2.921\u001b[F\n",
            "Model: ResNet152 | Desired coverage: 0.9 | kreg: 5 | lambda: 0.2 \n"
          ]
        },
        {
          "output_type": "stream",
          "name": "stderr",
          "text": [
            "\n",
            " 10%|█         | 1/10 [00:00<00:07,  1.27it/s]"
          ]
        },
        {
          "output_type": "stream",
          "name": "stdout",
          "text": [
            "\n",
            "\tTop1: 0.781, Top5: 0.945, Coverage: 0.904, Size: 2.568\u001b[F"
          ]
        },
        {
          "output_type": "stream",
          "name": "stderr",
          "text": [
            "\r 20%|██        | 2/10 [00:01<00:05,  1.38it/s]"
          ]
        },
        {
          "output_type": "stream",
          "name": "stdout",
          "text": [
            "\n",
            "\tTop1: 0.786, Top5: 0.942, Coverage: 0.901, Size: 2.561\u001b[F"
          ]
        },
        {
          "output_type": "stream",
          "name": "stderr",
          "text": [
            "\r 30%|███       | 3/10 [00:02<00:05,  1.38it/s]"
          ]
        },
        {
          "output_type": "stream",
          "name": "stdout",
          "text": [
            "\n",
            "\tTop1: 0.781, Top5: 0.940, Coverage: 0.899, Size: 2.568\u001b[F"
          ]
        },
        {
          "output_type": "stream",
          "name": "stderr",
          "text": [
            "\r 40%|████      | 4/10 [00:02<00:04,  1.38it/s]"
          ]
        },
        {
          "output_type": "stream",
          "name": "stdout",
          "text": [
            "\n",
            "\tTop1: 0.786, Top5: 0.942, Coverage: 0.901, Size: 2.607\u001b[F"
          ]
        },
        {
          "output_type": "stream",
          "name": "stderr",
          "text": [
            "\r 50%|█████     | 5/10 [00:03<00:03,  1.32it/s]"
          ]
        },
        {
          "output_type": "stream",
          "name": "stdout",
          "text": [
            "\n",
            "\tTop1: 0.786, Top5: 0.940, Coverage: 0.899, Size: 2.568\u001b[F"
          ]
        },
        {
          "output_type": "stream",
          "name": "stderr",
          "text": [
            "\r 60%|██████    | 6/10 [00:04<00:03,  1.32it/s]"
          ]
        },
        {
          "output_type": "stream",
          "name": "stdout",
          "text": [
            "\n",
            "\tTop1: 0.788, Top5: 0.942, Coverage: 0.901, Size: 2.586\u001b[F"
          ]
        },
        {
          "output_type": "stream",
          "name": "stderr",
          "text": [
            "\r 70%|███████   | 7/10 [00:05<00:02,  1.24it/s]"
          ]
        },
        {
          "output_type": "stream",
          "name": "stdout",
          "text": [
            "\n",
            "\tTop1: 0.790, Top5: 0.944, Coverage: 0.903, Size: 2.568\u001b[F"
          ]
        },
        {
          "output_type": "stream",
          "name": "stderr",
          "text": [
            "\r 80%|████████  | 8/10 [00:06<00:01,  1.16it/s]"
          ]
        },
        {
          "output_type": "stream",
          "name": "stdout",
          "text": [
            "\n",
            "\tTop1: 0.790, Top5: 0.943, Coverage: 0.903, Size: 2.577\u001b[F"
          ]
        },
        {
          "output_type": "stream",
          "name": "stderr",
          "text": [
            "\r 90%|█████████ | 9/10 [00:07<00:00,  1.11it/s]"
          ]
        },
        {
          "output_type": "stream",
          "name": "stdout",
          "text": [
            "\n",
            "\tTop1: 0.790, Top5: 0.944, Coverage: 0.903, Size: 2.568\u001b[F"
          ]
        },
        {
          "output_type": "stream",
          "name": "stderr",
          "text": [
            "100%|██████████| 10/10 [00:08<00:00,  1.20it/s]"
          ]
        },
        {
          "output_type": "stream",
          "name": "stdout",
          "text": [
            "\n",
            "\tTop1: 0.790, Top5: 0.944, Coverage: 0.903, Size: 2.577\u001b[F\n",
            "Model: ResNet152 | Desired coverage: 0.9 | kreg: 5 | lambda: 0.5 \n"
          ]
        },
        {
          "output_type": "stream",
          "name": "stderr",
          "text": [
            "\n",
            " 10%|█         | 1/10 [00:00<00:07,  1.24it/s]"
          ]
        },
        {
          "output_type": "stream",
          "name": "stdout",
          "text": [
            "\n",
            "\tTop1: 0.781, Top5: 0.945, Coverage: 0.904, Size: 2.494\u001b[F"
          ]
        },
        {
          "output_type": "stream",
          "name": "stderr",
          "text": [
            "\r 20%|██        | 2/10 [00:01<00:05,  1.36it/s]"
          ]
        },
        {
          "output_type": "stream",
          "name": "stdout",
          "text": [
            "\n",
            "\tTop1: 0.786, Top5: 0.942, Coverage: 0.903, Size: 2.500\u001b[F"
          ]
        },
        {
          "output_type": "stream",
          "name": "stderr",
          "text": [
            "\r 30%|███       | 3/10 [00:02<00:05,  1.36it/s]"
          ]
        },
        {
          "output_type": "stream",
          "name": "stdout",
          "text": [
            "\n",
            "\tTop1: 0.781, Top5: 0.940, Coverage: 0.901, Size: 2.506\u001b[F"
          ]
        },
        {
          "output_type": "stream",
          "name": "stderr",
          "text": [
            "\r 40%|████      | 4/10 [00:02<00:04,  1.37it/s]"
          ]
        },
        {
          "output_type": "stream",
          "name": "stdout",
          "text": [
            "\n",
            "\tTop1: 0.786, Top5: 0.942, Coverage: 0.903, Size: 2.524\u001b[F"
          ]
        },
        {
          "output_type": "stream",
          "name": "stderr",
          "text": [
            "\r 50%|█████     | 5/10 [00:03<00:03,  1.32it/s]"
          ]
        },
        {
          "output_type": "stream",
          "name": "stdout",
          "text": [
            "\n",
            "\tTop1: 0.786, Top5: 0.940, Coverage: 0.901, Size: 2.506\u001b[F"
          ]
        },
        {
          "output_type": "stream",
          "name": "stderr",
          "text": [
            "\r 60%|██████    | 6/10 [00:04<00:03,  1.31it/s]"
          ]
        },
        {
          "output_type": "stream",
          "name": "stdout",
          "text": [
            "\n",
            "\tTop1: 0.788, Top5: 0.942, Coverage: 0.903, Size: 2.513\u001b[F"
          ]
        },
        {
          "output_type": "stream",
          "name": "stderr",
          "text": [
            "\r 70%|███████   | 7/10 [00:05<00:02,  1.31it/s]"
          ]
        },
        {
          "output_type": "stream",
          "name": "stdout",
          "text": [
            "\n",
            "\tTop1: 0.790, Top5: 0.944, Coverage: 0.901, Size: 2.506\u001b[F"
          ]
        },
        {
          "output_type": "stream",
          "name": "stderr",
          "text": [
            "\r 80%|████████  | 8/10 [00:06<00:01,  1.30it/s]"
          ]
        },
        {
          "output_type": "stream",
          "name": "stdout",
          "text": [
            "\n",
            "\tTop1: 0.790, Top5: 0.943, Coverage: 0.903, Size: 2.502\u001b[F"
          ]
        },
        {
          "output_type": "stream",
          "name": "stderr",
          "text": [
            "\r 90%|█████████ | 9/10 [00:06<00:00,  1.30it/s]"
          ]
        },
        {
          "output_type": "stream",
          "name": "stdout",
          "text": [
            "\n",
            "\tTop1: 0.790, Top5: 0.944, Coverage: 0.901, Size: 2.499\u001b[F"
          ]
        },
        {
          "output_type": "stream",
          "name": "stderr",
          "text": [
            "100%|██████████| 10/10 [00:07<00:00,  1.32it/s]"
          ]
        },
        {
          "output_type": "stream",
          "name": "stdout",
          "text": [
            "\n",
            "\tTop1: 0.790, Top5: 0.944, Coverage: 0.903, Size: 2.502\u001b[F\n",
            "Model: ResNet152 | Desired coverage: 0.9 | kreg: 5 | lambda: 0.7 \n"
          ]
        },
        {
          "output_type": "stream",
          "name": "stderr",
          "text": [
            "\n",
            " 10%|█         | 1/10 [00:01<00:09,  1.04s/it]"
          ]
        },
        {
          "output_type": "stream",
          "name": "stdout",
          "text": [
            "\n",
            "\tTop1: 0.781, Top5: 0.945, Coverage: 0.903, Size: 2.485\u001b[F"
          ]
        },
        {
          "output_type": "stream",
          "name": "stderr",
          "text": [
            "\r 20%|██        | 2/10 [00:01<00:07,  1.05it/s]"
          ]
        },
        {
          "output_type": "stream",
          "name": "stdout",
          "text": [
            "\n",
            "\tTop1: 0.786, Top5: 0.942, Coverage: 0.902, Size: 2.489\u001b[F"
          ]
        },
        {
          "output_type": "stream",
          "name": "stderr",
          "text": [
            "\r 30%|███       | 3/10 [00:02<00:06,  1.05it/s]"
          ]
        },
        {
          "output_type": "stream",
          "name": "stdout",
          "text": [
            "\n",
            "\tTop1: 0.781, Top5: 0.940, Coverage: 0.901, Size: 2.493\u001b[F"
          ]
        },
        {
          "output_type": "stream",
          "name": "stderr",
          "text": [
            "\r 40%|████      | 4/10 [00:03<00:05,  1.04it/s]"
          ]
        },
        {
          "output_type": "stream",
          "name": "stdout",
          "text": [
            "\n",
            "\tTop1: 0.786, Top5: 0.942, Coverage: 0.902, Size: 2.505\u001b[F"
          ]
        },
        {
          "output_type": "stream",
          "name": "stderr",
          "text": [
            "\r 50%|█████     | 5/10 [00:04<00:04,  1.09it/s]"
          ]
        },
        {
          "output_type": "stream",
          "name": "stdout",
          "text": [
            "\n",
            "\tTop1: 0.786, Top5: 0.940, Coverage: 0.901, Size: 2.493\u001b[F"
          ]
        },
        {
          "output_type": "stream",
          "name": "stderr",
          "text": [
            "\r 60%|██████    | 6/10 [00:05<00:03,  1.16it/s]"
          ]
        },
        {
          "output_type": "stream",
          "name": "stdout",
          "text": [
            "\n",
            "\tTop1: 0.788, Top5: 0.942, Coverage: 0.902, Size: 2.498\u001b[F"
          ]
        },
        {
          "output_type": "stream",
          "name": "stderr",
          "text": [
            "\r 70%|███████   | 7/10 [00:06<00:02,  1.20it/s]"
          ]
        },
        {
          "output_type": "stream",
          "name": "stdout",
          "text": [
            "\n",
            "\tTop1: 0.790, Top5: 0.944, Coverage: 0.901, Size: 2.493\u001b[F"
          ]
        },
        {
          "output_type": "stream",
          "name": "stderr",
          "text": [
            "\r 80%|████████  | 8/10 [00:06<00:01,  1.23it/s]"
          ]
        },
        {
          "output_type": "stream",
          "name": "stdout",
          "text": [
            "\n",
            "\tTop1: 0.790, Top5: 0.943, Coverage: 0.902, Size: 2.489\u001b[F"
          ]
        },
        {
          "output_type": "stream",
          "name": "stderr",
          "text": [
            "\r 90%|█████████ | 9/10 [00:07<00:00,  1.25it/s]"
          ]
        },
        {
          "output_type": "stream",
          "name": "stdout",
          "text": [
            "\n",
            "\tTop1: 0.790, Top5: 0.944, Coverage: 0.901, Size: 2.485\u001b[F"
          ]
        },
        {
          "output_type": "stream",
          "name": "stderr",
          "text": [
            "100%|██████████| 10/10 [00:08<00:00,  1.18it/s]"
          ]
        },
        {
          "output_type": "stream",
          "name": "stdout",
          "text": [
            "\n",
            "\tTop1: 0.790, Top5: 0.944, Coverage: 0.902, Size: 2.489\u001b[F\n",
            "Model: ResNet152 | Desired coverage: 0.9 | kreg: 5 | lambda: 1.0 \n"
          ]
        },
        {
          "output_type": "stream",
          "name": "stderr",
          "text": [
            "\n",
            " 10%|█         | 1/10 [00:00<00:07,  1.26it/s]"
          ]
        },
        {
          "output_type": "stream",
          "name": "stdout",
          "text": [
            "\n",
            "\tTop1: 0.781, Top5: 0.945, Coverage: 0.903, Size: 2.483\u001b[F"
          ]
        },
        {
          "output_type": "stream",
          "name": "stderr",
          "text": [
            "\r 20%|██        | 2/10 [00:01<00:05,  1.36it/s]"
          ]
        },
        {
          "output_type": "stream",
          "name": "stdout",
          "text": [
            "\n",
            "\tTop1: 0.786, Top5: 0.942, Coverage: 0.902, Size: 2.486\u001b[F"
          ]
        },
        {
          "output_type": "stream",
          "name": "stderr",
          "text": [
            "\r 30%|███       | 3/10 [00:02<00:05,  1.38it/s]"
          ]
        },
        {
          "output_type": "stream",
          "name": "stdout",
          "text": [
            "\n",
            "\tTop1: 0.781, Top5: 0.940, Coverage: 0.900, Size: 2.490\u001b[F"
          ]
        },
        {
          "output_type": "stream",
          "name": "stderr",
          "text": [
            "\r 40%|████      | 4/10 [00:02<00:04,  1.37it/s]"
          ]
        },
        {
          "output_type": "stream",
          "name": "stdout",
          "text": [
            "\n",
            "\tTop1: 0.786, Top5: 0.942, Coverage: 0.902, Size: 2.502\u001b[F"
          ]
        },
        {
          "output_type": "stream",
          "name": "stderr",
          "text": [
            "\r 50%|█████     | 5/10 [00:03<00:03,  1.32it/s]"
          ]
        },
        {
          "output_type": "stream",
          "name": "stdout",
          "text": [
            "\n",
            "\tTop1: 0.786, Top5: 0.940, Coverage: 0.900, Size: 2.490\u001b[F"
          ]
        },
        {
          "output_type": "stream",
          "name": "stderr",
          "text": [
            "\r 60%|██████    | 6/10 [00:04<00:03,  1.23it/s]"
          ]
        },
        {
          "output_type": "stream",
          "name": "stdout",
          "text": [
            "\n",
            "\tTop1: 0.788, Top5: 0.942, Coverage: 0.902, Size: 2.496\u001b[F"
          ]
        },
        {
          "output_type": "stream",
          "name": "stderr",
          "text": [
            "\r 70%|███████   | 7/10 [00:05<00:02,  1.15it/s]"
          ]
        },
        {
          "output_type": "stream",
          "name": "stdout",
          "text": [
            "\n",
            "\tTop1: 0.790, Top5: 0.944, Coverage: 0.901, Size: 2.490\u001b[F"
          ]
        },
        {
          "output_type": "stream",
          "name": "stderr",
          "text": [
            "\r 80%|████████  | 8/10 [00:06<00:01,  1.09it/s]"
          ]
        },
        {
          "output_type": "stream",
          "name": "stdout",
          "text": [
            "\n",
            "\tTop1: 0.790, Top5: 0.943, Coverage: 0.902, Size: 2.486\u001b[F"
          ]
        },
        {
          "output_type": "stream",
          "name": "stderr",
          "text": [
            "\r 90%|█████████ | 9/10 [00:07<00:00,  1.07it/s]"
          ]
        },
        {
          "output_type": "stream",
          "name": "stdout",
          "text": [
            "\n",
            "\tTop1: 0.790, Top5: 0.944, Coverage: 0.901, Size: 2.483\u001b[F"
          ]
        },
        {
          "output_type": "stream",
          "name": "stderr",
          "text": [
            "100%|██████████| 10/10 [00:08<00:00,  1.19it/s]"
          ]
        },
        {
          "output_type": "stream",
          "name": "stdout",
          "text": [
            "\n",
            "\tTop1: 0.790, Top5: 0.944, Coverage: 0.902, Size: 2.486\u001b[F\n",
            "Model: ResNet152 | Desired coverage: 0.9 | kreg: 10 | lambda: 0 \n"
          ]
        },
        {
          "output_type": "stream",
          "name": "stderr",
          "text": [
            "\n",
            " 10%|█         | 1/10 [00:00<00:07,  1.26it/s]"
          ]
        },
        {
          "output_type": "stream",
          "name": "stdout",
          "text": [
            "\n",
            "\tTop1: 0.781, Top5: 0.945, Coverage: 0.910, Size: 11.450\u001b[F"
          ]
        },
        {
          "output_type": "stream",
          "name": "stderr",
          "text": [
            "\r 20%|██        | 2/10 [00:01<00:05,  1.36it/s]"
          ]
        },
        {
          "output_type": "stream",
          "name": "stdout",
          "text": [
            "\n",
            "\tTop1: 0.786, Top5: 0.942, Coverage: 0.907, Size: 11.628\u001b[F"
          ]
        },
        {
          "output_type": "stream",
          "name": "stderr",
          "text": [
            "\r 30%|███       | 3/10 [00:02<00:05,  1.36it/s]"
          ]
        },
        {
          "output_type": "stream",
          "name": "stdout",
          "text": [
            "\n",
            "\tTop1: 0.781, Top5: 0.940, Coverage: 0.904, Size: 11.806\u001b[F"
          ]
        },
        {
          "output_type": "stream",
          "name": "stderr",
          "text": [
            "\r 40%|████      | 4/10 [00:02<00:04,  1.38it/s]"
          ]
        },
        {
          "output_type": "stream",
          "name": "stdout",
          "text": [
            "\n",
            "\tTop1: 0.786, Top5: 0.942, Coverage: 0.907, Size: 11.628\u001b[F"
          ]
        },
        {
          "output_type": "stream",
          "name": "stderr",
          "text": [
            "\r 50%|█████     | 5/10 [00:03<00:03,  1.33it/s]"
          ]
        },
        {
          "output_type": "stream",
          "name": "stdout",
          "text": [
            "\n",
            "\tTop1: 0.786, Top5: 0.940, Coverage: 0.904, Size: 11.450\u001b[F"
          ]
        },
        {
          "output_type": "stream",
          "name": "stderr",
          "text": [
            "\r 60%|██████    | 6/10 [00:04<00:03,  1.32it/s]"
          ]
        },
        {
          "output_type": "stream",
          "name": "stdout",
          "text": [
            "\n",
            "\tTop1: 0.788, Top5: 0.942, Coverage: 0.906, Size: 11.371\u001b[F"
          ]
        },
        {
          "output_type": "stream",
          "name": "stderr",
          "text": [
            "\r 70%|███████   | 7/10 [00:05<00:02,  1.30it/s]"
          ]
        },
        {
          "output_type": "stream",
          "name": "stdout",
          "text": [
            "\n",
            "\tTop1: 0.790, Top5: 0.944, Coverage: 0.904, Size: 11.292\u001b[F"
          ]
        },
        {
          "output_type": "stream",
          "name": "stderr",
          "text": [
            "\r 80%|████████  | 8/10 [00:06<00:01,  1.30it/s]"
          ]
        },
        {
          "output_type": "stream",
          "name": "stdout",
          "text": [
            "\n",
            "\tTop1: 0.790, Top5: 0.943, Coverage: 0.901, Size: 11.212\u001b[F"
          ]
        },
        {
          "output_type": "stream",
          "name": "stderr",
          "text": [
            "\r 90%|█████████ | 9/10 [00:06<00:00,  1.31it/s]"
          ]
        },
        {
          "output_type": "stream",
          "name": "stdout",
          "text": [
            "\n",
            "\tTop1: 0.790, Top5: 0.944, Coverage: 0.899, Size: 11.132\u001b[F"
          ]
        },
        {
          "output_type": "stream",
          "name": "stderr",
          "text": [
            "100%|██████████| 10/10 [00:07<00:00,  1.33it/s]"
          ]
        },
        {
          "output_type": "stream",
          "name": "stdout",
          "text": [
            "\n",
            "\tTop1: 0.790, Top5: 0.944, Coverage: 0.899, Size: 11.212\u001b[F\n",
            "Model: ResNet152 | Desired coverage: 0.9 | kreg: 10 | lambda: 0.0001 \n"
          ]
        },
        {
          "output_type": "stream",
          "name": "stderr",
          "text": [
            "\n",
            " 10%|█         | 1/10 [00:01<00:09,  1.05s/it]"
          ]
        },
        {
          "output_type": "stream",
          "name": "stdout",
          "text": [
            "\n",
            "\tTop1: 0.781, Top5: 0.945, Coverage: 0.910, Size: 10.382\u001b[F"
          ]
        },
        {
          "output_type": "stream",
          "name": "stderr",
          "text": [
            "\r 20%|██        | 2/10 [00:02<00:08,  1.04s/it]"
          ]
        },
        {
          "output_type": "stream",
          "name": "stdout",
          "text": [
            "\n",
            "\tTop1: 0.786, Top5: 0.942, Coverage: 0.907, Size: 10.619\u001b[F"
          ]
        },
        {
          "output_type": "stream",
          "name": "stderr",
          "text": [
            "\r 30%|███       | 3/10 [00:02<00:06,  1.02it/s]"
          ]
        },
        {
          "output_type": "stream",
          "name": "stdout",
          "text": [
            "\n",
            "\tTop1: 0.781, Top5: 0.940, Coverage: 0.904, Size: 10.855\u001b[F"
          ]
        },
        {
          "output_type": "stream",
          "name": "stderr",
          "text": [
            "\r 40%|████      | 4/10 [00:03<00:05,  1.14it/s]"
          ]
        },
        {
          "output_type": "stream",
          "name": "stdout",
          "text": [
            "\n",
            "\tTop1: 0.786, Top5: 0.942, Coverage: 0.907, Size: 10.793\u001b[F"
          ]
        },
        {
          "output_type": "stream",
          "name": "stderr",
          "text": [
            "\r 50%|█████     | 5/10 [00:04<00:04,  1.18it/s]"
          ]
        },
        {
          "output_type": "stream",
          "name": "stdout",
          "text": [
            "\n",
            "\tTop1: 0.786, Top5: 0.940, Coverage: 0.904, Size: 10.729\u001b[F"
          ]
        },
        {
          "output_type": "stream",
          "name": "stderr",
          "text": [
            "\r 60%|██████    | 6/10 [00:05<00:03,  1.22it/s]"
          ]
        },
        {
          "output_type": "stream",
          "name": "stdout",
          "text": [
            "\n",
            "\tTop1: 0.788, Top5: 0.942, Coverage: 0.906, Size: 10.556\u001b[F"
          ]
        },
        {
          "output_type": "stream",
          "name": "stderr",
          "text": [
            "\r 70%|███████   | 7/10 [00:06<00:02,  1.26it/s]"
          ]
        },
        {
          "output_type": "stream",
          "name": "stdout",
          "text": [
            "\n",
            "\tTop1: 0.790, Top5: 0.944, Coverage: 0.904, Size: 10.382\u001b[F"
          ]
        },
        {
          "output_type": "stream",
          "name": "stderr",
          "text": [
            "\r 80%|████████  | 8/10 [00:06<00:01,  1.27it/s]"
          ]
        },
        {
          "output_type": "stream",
          "name": "stdout",
          "text": [
            "\n",
            "\tTop1: 0.790, Top5: 0.943, Coverage: 0.901, Size: 10.245\u001b[F"
          ]
        },
        {
          "output_type": "stream",
          "name": "stderr",
          "text": [
            "\r 90%|█████████ | 9/10 [00:07<00:00,  1.28it/s]"
          ]
        },
        {
          "output_type": "stream",
          "name": "stdout",
          "text": [
            "\n",
            "\tTop1: 0.790, Top5: 0.944, Coverage: 0.899, Size: 10.109\u001b[F"
          ]
        },
        {
          "output_type": "stream",
          "name": "stderr",
          "text": [
            "100%|██████████| 10/10 [00:08<00:00,  1.21it/s]"
          ]
        },
        {
          "output_type": "stream",
          "name": "stdout",
          "text": [
            "\n",
            "\tTop1: 0.790, Top5: 0.944, Coverage: 0.899, Size: 10.245\u001b[F\n",
            "Model: ResNet152 | Desired coverage: 0.9 | kreg: 10 | lambda: 0.001 \n"
          ]
        },
        {
          "output_type": "stream",
          "name": "stderr",
          "text": [
            "\n",
            " 10%|█         | 1/10 [00:00<00:07,  1.26it/s]"
          ]
        },
        {
          "output_type": "stream",
          "name": "stdout",
          "text": [
            "\n",
            "\tTop1: 0.781, Top5: 0.945, Coverage: 0.908, Size: 7.498\u001b[F"
          ]
        },
        {
          "output_type": "stream",
          "name": "stderr",
          "text": [
            "\r 20%|██        | 2/10 [00:01<00:05,  1.37it/s]"
          ]
        },
        {
          "output_type": "stream",
          "name": "stdout",
          "text": [
            "\n",
            "\tTop1: 0.786, Top5: 0.942, Coverage: 0.906, Size: 7.647\u001b[F"
          ]
        },
        {
          "output_type": "stream",
          "name": "stderr",
          "text": [
            "\r 30%|███       | 3/10 [00:02<00:05,  1.38it/s]"
          ]
        },
        {
          "output_type": "stream",
          "name": "stdout",
          "text": [
            "\n",
            "\tTop1: 0.781, Top5: 0.940, Coverage: 0.903, Size: 7.796\u001b[F"
          ]
        },
        {
          "output_type": "stream",
          "name": "stderr",
          "text": [
            "\r 40%|████      | 4/10 [00:02<00:04,  1.38it/s]"
          ]
        },
        {
          "output_type": "stream",
          "name": "stdout",
          "text": [
            "\n",
            "\tTop1: 0.786, Top5: 0.942, Coverage: 0.906, Size: 7.783\u001b[F"
          ]
        },
        {
          "output_type": "stream",
          "name": "stderr",
          "text": [
            "\r 50%|█████     | 5/10 [00:03<00:03,  1.25it/s]"
          ]
        },
        {
          "output_type": "stream",
          "name": "stdout",
          "text": [
            "\n",
            "\tTop1: 0.786, Top5: 0.940, Coverage: 0.903, Size: 7.771\u001b[F"
          ]
        },
        {
          "output_type": "stream",
          "name": "stderr",
          "text": [
            "\r 60%|██████    | 6/10 [00:04<00:03,  1.15it/s]"
          ]
        },
        {
          "output_type": "stream",
          "name": "stdout",
          "text": [
            "\n",
            "\tTop1: 0.788, Top5: 0.942, Coverage: 0.906, Size: 7.634\u001b[F"
          ]
        },
        {
          "output_type": "stream",
          "name": "stderr",
          "text": [
            "\r 70%|███████   | 7/10 [00:05<00:02,  1.10it/s]"
          ]
        },
        {
          "output_type": "stream",
          "name": "stdout",
          "text": [
            "\n",
            "\tTop1: 0.790, Top5: 0.944, Coverage: 0.903, Size: 7.498\u001b[F"
          ]
        },
        {
          "output_type": "stream",
          "name": "stderr",
          "text": [
            "\r 80%|████████  | 8/10 [00:06<00:01,  1.07it/s]"
          ]
        },
        {
          "output_type": "stream",
          "name": "stdout",
          "text": [
            "\n",
            "\tTop1: 0.790, Top5: 0.943, Coverage: 0.901, Size: 7.389\u001b[F"
          ]
        },
        {
          "output_type": "stream",
          "name": "stderr",
          "text": [
            "\r 90%|█████████ | 9/10 [00:07<00:00,  1.12it/s]"
          ]
        },
        {
          "output_type": "stream",
          "name": "stdout",
          "text": [
            "\n",
            "\tTop1: 0.790, Top5: 0.944, Coverage: 0.898, Size: 7.279\u001b[F"
          ]
        },
        {
          "output_type": "stream",
          "name": "stderr",
          "text": [
            "100%|██████████| 10/10 [00:08<00:00,  1.20it/s]"
          ]
        },
        {
          "output_type": "stream",
          "name": "stdout",
          "text": [
            "\n",
            "\tTop1: 0.790, Top5: 0.944, Coverage: 0.899, Size: 7.389\u001b[F\n",
            "Model: ResNet152 | Desired coverage: 0.9 | kreg: 10 | lambda: 0.01 \n"
          ]
        },
        {
          "output_type": "stream",
          "name": "stderr",
          "text": [
            "\n",
            " 10%|█         | 1/10 [00:00<00:07,  1.25it/s]"
          ]
        },
        {
          "output_type": "stream",
          "name": "stdout",
          "text": [
            "\n",
            "\tTop1: 0.781, Top5: 0.945, Coverage: 0.906, Size: 4.487\u001b[F"
          ]
        },
        {
          "output_type": "stream",
          "name": "stderr",
          "text": [
            "\r 20%|██        | 2/10 [00:01<00:05,  1.36it/s]"
          ]
        },
        {
          "output_type": "stream",
          "name": "stdout",
          "text": [
            "\n",
            "\tTop1: 0.786, Top5: 0.942, Coverage: 0.905, Size: 4.578\u001b[F"
          ]
        },
        {
          "output_type": "stream",
          "name": "stderr",
          "text": [
            "\r 30%|███       | 3/10 [00:02<00:05,  1.38it/s]"
          ]
        },
        {
          "output_type": "stream",
          "name": "stdout",
          "text": [
            "\n",
            "\tTop1: 0.781, Top5: 0.940, Coverage: 0.903, Size: 4.668\u001b[F"
          ]
        },
        {
          "output_type": "stream",
          "name": "stderr",
          "text": [
            "\r 40%|████      | 4/10 [00:02<00:04,  1.37it/s]"
          ]
        },
        {
          "output_type": "stream",
          "name": "stdout",
          "text": [
            "\n",
            "\tTop1: 0.786, Top5: 0.942, Coverage: 0.905, Size: 4.662\u001b[F"
          ]
        },
        {
          "output_type": "stream",
          "name": "stderr",
          "text": [
            "\r 50%|█████     | 5/10 [00:03<00:03,  1.32it/s]"
          ]
        },
        {
          "output_type": "stream",
          "name": "stdout",
          "text": [
            "\n",
            "\tTop1: 0.786, Top5: 0.940, Coverage: 0.903, Size: 4.655\u001b[F"
          ]
        },
        {
          "output_type": "stream",
          "name": "stderr",
          "text": [
            "\r 60%|██████    | 6/10 [00:04<00:03,  1.32it/s]"
          ]
        },
        {
          "output_type": "stream",
          "name": "stdout",
          "text": [
            "\n",
            "\tTop1: 0.788, Top5: 0.942, Coverage: 0.905, Size: 4.571\u001b[F"
          ]
        },
        {
          "output_type": "stream",
          "name": "stderr",
          "text": [
            "\r 70%|███████   | 7/10 [00:05<00:02,  1.31it/s]"
          ]
        },
        {
          "output_type": "stream",
          "name": "stdout",
          "text": [
            "\n",
            "\tTop1: 0.790, Top5: 0.944, Coverage: 0.903, Size: 4.487\u001b[F"
          ]
        },
        {
          "output_type": "stream",
          "name": "stderr",
          "text": [
            "\r 80%|████████  | 8/10 [00:06<00:01,  1.30it/s]"
          ]
        },
        {
          "output_type": "stream",
          "name": "stdout",
          "text": [
            "\n",
            "\tTop1: 0.790, Top5: 0.943, Coverage: 0.902, Size: 4.465\u001b[F"
          ]
        },
        {
          "output_type": "stream",
          "name": "stderr",
          "text": [
            "\r 90%|█████████ | 9/10 [00:06<00:00,  1.31it/s]"
          ]
        },
        {
          "output_type": "stream",
          "name": "stdout",
          "text": [
            "\n",
            "\tTop1: 0.790, Top5: 0.944, Coverage: 0.902, Size: 4.442\u001b[F"
          ]
        },
        {
          "output_type": "stream",
          "name": "stderr",
          "text": [
            "100%|██████████| 10/10 [00:07<00:00,  1.32it/s]"
          ]
        },
        {
          "output_type": "stream",
          "name": "stdout",
          "text": [
            "\n",
            "\tTop1: 0.790, Top5: 0.944, Coverage: 0.901, Size: 4.465\u001b[F\n",
            "Model: ResNet152 | Desired coverage: 0.9 | kreg: 10 | lambda: 0.02 \n"
          ]
        },
        {
          "output_type": "stream",
          "name": "stderr",
          "text": [
            "\n",
            " 10%|█         | 1/10 [00:01<00:09,  1.03s/it]"
          ]
        },
        {
          "output_type": "stream",
          "name": "stdout",
          "text": [
            "\n",
            "\tTop1: 0.781, Top5: 0.945, Coverage: 0.907, Size: 3.969\u001b[F"
          ]
        },
        {
          "output_type": "stream",
          "name": "stderr",
          "text": [
            "\r 20%|██        | 2/10 [00:01<00:07,  1.13it/s]"
          ]
        },
        {
          "output_type": "stream",
          "name": "stdout",
          "text": [
            "\n",
            "\tTop1: 0.786, Top5: 0.942, Coverage: 0.906, Size: 4.071\u001b[F"
          ]
        },
        {
          "output_type": "stream",
          "name": "stderr",
          "text": [
            "\r 30%|███       | 3/10 [00:02<00:05,  1.22it/s]"
          ]
        },
        {
          "output_type": "stream",
          "name": "stdout",
          "text": [
            "\n",
            "\tTop1: 0.781, Top5: 0.940, Coverage: 0.905, Size: 4.173\u001b[F"
          ]
        },
        {
          "output_type": "stream",
          "name": "stderr",
          "text": [
            "\r 40%|████      | 4/10 [00:03<00:04,  1.21it/s]"
          ]
        },
        {
          "output_type": "stream",
          "name": "stdout",
          "text": [
            "\n",
            "\tTop1: 0.786, Top5: 0.942, Coverage: 0.906, Size: 4.148\u001b[F"
          ]
        },
        {
          "output_type": "stream",
          "name": "stderr",
          "text": [
            "\r 50%|█████     | 5/10 [00:04<00:04,  1.17it/s]"
          ]
        },
        {
          "output_type": "stream",
          "name": "stdout",
          "text": [
            "\n",
            "\tTop1: 0.786, Top5: 0.940, Coverage: 0.905, Size: 4.122\u001b[F"
          ]
        },
        {
          "output_type": "stream",
          "name": "stderr",
          "text": [
            "\r 60%|██████    | 6/10 [00:05<00:03,  1.22it/s]"
          ]
        },
        {
          "output_type": "stream",
          "name": "stdout",
          "text": [
            "\n",
            "\tTop1: 0.788, Top5: 0.942, Coverage: 0.906, Size: 4.051\u001b[F"
          ]
        },
        {
          "output_type": "stream",
          "name": "stderr",
          "text": [
            "\r 70%|███████   | 7/10 [00:05<00:02,  1.24it/s]"
          ]
        },
        {
          "output_type": "stream",
          "name": "stdout",
          "text": [
            "\n",
            "\tTop1: 0.790, Top5: 0.944, Coverage: 0.905, Size: 3.981\u001b[F"
          ]
        },
        {
          "output_type": "stream",
          "name": "stderr",
          "text": [
            "\r 80%|████████  | 8/10 [00:06<00:01,  1.27it/s]"
          ]
        },
        {
          "output_type": "stream",
          "name": "stdout",
          "text": [
            "\n",
            "\tTop1: 0.790, Top5: 0.943, Coverage: 0.904, Size: 3.975\u001b[F"
          ]
        },
        {
          "output_type": "stream",
          "name": "stderr",
          "text": [
            "\r 90%|█████████ | 9/10 [00:07<00:00,  1.28it/s]"
          ]
        },
        {
          "output_type": "stream",
          "name": "stdout",
          "text": [
            "\n",
            "\tTop1: 0.790, Top5: 0.944, Coverage: 0.902, Size: 3.969\u001b[F"
          ]
        },
        {
          "output_type": "stream",
          "name": "stderr",
          "text": [
            "100%|██████████| 10/10 [00:08<00:00,  1.24it/s]"
          ]
        },
        {
          "output_type": "stream",
          "name": "stdout",
          "text": [
            "\n",
            "\tTop1: 0.790, Top5: 0.944, Coverage: 0.902, Size: 3.975\u001b[F\n",
            "Model: ResNet152 | Desired coverage: 0.9 | kreg: 10 | lambda: 0.05 \n"
          ]
        },
        {
          "output_type": "stream",
          "name": "stderr",
          "text": [
            "\n",
            " 10%|█         | 1/10 [00:00<00:07,  1.26it/s]"
          ]
        },
        {
          "output_type": "stream",
          "name": "stdout",
          "text": [
            "\n",
            "\tTop1: 0.781, Top5: 0.945, Coverage: 0.909, Size: 3.646\u001b[F"
          ]
        },
        {
          "output_type": "stream",
          "name": "stderr",
          "text": [
            "\r 20%|██        | 2/10 [00:01<00:05,  1.37it/s]"
          ]
        },
        {
          "output_type": "stream",
          "name": "stdout",
          "text": [
            "\n",
            "\tTop1: 0.786, Top5: 0.942, Coverage: 0.909, Size: 3.690\u001b[F"
          ]
        },
        {
          "output_type": "stream",
          "name": "stderr",
          "text": [
            "\r 30%|███       | 3/10 [00:02<00:05,  1.35it/s]"
          ]
        },
        {
          "output_type": "stream",
          "name": "stdout",
          "text": [
            "\n",
            "\tTop1: 0.781, Top5: 0.940, Coverage: 0.909, Size: 3.735\u001b[F"
          ]
        },
        {
          "output_type": "stream",
          "name": "stderr",
          "text": [
            "\r 40%|████      | 4/10 [00:03<00:04,  1.22it/s]"
          ]
        },
        {
          "output_type": "stream",
          "name": "stdout",
          "text": [
            "\n",
            "\tTop1: 0.786, Top5: 0.942, Coverage: 0.909, Size: 3.701\u001b[F"
          ]
        },
        {
          "output_type": "stream",
          "name": "stderr",
          "text": [
            "\r 50%|█████     | 5/10 [00:04<00:04,  1.11it/s]"
          ]
        },
        {
          "output_type": "stream",
          "name": "stdout",
          "text": [
            "\n",
            "\tTop1: 0.786, Top5: 0.940, Coverage: 0.909, Size: 3.668\u001b[F"
          ]
        },
        {
          "output_type": "stream",
          "name": "stderr",
          "text": [
            "\r 60%|██████    | 6/10 [00:05<00:03,  1.07it/s]"
          ]
        },
        {
          "output_type": "stream",
          "name": "stdout",
          "text": [
            "\n",
            "\tTop1: 0.788, Top5: 0.942, Coverage: 0.909, Size: 3.659\u001b[F"
          ]
        },
        {
          "output_type": "stream",
          "name": "stderr",
          "text": [
            "\r 70%|███████   | 7/10 [00:06<00:02,  1.08it/s]"
          ]
        },
        {
          "output_type": "stream",
          "name": "stdout",
          "text": [
            "\n",
            "\tTop1: 0.790, Top5: 0.944, Coverage: 0.909, Size: 3.650\u001b[F"
          ]
        },
        {
          "output_type": "stream",
          "name": "stderr",
          "text": [
            "\r 80%|████████  | 8/10 [00:06<00:01,  1.14it/s]"
          ]
        },
        {
          "output_type": "stream",
          "name": "stdout",
          "text": [
            "\n",
            "\tTop1: 0.790, Top5: 0.943, Coverage: 0.905, Size: 3.647\u001b[F"
          ]
        },
        {
          "output_type": "stream",
          "name": "stderr",
          "text": [
            "\r 90%|█████████ | 9/10 [00:07<00:00,  1.19it/s]"
          ]
        },
        {
          "output_type": "stream",
          "name": "stdout",
          "text": [
            "\n",
            "\tTop1: 0.790, Top5: 0.944, Coverage: 0.902, Size: 3.646\u001b[F"
          ]
        },
        {
          "output_type": "stream",
          "name": "stderr",
          "text": [
            "100%|██████████| 10/10 [00:08<00:00,  1.19it/s]"
          ]
        },
        {
          "output_type": "stream",
          "name": "stdout",
          "text": [
            "\n",
            "\tTop1: 0.790, Top5: 0.944, Coverage: 0.902, Size: 3.647\u001b[F\n",
            "Model: ResNet152 | Desired coverage: 0.9 | kreg: 10 | lambda: 0.2 \n"
          ]
        },
        {
          "output_type": "stream",
          "name": "stderr",
          "text": [
            "\n",
            " 10%|█         | 1/10 [00:00<00:07,  1.26it/s]"
          ]
        },
        {
          "output_type": "stream",
          "name": "stdout",
          "text": [
            "\n",
            "\tTop1: 0.781, Top5: 0.945, Coverage: 0.906, Size: 3.374\u001b[F"
          ]
        },
        {
          "output_type": "stream",
          "name": "stderr",
          "text": [
            "\r 20%|██        | 2/10 [00:01<00:05,  1.36it/s]"
          ]
        },
        {
          "output_type": "stream",
          "name": "stdout",
          "text": [
            "\n",
            "\tTop1: 0.786, Top5: 0.942, Coverage: 0.907, Size: 3.399\u001b[F"
          ]
        },
        {
          "output_type": "stream",
          "name": "stderr",
          "text": [
            "\r 30%|███       | 3/10 [00:02<00:05,  1.36it/s]"
          ]
        },
        {
          "output_type": "stream",
          "name": "stdout",
          "text": [
            "\n",
            "\tTop1: 0.781, Top5: 0.940, Coverage: 0.906, Size: 3.423\u001b[F"
          ]
        },
        {
          "output_type": "stream",
          "name": "stderr",
          "text": [
            "\r 40%|████      | 4/10 [00:02<00:04,  1.36it/s]"
          ]
        },
        {
          "output_type": "stream",
          "name": "stdout",
          "text": [
            "\n",
            "\tTop1: 0.786, Top5: 0.942, Coverage: 0.907, Size: 3.411\u001b[F"
          ]
        },
        {
          "output_type": "stream",
          "name": "stderr",
          "text": [
            "\r 50%|█████     | 5/10 [00:03<00:03,  1.32it/s]"
          ]
        },
        {
          "output_type": "stream",
          "name": "stdout",
          "text": [
            "\n",
            "\tTop1: 0.786, Top5: 0.940, Coverage: 0.906, Size: 3.399\u001b[F"
          ]
        },
        {
          "output_type": "stream",
          "name": "stderr",
          "text": [
            "\r 60%|██████    | 6/10 [00:04<00:03,  1.31it/s]"
          ]
        },
        {
          "output_type": "stream",
          "name": "stdout",
          "text": [
            "\n",
            "\tTop1: 0.788, Top5: 0.942, Coverage: 0.907, Size: 3.411\u001b[F"
          ]
        },
        {
          "output_type": "stream",
          "name": "stderr",
          "text": [
            "\r 70%|███████   | 7/10 [00:05<00:02,  1.31it/s]"
          ]
        },
        {
          "output_type": "stream",
          "name": "stdout",
          "text": [
            "\n",
            "\tTop1: 0.790, Top5: 0.944, Coverage: 0.906, Size: 3.399\u001b[F"
          ]
        },
        {
          "output_type": "stream",
          "name": "stderr",
          "text": [
            "\r 80%|████████  | 8/10 [00:06<00:01,  1.30it/s]"
          ]
        },
        {
          "output_type": "stream",
          "name": "stdout",
          "text": [
            "\n",
            "\tTop1: 0.790, Top5: 0.943, Coverage: 0.903, Size: 3.387\u001b[F"
          ]
        },
        {
          "output_type": "stream",
          "name": "stderr",
          "text": [
            "\r 90%|█████████ | 9/10 [00:07<00:00,  1.19it/s]"
          ]
        },
        {
          "output_type": "stream",
          "name": "stdout",
          "text": [
            "\n",
            "\tTop1: 0.790, Top5: 0.944, Coverage: 0.901, Size: 3.374\u001b[F"
          ]
        },
        {
          "output_type": "stream",
          "name": "stderr",
          "text": [
            "100%|██████████| 10/10 [00:08<00:00,  1.24it/s]"
          ]
        },
        {
          "output_type": "stream",
          "name": "stdout",
          "text": [
            "\n",
            "\tTop1: 0.790, Top5: 0.944, Coverage: 0.901, Size: 3.387\u001b[F\n",
            "Model: ResNet152 | Desired coverage: 0.9 | kreg: 10 | lambda: 0.5 \n"
          ]
        },
        {
          "output_type": "stream",
          "name": "stderr",
          "text": [
            "\n",
            " 10%|█         | 1/10 [00:00<00:07,  1.26it/s]"
          ]
        },
        {
          "output_type": "stream",
          "name": "stdout",
          "text": [
            "\n",
            "\tTop1: 0.781, Top5: 0.945, Coverage: 0.908, Size: 3.357\u001b[F"
          ]
        },
        {
          "output_type": "stream",
          "name": "stderr",
          "text": [
            "\r 20%|██        | 2/10 [00:01<00:05,  1.36it/s]"
          ]
        },
        {
          "output_type": "stream",
          "name": "stdout",
          "text": [
            "\n",
            "\tTop1: 0.786, Top5: 0.942, Coverage: 0.908, Size: 3.365\u001b[F"
          ]
        },
        {
          "output_type": "stream",
          "name": "stderr",
          "text": [
            "\r 30%|███       | 3/10 [00:02<00:05,  1.37it/s]"
          ]
        },
        {
          "output_type": "stream",
          "name": "stdout",
          "text": [
            "\n",
            "\tTop1: 0.781, Top5: 0.940, Coverage: 0.908, Size: 3.372\u001b[F"
          ]
        },
        {
          "output_type": "stream",
          "name": "stderr",
          "text": [
            "\r 40%|████      | 4/10 [00:02<00:04,  1.37it/s]"
          ]
        },
        {
          "output_type": "stream",
          "name": "stdout",
          "text": [
            "\n",
            "\tTop1: 0.786, Top5: 0.942, Coverage: 0.908, Size: 3.367\u001b[F"
          ]
        },
        {
          "output_type": "stream",
          "name": "stderr",
          "text": [
            "\r 50%|█████     | 5/10 [00:03<00:03,  1.32it/s]"
          ]
        },
        {
          "output_type": "stream",
          "name": "stdout",
          "text": [
            "\n",
            "\tTop1: 0.786, Top5: 0.940, Coverage: 0.908, Size: 3.361\u001b[F"
          ]
        },
        {
          "output_type": "stream",
          "name": "stderr",
          "text": [
            "\r 60%|██████    | 6/10 [00:04<00:03,  1.28it/s]"
          ]
        },
        {
          "output_type": "stream",
          "name": "stdout",
          "text": [
            "\n",
            "\tTop1: 0.788, Top5: 0.942, Coverage: 0.908, Size: 3.367\u001b[F"
          ]
        },
        {
          "output_type": "stream",
          "name": "stderr",
          "text": [
            "\r 70%|███████   | 7/10 [00:05<00:02,  1.26it/s]"
          ]
        },
        {
          "output_type": "stream",
          "name": "stdout",
          "text": [
            "\n",
            "\tTop1: 0.790, Top5: 0.944, Coverage: 0.908, Size: 3.361\u001b[F"
          ]
        },
        {
          "output_type": "stream",
          "name": "stderr",
          "text": [
            "\r 80%|████████  | 8/10 [00:06<00:01,  1.28it/s]"
          ]
        },
        {
          "output_type": "stream",
          "name": "stdout",
          "text": [
            "\n",
            "\tTop1: 0.790, Top5: 0.943, Coverage: 0.904, Size: 3.359\u001b[F"
          ]
        },
        {
          "output_type": "stream",
          "name": "stderr",
          "text": [
            "\r 90%|█████████ | 9/10 [00:06<00:00,  1.29it/s]"
          ]
        },
        {
          "output_type": "stream",
          "name": "stdout",
          "text": [
            "\n",
            "\tTop1: 0.790, Top5: 0.944, Coverage: 0.900, Size: 3.357\u001b[F"
          ]
        },
        {
          "output_type": "stream",
          "name": "stderr",
          "text": [
            "100%|██████████| 10/10 [00:07<00:00,  1.31it/s]"
          ]
        },
        {
          "output_type": "stream",
          "name": "stdout",
          "text": [
            "\n",
            "\tTop1: 0.790, Top5: 0.944, Coverage: 0.903, Size: 3.359\u001b[F\n",
            "Model: ResNet152 | Desired coverage: 0.9 | kreg: 10 | lambda: 0.7 \n"
          ]
        },
        {
          "output_type": "stream",
          "name": "stderr",
          "text": [
            "\n",
            " 10%|█         | 1/10 [00:00<00:07,  1.24it/s]"
          ]
        },
        {
          "output_type": "stream",
          "name": "stdout",
          "text": [
            "\n",
            "\tTop1: 0.781, Top5: 0.945, Coverage: 0.908, Size: 3.354\u001b[F"
          ]
        },
        {
          "output_type": "stream",
          "name": "stderr",
          "text": [
            "\r 20%|██        | 2/10 [00:01<00:06,  1.20it/s]"
          ]
        },
        {
          "output_type": "stream",
          "name": "stdout",
          "text": [
            "\n",
            "\tTop1: 0.786, Top5: 0.942, Coverage: 0.908, Size: 3.360\u001b[F"
          ]
        },
        {
          "output_type": "stream",
          "name": "stderr",
          "text": [
            "\r 30%|███       | 3/10 [00:02<00:06,  1.14it/s]"
          ]
        },
        {
          "output_type": "stream",
          "name": "stdout",
          "text": [
            "\n",
            "\tTop1: 0.781, Top5: 0.940, Coverage: 0.908, Size: 3.365\u001b[F"
          ]
        },
        {
          "output_type": "stream",
          "name": "stderr",
          "text": [
            "\r 40%|████      | 4/10 [00:03<00:05,  1.10it/s]"
          ]
        },
        {
          "output_type": "stream",
          "name": "stdout",
          "text": [
            "\n",
            "\tTop1: 0.786, Top5: 0.942, Coverage: 0.908, Size: 3.361\u001b[F"
          ]
        },
        {
          "output_type": "stream",
          "name": "stderr",
          "text": [
            "\r 50%|█████     | 5/10 [00:04<00:04,  1.04it/s]"
          ]
        },
        {
          "output_type": "stream",
          "name": "stdout",
          "text": [
            "\n",
            "\tTop1: 0.786, Top5: 0.940, Coverage: 0.908, Size: 3.356\u001b[F"
          ]
        },
        {
          "output_type": "stream",
          "name": "stderr",
          "text": [
            "\r 60%|██████    | 6/10 [00:05<00:03,  1.11it/s]"
          ]
        },
        {
          "output_type": "stream",
          "name": "stdout",
          "text": [
            "\n",
            "\tTop1: 0.788, Top5: 0.942, Coverage: 0.908, Size: 3.361\u001b[F"
          ]
        },
        {
          "output_type": "stream",
          "name": "stderr",
          "text": [
            "\r 70%|███████   | 7/10 [00:06<00:02,  1.17it/s]"
          ]
        },
        {
          "output_type": "stream",
          "name": "stdout",
          "text": [
            "\n",
            "\tTop1: 0.790, Top5: 0.944, Coverage: 0.908, Size: 3.356\u001b[F"
          ]
        },
        {
          "output_type": "stream",
          "name": "stderr",
          "text": [
            "\r 80%|████████  | 8/10 [00:06<00:01,  1.21it/s]"
          ]
        },
        {
          "output_type": "stream",
          "name": "stdout",
          "text": [
            "\n",
            "\tTop1: 0.790, Top5: 0.943, Coverage: 0.904, Size: 3.355\u001b[F"
          ]
        },
        {
          "output_type": "stream",
          "name": "stderr",
          "text": [
            "\r 90%|█████████ | 9/10 [00:07<00:00,  1.24it/s]"
          ]
        },
        {
          "output_type": "stream",
          "name": "stdout",
          "text": [
            "\n",
            "\tTop1: 0.790, Top5: 0.944, Coverage: 0.900, Size: 3.354\u001b[F"
          ]
        },
        {
          "output_type": "stream",
          "name": "stderr",
          "text": [
            "100%|██████████| 10/10 [00:08<00:00,  1.19it/s]"
          ]
        },
        {
          "output_type": "stream",
          "name": "stdout",
          "text": [
            "\n",
            "\tTop1: 0.790, Top5: 0.944, Coverage: 0.903, Size: 3.355\u001b[F\n",
            "Model: ResNet152 | Desired coverage: 0.9 | kreg: 10 | lambda: 1.0 \n"
          ]
        },
        {
          "output_type": "stream",
          "name": "stderr",
          "text": [
            "\n",
            " 10%|█         | 1/10 [00:00<00:07,  1.25it/s]"
          ]
        },
        {
          "output_type": "stream",
          "name": "stdout",
          "text": [
            "\n",
            "\tTop1: 0.781, Top5: 0.945, Coverage: 0.908, Size: 3.354\u001b[F"
          ]
        },
        {
          "output_type": "stream",
          "name": "stderr",
          "text": [
            "\r 20%|██        | 2/10 [00:01<00:05,  1.37it/s]"
          ]
        },
        {
          "output_type": "stream",
          "name": "stdout",
          "text": [
            "\n",
            "\tTop1: 0.786, Top5: 0.942, Coverage: 0.908, Size: 3.360\u001b[F"
          ]
        },
        {
          "output_type": "stream",
          "name": "stderr",
          "text": [
            "\r 30%|███       | 3/10 [00:02<00:05,  1.36it/s]"
          ]
        },
        {
          "output_type": "stream",
          "name": "stdout",
          "text": [
            "\n",
            "\tTop1: 0.781, Top5: 0.940, Coverage: 0.908, Size: 3.365\u001b[F"
          ]
        },
        {
          "output_type": "stream",
          "name": "stderr",
          "text": [
            "\r 40%|████      | 4/10 [00:02<00:04,  1.36it/s]"
          ]
        },
        {
          "output_type": "stream",
          "name": "stdout",
          "text": [
            "\n",
            "\tTop1: 0.786, Top5: 0.942, Coverage: 0.908, Size: 3.361\u001b[F"
          ]
        },
        {
          "output_type": "stream",
          "name": "stderr",
          "text": [
            "\r 50%|█████     | 5/10 [00:03<00:03,  1.32it/s]"
          ]
        },
        {
          "output_type": "stream",
          "name": "stdout",
          "text": [
            "\n",
            "\tTop1: 0.786, Top5: 0.940, Coverage: 0.908, Size: 3.356\u001b[F"
          ]
        },
        {
          "output_type": "stream",
          "name": "stderr",
          "text": [
            "\r 60%|██████    | 6/10 [00:04<00:03,  1.32it/s]"
          ]
        },
        {
          "output_type": "stream",
          "name": "stdout",
          "text": [
            "\n",
            "\tTop1: 0.788, Top5: 0.942, Coverage: 0.908, Size: 3.361\u001b[F"
          ]
        },
        {
          "output_type": "stream",
          "name": "stderr",
          "text": [
            "\r 70%|███████   | 7/10 [00:05<00:02,  1.26it/s]"
          ]
        },
        {
          "output_type": "stream",
          "name": "stdout",
          "text": [
            "\n",
            "\tTop1: 0.790, Top5: 0.944, Coverage: 0.908, Size: 3.356\u001b[F"
          ]
        },
        {
          "output_type": "stream",
          "name": "stderr",
          "text": [
            "\r 80%|████████  | 8/10 [00:06<00:01,  1.17it/s]"
          ]
        },
        {
          "output_type": "stream",
          "name": "stdout",
          "text": [
            "\n",
            "\tTop1: 0.790, Top5: 0.943, Coverage: 0.904, Size: 3.355\u001b[F"
          ]
        },
        {
          "output_type": "stream",
          "name": "stderr",
          "text": [
            "\r 90%|█████████ | 9/10 [00:07<00:00,  1.11it/s]"
          ]
        },
        {
          "output_type": "stream",
          "name": "stdout",
          "text": [
            "\n",
            "\tTop1: 0.790, Top5: 0.944, Coverage: 0.900, Size: 3.354\u001b[F"
          ]
        },
        {
          "output_type": "stream",
          "name": "stderr",
          "text": [
            "100%|██████████| 10/10 [00:08<00:00,  1.20it/s]"
          ]
        },
        {
          "output_type": "stream",
          "name": "stdout",
          "text": [
            "\n",
            "\tTop1: 0.790, Top5: 0.944, Coverage: 0.903, Size: 3.355\u001b[F\n",
            "Model: ResNet152 | Desired coverage: 0.9 | kreg: 50 | lambda: 0 \n"
          ]
        },
        {
          "output_type": "stream",
          "name": "stderr",
          "text": [
            "\n",
            " 10%|█         | 1/10 [00:00<00:07,  1.22it/s]"
          ]
        },
        {
          "output_type": "stream",
          "name": "stdout",
          "text": [
            "\n",
            "\tTop1: 0.781, Top5: 0.945, Coverage: 0.910, Size: 11.450\u001b[F"
          ]
        },
        {
          "output_type": "stream",
          "name": "stderr",
          "text": [
            "\r 20%|██        | 2/10 [00:01<00:05,  1.34it/s]"
          ]
        },
        {
          "output_type": "stream",
          "name": "stdout",
          "text": [
            "\n",
            "\tTop1: 0.786, Top5: 0.942, Coverage: 0.907, Size: 11.628\u001b[F"
          ]
        },
        {
          "output_type": "stream",
          "name": "stderr",
          "text": [
            "\r 30%|███       | 3/10 [00:02<00:05,  1.35it/s]"
          ]
        },
        {
          "output_type": "stream",
          "name": "stdout",
          "text": [
            "\n",
            "\tTop1: 0.781, Top5: 0.940, Coverage: 0.904, Size: 11.806\u001b[F"
          ]
        },
        {
          "output_type": "stream",
          "name": "stderr",
          "text": [
            "\r 40%|████      | 4/10 [00:02<00:04,  1.37it/s]"
          ]
        },
        {
          "output_type": "stream",
          "name": "stdout",
          "text": [
            "\n",
            "\tTop1: 0.786, Top5: 0.942, Coverage: 0.907, Size: 11.628\u001b[F"
          ]
        },
        {
          "output_type": "stream",
          "name": "stderr",
          "text": [
            "\r 50%|█████     | 5/10 [00:03<00:03,  1.32it/s]"
          ]
        },
        {
          "output_type": "stream",
          "name": "stdout",
          "text": [
            "\n",
            "\tTop1: 0.786, Top5: 0.940, Coverage: 0.904, Size: 11.450\u001b[F"
          ]
        },
        {
          "output_type": "stream",
          "name": "stderr",
          "text": [
            "\r 60%|██████    | 6/10 [00:04<00:03,  1.31it/s]"
          ]
        },
        {
          "output_type": "stream",
          "name": "stdout",
          "text": [
            "\n",
            "\tTop1: 0.788, Top5: 0.942, Coverage: 0.906, Size: 11.371\u001b[F"
          ]
        },
        {
          "output_type": "stream",
          "name": "stderr",
          "text": [
            "\r 70%|███████   | 7/10 [00:05<00:02,  1.31it/s]"
          ]
        },
        {
          "output_type": "stream",
          "name": "stdout",
          "text": [
            "\n",
            "\tTop1: 0.790, Top5: 0.944, Coverage: 0.904, Size: 11.292\u001b[F"
          ]
        },
        {
          "output_type": "stream",
          "name": "stderr",
          "text": [
            "\r 80%|████████  | 8/10 [00:06<00:01,  1.31it/s]"
          ]
        },
        {
          "output_type": "stream",
          "name": "stdout",
          "text": [
            "\n",
            "\tTop1: 0.790, Top5: 0.943, Coverage: 0.901, Size: 11.212\u001b[F"
          ]
        },
        {
          "output_type": "stream",
          "name": "stderr",
          "text": [
            "\r 90%|█████████ | 9/10 [00:06<00:00,  1.25it/s]"
          ]
        },
        {
          "output_type": "stream",
          "name": "stdout",
          "text": [
            "\n",
            "\tTop1: 0.790, Top5: 0.944, Coverage: 0.899, Size: 11.132\u001b[F"
          ]
        },
        {
          "output_type": "stream",
          "name": "stderr",
          "text": [
            "100%|██████████| 10/10 [00:07<00:00,  1.29it/s]"
          ]
        },
        {
          "output_type": "stream",
          "name": "stdout",
          "text": [
            "\n",
            "\tTop1: 0.790, Top5: 0.944, Coverage: 0.899, Size: 11.212\u001b[F\n",
            "Model: ResNet152 | Desired coverage: 0.9 | kreg: 50 | lambda: 0.0001 \n"
          ]
        },
        {
          "output_type": "stream",
          "name": "stderr",
          "text": [
            "\n",
            " 10%|█         | 1/10 [00:01<00:09,  1.05s/it]"
          ]
        },
        {
          "output_type": "stream",
          "name": "stdout",
          "text": [
            "\n",
            "\tTop1: 0.781, Top5: 0.945, Coverage: 0.910, Size: 10.744\u001b[F"
          ]
        },
        {
          "output_type": "stream",
          "name": "stderr",
          "text": [
            "\r 20%|██        | 2/10 [00:01<00:07,  1.04it/s]"
          ]
        },
        {
          "output_type": "stream",
          "name": "stdout",
          "text": [
            "\n",
            "\tTop1: 0.786, Top5: 0.942, Coverage: 0.907, Size: 10.959\u001b[F"
          ]
        },
        {
          "output_type": "stream",
          "name": "stderr",
          "text": [
            "\r 30%|███       | 3/10 [00:02<00:06,  1.05it/s]"
          ]
        },
        {
          "output_type": "stream",
          "name": "stdout",
          "text": [
            "\n",
            "\tTop1: 0.781, Top5: 0.940, Coverage: 0.904, Size: 11.173\u001b[F"
          ]
        },
        {
          "output_type": "stream",
          "name": "stderr",
          "text": [
            "\r 40%|████      | 4/10 [00:03<00:05,  1.06it/s]"
          ]
        },
        {
          "output_type": "stream",
          "name": "stdout",
          "text": [
            "\n",
            "\tTop1: 0.786, Top5: 0.942, Coverage: 0.907, Size: 11.064\u001b[F"
          ]
        },
        {
          "output_type": "stream",
          "name": "stderr",
          "text": [
            "\r 50%|█████     | 5/10 [00:04<00:04,  1.12it/s]"
          ]
        },
        {
          "output_type": "stream",
          "name": "stdout",
          "text": [
            "\n",
            "\tTop1: 0.786, Top5: 0.940, Coverage: 0.904, Size: 10.954\u001b[F"
          ]
        },
        {
          "output_type": "stream",
          "name": "stderr",
          "text": [
            "\r 60%|██████    | 6/10 [00:05<00:03,  1.18it/s]"
          ]
        },
        {
          "output_type": "stream",
          "name": "stdout",
          "text": [
            "\n",
            "\tTop1: 0.788, Top5: 0.942, Coverage: 0.906, Size: 10.849\u001b[F"
          ]
        },
        {
          "output_type": "stream",
          "name": "stderr",
          "text": [
            "\r 70%|███████   | 7/10 [00:06<00:02,  1.22it/s]"
          ]
        },
        {
          "output_type": "stream",
          "name": "stdout",
          "text": [
            "\n",
            "\tTop1: 0.790, Top5: 0.944, Coverage: 0.904, Size: 10.744\u001b[F"
          ]
        },
        {
          "output_type": "stream",
          "name": "stderr",
          "text": [
            "\r 80%|████████  | 8/10 [00:06<00:01,  1.25it/s]"
          ]
        },
        {
          "output_type": "stream",
          "name": "stdout",
          "text": [
            "\n",
            "\tTop1: 0.790, Top5: 0.943, Coverage: 0.901, Size: 10.599\u001b[F"
          ]
        },
        {
          "output_type": "stream",
          "name": "stderr",
          "text": [
            "\r 90%|█████████ | 9/10 [00:07<00:00,  1.27it/s]"
          ]
        },
        {
          "output_type": "stream",
          "name": "stdout",
          "text": [
            "\n",
            "\tTop1: 0.790, Top5: 0.944, Coverage: 0.899, Size: 10.454\u001b[F"
          ]
        },
        {
          "output_type": "stream",
          "name": "stderr",
          "text": [
            "100%|██████████| 10/10 [00:08<00:00,  1.19it/s]"
          ]
        },
        {
          "output_type": "stream",
          "name": "stdout",
          "text": [
            "\n",
            "\tTop1: 0.790, Top5: 0.944, Coverage: 0.899, Size: 10.599\u001b[F\n",
            "Model: ResNet152 | Desired coverage: 0.9 | kreg: 50 | lambda: 0.001 \n"
          ]
        },
        {
          "output_type": "stream",
          "name": "stderr",
          "text": [
            "\n",
            " 10%|█         | 1/10 [00:00<00:07,  1.28it/s]"
          ]
        },
        {
          "output_type": "stream",
          "name": "stdout",
          "text": [
            "\n",
            "\tTop1: 0.781, Top5: 0.945, Coverage: 0.908, Size: 8.777\u001b[F"
          ]
        },
        {
          "output_type": "stream",
          "name": "stderr",
          "text": [
            "\r 20%|██        | 2/10 [00:01<00:05,  1.38it/s]"
          ]
        },
        {
          "output_type": "stream",
          "name": "stdout",
          "text": [
            "\n",
            "\tTop1: 0.786, Top5: 0.942, Coverage: 0.906, Size: 8.989\u001b[F"
          ]
        },
        {
          "output_type": "stream",
          "name": "stderr",
          "text": [
            "\r 30%|███       | 3/10 [00:02<00:05,  1.38it/s]"
          ]
        },
        {
          "output_type": "stream",
          "name": "stdout",
          "text": [
            "\n",
            "\tTop1: 0.781, Top5: 0.940, Coverage: 0.903, Size: 9.201\u001b[F"
          ]
        },
        {
          "output_type": "stream",
          "name": "stderr",
          "text": [
            "\r 40%|████      | 4/10 [00:02<00:04,  1.38it/s]"
          ]
        },
        {
          "output_type": "stream",
          "name": "stdout",
          "text": [
            "\n",
            "\tTop1: 0.786, Top5: 0.942, Coverage: 0.906, Size: 9.225\u001b[F"
          ]
        },
        {
          "output_type": "stream",
          "name": "stderr",
          "text": [
            "\r 50%|█████     | 5/10 [00:03<00:03,  1.34it/s]"
          ]
        },
        {
          "output_type": "stream",
          "name": "stdout",
          "text": [
            "\n",
            "\tTop1: 0.786, Top5: 0.940, Coverage: 0.903, Size: 9.201\u001b[F"
          ]
        },
        {
          "output_type": "stream",
          "name": "stderr",
          "text": [
            "\r 60%|██████    | 6/10 [00:04<00:03,  1.27it/s]"
          ]
        },
        {
          "output_type": "stream",
          "name": "stdout",
          "text": [
            "\n",
            "\tTop1: 0.788, Top5: 0.942, Coverage: 0.906, Size: 8.989\u001b[F"
          ]
        },
        {
          "output_type": "stream",
          "name": "stderr",
          "text": [
            "\r 70%|███████   | 7/10 [00:05<00:02,  1.17it/s]"
          ]
        },
        {
          "output_type": "stream",
          "name": "stdout",
          "text": [
            "\n",
            "\tTop1: 0.790, Top5: 0.944, Coverage: 0.903, Size: 8.777\u001b[F"
          ]
        },
        {
          "output_type": "stream",
          "name": "stderr",
          "text": [
            "\r 80%|████████  | 8/10 [00:06<00:01,  1.11it/s]"
          ]
        },
        {
          "output_type": "stream",
          "name": "stdout",
          "text": [
            "\n",
            "\tTop1: 0.790, Top5: 0.943, Coverage: 0.901, Size: 8.731\u001b[F"
          ]
        },
        {
          "output_type": "stream",
          "name": "stderr",
          "text": [
            "\r 90%|█████████ | 9/10 [00:07<00:00,  1.07it/s]"
          ]
        },
        {
          "output_type": "stream",
          "name": "stdout",
          "text": [
            "\n",
            "\tTop1: 0.790, Top5: 0.944, Coverage: 0.898, Size: 8.684\u001b[F"
          ]
        },
        {
          "output_type": "stream",
          "name": "stderr",
          "text": [
            "100%|██████████| 10/10 [00:08<00:00,  1.20it/s]"
          ]
        },
        {
          "output_type": "stream",
          "name": "stdout",
          "text": [
            "\n",
            "\tTop1: 0.790, Top5: 0.944, Coverage: 0.898, Size: 8.731\u001b[F\n",
            "Model: ResNet152 | Desired coverage: 0.9 | kreg: 50 | lambda: 0.01 \n"
          ]
        },
        {
          "output_type": "stream",
          "name": "stderr",
          "text": [
            "\n",
            " 10%|█         | 1/10 [00:00<00:07,  1.25it/s]"
          ]
        },
        {
          "output_type": "stream",
          "name": "stdout",
          "text": [
            "\n",
            "\tTop1: 0.781, Top5: 0.945, Coverage: 0.907, Size: 7.274\u001b[F"
          ]
        },
        {
          "output_type": "stream",
          "name": "stderr",
          "text": [
            "\r 20%|██        | 2/10 [00:01<00:05,  1.37it/s]"
          ]
        },
        {
          "output_type": "stream",
          "name": "stdout",
          "text": [
            "\n",
            "\tTop1: 0.786, Top5: 0.942, Coverage: 0.905, Size: 7.390\u001b[F"
          ]
        },
        {
          "output_type": "stream",
          "name": "stderr",
          "text": [
            "\r 30%|███       | 3/10 [00:02<00:05,  1.36it/s]"
          ]
        },
        {
          "output_type": "stream",
          "name": "stdout",
          "text": [
            "\n",
            "\tTop1: 0.781, Top5: 0.940, Coverage: 0.903, Size: 7.506\u001b[F"
          ]
        },
        {
          "output_type": "stream",
          "name": "stderr",
          "text": [
            "\r 40%|████      | 4/10 [00:02<00:04,  1.37it/s]"
          ]
        },
        {
          "output_type": "stream",
          "name": "stdout",
          "text": [
            "\n",
            "\tTop1: 0.786, Top5: 0.942, Coverage: 0.905, Size: 7.533\u001b[F"
          ]
        },
        {
          "output_type": "stream",
          "name": "stderr",
          "text": [
            "\r 50%|█████     | 5/10 [00:03<00:03,  1.31it/s]"
          ]
        },
        {
          "output_type": "stream",
          "name": "stdout",
          "text": [
            "\n",
            "\tTop1: 0.786, Top5: 0.940, Coverage: 0.903, Size: 7.506\u001b[F"
          ]
        },
        {
          "output_type": "stream",
          "name": "stderr",
          "text": [
            "\r 60%|██████    | 6/10 [00:04<00:03,  1.31it/s]"
          ]
        },
        {
          "output_type": "stream",
          "name": "stdout",
          "text": [
            "\n",
            "\tTop1: 0.788, Top5: 0.942, Coverage: 0.905, Size: 7.390\u001b[F"
          ]
        },
        {
          "output_type": "stream",
          "name": "stderr",
          "text": [
            "\r 70%|███████   | 7/10 [00:05<00:02,  1.31it/s]"
          ]
        },
        {
          "output_type": "stream",
          "name": "stdout",
          "text": [
            "\n",
            "\tTop1: 0.790, Top5: 0.944, Coverage: 0.903, Size: 7.274\u001b[F"
          ]
        },
        {
          "output_type": "stream",
          "name": "stderr",
          "text": [
            "\r 80%|████████  | 8/10 [00:06<00:01,  1.31it/s]"
          ]
        },
        {
          "output_type": "stream",
          "name": "stdout",
          "text": [
            "\n",
            "\tTop1: 0.790, Top5: 0.943, Coverage: 0.900, Size: 7.234\u001b[F"
          ]
        },
        {
          "output_type": "stream",
          "name": "stderr",
          "text": [
            "\r 90%|█████████ | 9/10 [00:06<00:00,  1.31it/s]"
          ]
        },
        {
          "output_type": "stream",
          "name": "stdout",
          "text": [
            "\n",
            "\tTop1: 0.790, Top5: 0.944, Coverage: 0.897, Size: 7.193\u001b[F"
          ]
        },
        {
          "output_type": "stream",
          "name": "stderr",
          "text": [
            "100%|██████████| 10/10 [00:07<00:00,  1.33it/s]"
          ]
        },
        {
          "output_type": "stream",
          "name": "stdout",
          "text": [
            "\n",
            "\tTop1: 0.790, Top5: 0.944, Coverage: 0.898, Size: 7.234\u001b[F\n",
            "Model: ResNet152 | Desired coverage: 0.9 | kreg: 50 | lambda: 0.02 \n"
          ]
        },
        {
          "output_type": "stream",
          "name": "stderr",
          "text": [
            "\n",
            " 10%|█         | 1/10 [00:01<00:09,  1.03s/it]"
          ]
        },
        {
          "output_type": "stream",
          "name": "stdout",
          "text": [
            "\n",
            "\tTop1: 0.781, Top5: 0.945, Coverage: 0.907, Size: 7.077\u001b[F"
          ]
        },
        {
          "output_type": "stream",
          "name": "stderr",
          "text": [
            "\r 20%|██        | 2/10 [00:01<00:07,  1.05it/s]"
          ]
        },
        {
          "output_type": "stream",
          "name": "stdout",
          "text": [
            "\n",
            "\tTop1: 0.786, Top5: 0.942, Coverage: 0.905, Size: 7.178\u001b[F"
          ]
        },
        {
          "output_type": "stream",
          "name": "stderr",
          "text": [
            "\r 30%|███       | 3/10 [00:02<00:06,  1.07it/s]"
          ]
        },
        {
          "output_type": "stream",
          "name": "stdout",
          "text": [
            "\n",
            "\tTop1: 0.781, Top5: 0.940, Coverage: 0.903, Size: 7.279\u001b[F"
          ]
        },
        {
          "output_type": "stream",
          "name": "stderr",
          "text": [
            "\r 40%|████      | 4/10 [00:03<00:05,  1.18it/s]"
          ]
        },
        {
          "output_type": "stream",
          "name": "stdout",
          "text": [
            "\n",
            "\tTop1: 0.786, Top5: 0.942, Coverage: 0.905, Size: 7.310\u001b[F"
          ]
        },
        {
          "output_type": "stream",
          "name": "stderr",
          "text": [
            "\r 50%|█████     | 5/10 [00:04<00:04,  1.19it/s]"
          ]
        },
        {
          "output_type": "stream",
          "name": "stdout",
          "text": [
            "\n",
            "\tTop1: 0.786, Top5: 0.940, Coverage: 0.903, Size: 7.279\u001b[F"
          ]
        },
        {
          "output_type": "stream",
          "name": "stderr",
          "text": [
            "\r 60%|██████    | 6/10 [00:05<00:03,  1.22it/s]"
          ]
        },
        {
          "output_type": "stream",
          "name": "stdout",
          "text": [
            "\n",
            "\tTop1: 0.788, Top5: 0.942, Coverage: 0.905, Size: 7.178\u001b[F"
          ]
        },
        {
          "output_type": "stream",
          "name": "stderr",
          "text": [
            "\r 70%|███████   | 7/10 [00:05<00:02,  1.24it/s]"
          ]
        },
        {
          "output_type": "stream",
          "name": "stdout",
          "text": [
            "\n",
            "\tTop1: 0.790, Top5: 0.944, Coverage: 0.903, Size: 7.077\u001b[F"
          ]
        },
        {
          "output_type": "stream",
          "name": "stderr",
          "text": [
            "\r 80%|████████  | 8/10 [00:06<00:01,  1.27it/s]"
          ]
        },
        {
          "output_type": "stream",
          "name": "stdout",
          "text": [
            "\n",
            "\tTop1: 0.790, Top5: 0.943, Coverage: 0.900, Size: 7.044\u001b[F"
          ]
        },
        {
          "output_type": "stream",
          "name": "stderr",
          "text": [
            "\r 90%|█████████ | 9/10 [00:07<00:00,  1.27it/s]"
          ]
        },
        {
          "output_type": "stream",
          "name": "stdout",
          "text": [
            "\n",
            "\tTop1: 0.790, Top5: 0.944, Coverage: 0.898, Size: 7.010\u001b[F"
          ]
        },
        {
          "output_type": "stream",
          "name": "stderr",
          "text": [
            "100%|██████████| 10/10 [00:08<00:00,  1.22it/s]"
          ]
        },
        {
          "output_type": "stream",
          "name": "stdout",
          "text": [
            "\n",
            "\tTop1: 0.790, Top5: 0.944, Coverage: 0.898, Size: 7.044\u001b[F\n",
            "Model: ResNet152 | Desired coverage: 0.9 | kreg: 50 | lambda: 0.05 \n"
          ]
        },
        {
          "output_type": "stream",
          "name": "stderr",
          "text": [
            "\n",
            " 10%|█         | 1/10 [00:00<00:07,  1.24it/s]"
          ]
        },
        {
          "output_type": "stream",
          "name": "stdout",
          "text": [
            "\n",
            "\tTop1: 0.781, Top5: 0.945, Coverage: 0.907, Size: 6.946\u001b[F"
          ]
        },
        {
          "output_type": "stream",
          "name": "stderr",
          "text": [
            "\r 20%|██        | 2/10 [00:01<00:05,  1.35it/s]"
          ]
        },
        {
          "output_type": "stream",
          "name": "stdout",
          "text": [
            "\n",
            "\tTop1: 0.786, Top5: 0.942, Coverage: 0.905, Size: 7.033\u001b[F"
          ]
        },
        {
          "output_type": "stream",
          "name": "stderr",
          "text": [
            "\r 30%|███       | 3/10 [00:02<00:05,  1.36it/s]"
          ]
        },
        {
          "output_type": "stream",
          "name": "stdout",
          "text": [
            "\n",
            "\tTop1: 0.781, Top5: 0.940, Coverage: 0.903, Size: 7.120\u001b[F"
          ]
        },
        {
          "output_type": "stream",
          "name": "stderr",
          "text": [
            "\r 40%|████      | 4/10 [00:02<00:04,  1.37it/s]"
          ]
        },
        {
          "output_type": "stream",
          "name": "stdout",
          "text": [
            "\n",
            "\tTop1: 0.786, Top5: 0.942, Coverage: 0.905, Size: 7.155\u001b[F"
          ]
        },
        {
          "output_type": "stream",
          "name": "stderr",
          "text": [
            "\r 50%|█████     | 5/10 [00:03<00:04,  1.23it/s]"
          ]
        },
        {
          "output_type": "stream",
          "name": "stdout",
          "text": [
            "\n",
            "\tTop1: 0.786, Top5: 0.940, Coverage: 0.903, Size: 7.120\u001b[F"
          ]
        },
        {
          "output_type": "stream",
          "name": "stderr",
          "text": [
            "\r 60%|██████    | 6/10 [00:04<00:03,  1.15it/s]"
          ]
        },
        {
          "output_type": "stream",
          "name": "stdout",
          "text": [
            "\n",
            "\tTop1: 0.788, Top5: 0.942, Coverage: 0.905, Size: 7.033\u001b[F"
          ]
        },
        {
          "output_type": "stream",
          "name": "stderr",
          "text": [
            "\r 70%|███████   | 7/10 [00:05<00:02,  1.10it/s]"
          ]
        },
        {
          "output_type": "stream",
          "name": "stdout",
          "text": [
            "\n",
            "\tTop1: 0.790, Top5: 0.944, Coverage: 0.903, Size: 6.946\u001b[F"
          ]
        },
        {
          "output_type": "stream",
          "name": "stderr",
          "text": [
            "\r 80%|████████  | 8/10 [00:06<00:01,  1.06it/s]"
          ]
        },
        {
          "output_type": "stream",
          "name": "stdout",
          "text": [
            "\n",
            "\tTop1: 0.790, Top5: 0.943, Coverage: 0.900, Size: 6.914\u001b[F"
          ]
        },
        {
          "output_type": "stream",
          "name": "stderr",
          "text": [
            "\r 90%|█████████ | 9/10 [00:07<00:00,  1.11it/s]"
          ]
        },
        {
          "output_type": "stream",
          "name": "stdout",
          "text": [
            "\n",
            "\tTop1: 0.790, Top5: 0.944, Coverage: 0.898, Size: 6.883\u001b[F"
          ]
        },
        {
          "output_type": "stream",
          "name": "stderr",
          "text": [
            "100%|██████████| 10/10 [00:08<00:00,  1.19it/s]"
          ]
        },
        {
          "output_type": "stream",
          "name": "stdout",
          "text": [
            "\n",
            "\tTop1: 0.790, Top5: 0.944, Coverage: 0.898, Size: 6.914\u001b[F\n",
            "Model: ResNet152 | Desired coverage: 0.9 | kreg: 50 | lambda: 0.2 \n"
          ]
        },
        {
          "output_type": "stream",
          "name": "stderr",
          "text": [
            "\n",
            " 10%|█         | 1/10 [00:00<00:07,  1.26it/s]"
          ]
        },
        {
          "output_type": "stream",
          "name": "stdout",
          "text": [
            "\n",
            "\tTop1: 0.781, Top5: 0.945, Coverage: 0.907, Size: 6.910\u001b[F"
          ]
        },
        {
          "output_type": "stream",
          "name": "stderr",
          "text": [
            "\r 20%|██        | 2/10 [00:01<00:05,  1.37it/s]"
          ]
        },
        {
          "output_type": "stream",
          "name": "stdout",
          "text": [
            "\n",
            "\tTop1: 0.786, Top5: 0.942, Coverage: 0.905, Size: 6.978\u001b[F"
          ]
        },
        {
          "output_type": "stream",
          "name": "stderr",
          "text": [
            "\r 30%|███       | 3/10 [00:02<00:05,  1.38it/s]"
          ]
        },
        {
          "output_type": "stream",
          "name": "stdout",
          "text": [
            "\n",
            "\tTop1: 0.781, Top5: 0.940, Coverage: 0.903, Size: 7.046\u001b[F"
          ]
        },
        {
          "output_type": "stream",
          "name": "stderr",
          "text": [
            "\r 40%|████      | 4/10 [00:02<00:04,  1.37it/s]"
          ]
        },
        {
          "output_type": "stream",
          "name": "stdout",
          "text": [
            "\n",
            "\tTop1: 0.786, Top5: 0.942, Coverage: 0.905, Size: 7.081\u001b[F"
          ]
        },
        {
          "output_type": "stream",
          "name": "stderr",
          "text": [
            "\r 50%|█████     | 5/10 [00:03<00:03,  1.32it/s]"
          ]
        },
        {
          "output_type": "stream",
          "name": "stdout",
          "text": [
            "\n",
            "\tTop1: 0.786, Top5: 0.940, Coverage: 0.903, Size: 7.046\u001b[F"
          ]
        },
        {
          "output_type": "stream",
          "name": "stderr",
          "text": [
            "\r 60%|██████    | 6/10 [00:04<00:03,  1.31it/s]"
          ]
        },
        {
          "output_type": "stream",
          "name": "stdout",
          "text": [
            "\n",
            "\tTop1: 0.788, Top5: 0.942, Coverage: 0.905, Size: 6.978\u001b[F"
          ]
        },
        {
          "output_type": "stream",
          "name": "stderr",
          "text": [
            "\r 70%|███████   | 7/10 [00:05<00:02,  1.31it/s]"
          ]
        },
        {
          "output_type": "stream",
          "name": "stdout",
          "text": [
            "\n",
            "\tTop1: 0.790, Top5: 0.944, Coverage: 0.903, Size: 6.910\u001b[F"
          ]
        },
        {
          "output_type": "stream",
          "name": "stderr",
          "text": [
            "\r 80%|████████  | 8/10 [00:06<00:01,  1.31it/s]"
          ]
        },
        {
          "output_type": "stream",
          "name": "stdout",
          "text": [
            "\n",
            "\tTop1: 0.790, Top5: 0.943, Coverage: 0.900, Size: 6.871\u001b[F"
          ]
        },
        {
          "output_type": "stream",
          "name": "stderr",
          "text": [
            "\r 90%|█████████ | 9/10 [00:06<00:00,  1.31it/s]"
          ]
        },
        {
          "output_type": "stream",
          "name": "stdout",
          "text": [
            "\n",
            "\tTop1: 0.790, Top5: 0.944, Coverage: 0.902, Size: 6.831\u001b[F"
          ]
        },
        {
          "output_type": "stream",
          "name": "stderr",
          "text": [
            "100%|██████████| 10/10 [00:07<00:00,  1.32it/s]"
          ]
        },
        {
          "output_type": "stream",
          "name": "stdout",
          "text": [
            "\n",
            "\tTop1: 0.790, Top5: 0.944, Coverage: 0.900, Size: 6.871\u001b[F\n",
            "Model: ResNet152 | Desired coverage: 0.9 | kreg: 50 | lambda: 0.5 \n"
          ]
        },
        {
          "output_type": "stream",
          "name": "stderr",
          "text": [
            "\n",
            " 10%|█         | 1/10 [00:01<00:10,  1.13s/it]"
          ]
        },
        {
          "output_type": "stream",
          "name": "stdout",
          "text": [
            "\n",
            "\tTop1: 0.781, Top5: 0.945, Coverage: 0.907, Size: 6.906\u001b[F"
          ]
        },
        {
          "output_type": "stream",
          "name": "stderr",
          "text": [
            "\r 20%|██        | 2/10 [00:02<00:07,  1.00it/s]"
          ]
        },
        {
          "output_type": "stream",
          "name": "stdout",
          "text": [
            "\n",
            "\tTop1: 0.786, Top5: 0.942, Coverage: 0.905, Size: 6.973\u001b[F"
          ]
        },
        {
          "output_type": "stream",
          "name": "stderr",
          "text": [
            "\r 30%|███       | 3/10 [00:02<00:06,  1.13it/s]"
          ]
        },
        {
          "output_type": "stream",
          "name": "stdout",
          "text": [
            "\n",
            "\tTop1: 0.781, Top5: 0.940, Coverage: 0.903, Size: 7.039\u001b[F"
          ]
        },
        {
          "output_type": "stream",
          "name": "stderr",
          "text": [
            "\r 40%|████      | 4/10 [00:03<00:04,  1.21it/s]"
          ]
        },
        {
          "output_type": "stream",
          "name": "stdout",
          "text": [
            "\n",
            "\tTop1: 0.786, Top5: 0.942, Coverage: 0.905, Size: 7.074\u001b[F"
          ]
        },
        {
          "output_type": "stream",
          "name": "stderr",
          "text": [
            "\r 50%|█████     | 5/10 [00:04<00:04,  1.22it/s]"
          ]
        },
        {
          "output_type": "stream",
          "name": "stdout",
          "text": [
            "\n",
            "\tTop1: 0.786, Top5: 0.940, Coverage: 0.903, Size: 7.039\u001b[F"
          ]
        },
        {
          "output_type": "stream",
          "name": "stderr",
          "text": [
            "\r 60%|██████    | 6/10 [00:05<00:03,  1.25it/s]"
          ]
        },
        {
          "output_type": "stream",
          "name": "stdout",
          "text": [
            "\n",
            "\tTop1: 0.788, Top5: 0.942, Coverage: 0.905, Size: 6.973\u001b[F"
          ]
        },
        {
          "output_type": "stream",
          "name": "stderr",
          "text": [
            "\r 70%|███████   | 7/10 [00:05<00:02,  1.27it/s]"
          ]
        },
        {
          "output_type": "stream",
          "name": "stdout",
          "text": [
            "\n",
            "\tTop1: 0.790, Top5: 0.944, Coverage: 0.903, Size: 6.906\u001b[F"
          ]
        },
        {
          "output_type": "stream",
          "name": "stderr",
          "text": [
            "\r 80%|████████  | 8/10 [00:06<00:01,  1.28it/s]"
          ]
        },
        {
          "output_type": "stream",
          "name": "stdout",
          "text": [
            "\n",
            "\tTop1: 0.790, Top5: 0.943, Coverage: 0.900, Size: 6.867\u001b[F"
          ]
        },
        {
          "output_type": "stream",
          "name": "stderr",
          "text": [
            "\r 90%|█████████ | 9/10 [00:07<00:00,  1.28it/s]"
          ]
        },
        {
          "output_type": "stream",
          "name": "stdout",
          "text": [
            "\n",
            "\tTop1: 0.790, Top5: 0.944, Coverage: 0.902, Size: 6.827\u001b[F"
          ]
        },
        {
          "output_type": "stream",
          "name": "stderr",
          "text": [
            "100%|██████████| 10/10 [00:08<00:00,  1.23it/s]"
          ]
        },
        {
          "output_type": "stream",
          "name": "stdout",
          "text": [
            "\n",
            "\tTop1: 0.790, Top5: 0.944, Coverage: 0.900, Size: 6.867\u001b[F\n",
            "Model: ResNet152 | Desired coverage: 0.9 | kreg: 50 | lambda: 0.7 \n"
          ]
        },
        {
          "output_type": "stream",
          "name": "stderr",
          "text": [
            "\n",
            " 10%|█         | 1/10 [00:00<00:07,  1.25it/s]"
          ]
        },
        {
          "output_type": "stream",
          "name": "stdout",
          "text": [
            "\n",
            "\tTop1: 0.781, Top5: 0.945, Coverage: 0.907, Size: 6.906\u001b[F"
          ]
        },
        {
          "output_type": "stream",
          "name": "stderr",
          "text": [
            "\r 20%|██        | 2/10 [00:01<00:05,  1.36it/s]"
          ]
        },
        {
          "output_type": "stream",
          "name": "stdout",
          "text": [
            "\n",
            "\tTop1: 0.786, Top5: 0.942, Coverage: 0.905, Size: 6.973\u001b[F"
          ]
        },
        {
          "output_type": "stream",
          "name": "stderr",
          "text": [
            "\r 30%|███       | 3/10 [00:02<00:05,  1.37it/s]"
          ]
        },
        {
          "output_type": "stream",
          "name": "stdout",
          "text": [
            "\n",
            "\tTop1: 0.781, Top5: 0.940, Coverage: 0.903, Size: 7.039\u001b[F"
          ]
        },
        {
          "output_type": "stream",
          "name": "stderr",
          "text": [
            "\r 40%|████      | 4/10 [00:03<00:04,  1.22it/s]"
          ]
        },
        {
          "output_type": "stream",
          "name": "stdout",
          "text": [
            "\n",
            "\tTop1: 0.786, Top5: 0.942, Coverage: 0.905, Size: 7.074\u001b[F"
          ]
        },
        {
          "output_type": "stream",
          "name": "stderr",
          "text": [
            "\r 50%|█████     | 5/10 [00:04<00:04,  1.10it/s]"
          ]
        },
        {
          "output_type": "stream",
          "name": "stdout",
          "text": [
            "\n",
            "\tTop1: 0.786, Top5: 0.940, Coverage: 0.903, Size: 7.039\u001b[F"
          ]
        },
        {
          "output_type": "stream",
          "name": "stderr",
          "text": [
            "\r 60%|██████    | 6/10 [00:05<00:03,  1.06it/s]"
          ]
        },
        {
          "output_type": "stream",
          "name": "stdout",
          "text": [
            "\n",
            "\tTop1: 0.788, Top5: 0.942, Coverage: 0.905, Size: 6.973\u001b[F"
          ]
        },
        {
          "output_type": "stream",
          "name": "stderr",
          "text": [
            "\r 70%|███████   | 7/10 [00:06<00:02,  1.06it/s]"
          ]
        },
        {
          "output_type": "stream",
          "name": "stdout",
          "text": [
            "\n",
            "\tTop1: 0.790, Top5: 0.944, Coverage: 0.903, Size: 6.906\u001b[F"
          ]
        },
        {
          "output_type": "stream",
          "name": "stderr",
          "text": [
            "\r 80%|████████  | 8/10 [00:06<00:01,  1.13it/s]"
          ]
        },
        {
          "output_type": "stream",
          "name": "stdout",
          "text": [
            "\n",
            "\tTop1: 0.790, Top5: 0.943, Coverage: 0.900, Size: 6.867\u001b[F"
          ]
        },
        {
          "output_type": "stream",
          "name": "stderr",
          "text": [
            "\r 90%|█████████ | 9/10 [00:07<00:00,  1.18it/s]"
          ]
        },
        {
          "output_type": "stream",
          "name": "stdout",
          "text": [
            "\n",
            "\tTop1: 0.790, Top5: 0.944, Coverage: 0.902, Size: 6.827\u001b[F"
          ]
        },
        {
          "output_type": "stream",
          "name": "stderr",
          "text": [
            "100%|██████████| 10/10 [00:08<00:00,  1.19it/s]"
          ]
        },
        {
          "output_type": "stream",
          "name": "stdout",
          "text": [
            "\n",
            "\tTop1: 0.790, Top5: 0.944, Coverage: 0.900, Size: 6.867\u001b[F\n",
            "Model: ResNet152 | Desired coverage: 0.9 | kreg: 50 | lambda: 1.0 \n"
          ]
        },
        {
          "output_type": "stream",
          "name": "stderr",
          "text": [
            "\n",
            " 10%|█         | 1/10 [00:00<00:07,  1.27it/s]"
          ]
        },
        {
          "output_type": "stream",
          "name": "stdout",
          "text": [
            "\n",
            "\tTop1: 0.781, Top5: 0.945, Coverage: 0.907, Size: 6.906\u001b[F"
          ]
        },
        {
          "output_type": "stream",
          "name": "stderr",
          "text": [
            "\r 20%|██        | 2/10 [00:01<00:05,  1.36it/s]"
          ]
        },
        {
          "output_type": "stream",
          "name": "stdout",
          "text": [
            "\n",
            "\tTop1: 0.786, Top5: 0.942, Coverage: 0.905, Size: 6.973\u001b[F"
          ]
        },
        {
          "output_type": "stream",
          "name": "stderr",
          "text": [
            "\r 30%|███       | 3/10 [00:02<00:05,  1.29it/s]"
          ]
        },
        {
          "output_type": "stream",
          "name": "stdout",
          "text": [
            "\n",
            "\tTop1: 0.781, Top5: 0.940, Coverage: 0.903, Size: 7.039\u001b[F"
          ]
        },
        {
          "output_type": "stream",
          "name": "stderr",
          "text": [
            "\r 40%|████      | 4/10 [00:03<00:04,  1.29it/s]"
          ]
        },
        {
          "output_type": "stream",
          "name": "stdout",
          "text": [
            "\n",
            "\tTop1: 0.786, Top5: 0.942, Coverage: 0.905, Size: 7.074\u001b[F"
          ]
        },
        {
          "output_type": "stream",
          "name": "stderr",
          "text": [
            "\r 50%|█████     | 5/10 [00:03<00:03,  1.26it/s]"
          ]
        },
        {
          "output_type": "stream",
          "name": "stdout",
          "text": [
            "\n",
            "\tTop1: 0.786, Top5: 0.940, Coverage: 0.903, Size: 7.039\u001b[F"
          ]
        },
        {
          "output_type": "stream",
          "name": "stderr",
          "text": [
            "\r 60%|██████    | 6/10 [00:04<00:03,  1.26it/s]"
          ]
        },
        {
          "output_type": "stream",
          "name": "stdout",
          "text": [
            "\n",
            "\tTop1: 0.788, Top5: 0.942, Coverage: 0.905, Size: 6.973\u001b[F"
          ]
        },
        {
          "output_type": "stream",
          "name": "stderr",
          "text": [
            "\r 70%|███████   | 7/10 [00:05<00:02,  1.27it/s]"
          ]
        },
        {
          "output_type": "stream",
          "name": "stdout",
          "text": [
            "\n",
            "\tTop1: 0.790, Top5: 0.944, Coverage: 0.903, Size: 6.906\u001b[F"
          ]
        },
        {
          "output_type": "stream",
          "name": "stderr",
          "text": [
            "\r 80%|████████  | 8/10 [00:06<00:01,  1.29it/s]"
          ]
        },
        {
          "output_type": "stream",
          "name": "stdout",
          "text": [
            "\n",
            "\tTop1: 0.790, Top5: 0.943, Coverage: 0.900, Size: 6.867\u001b[F"
          ]
        },
        {
          "output_type": "stream",
          "name": "stderr",
          "text": [
            "\r 90%|█████████ | 9/10 [00:07<00:00,  1.18it/s]"
          ]
        },
        {
          "output_type": "stream",
          "name": "stdout",
          "text": [
            "\n",
            "\tTop1: 0.790, Top5: 0.944, Coverage: 0.902, Size: 6.827\u001b[F"
          ]
        },
        {
          "output_type": "stream",
          "name": "stderr",
          "text": [
            "100%|██████████| 10/10 [00:08<00:00,  1.22it/s]"
          ]
        },
        {
          "output_type": "stream",
          "name": "stdout",
          "text": [
            "\n",
            "\tTop1: 0.790, Top5: 0.944, Coverage: 0.900, Size: 6.867\u001b[F\n"
          ]
        },
        {
          "output_type": "stream",
          "name": "stderr",
          "text": [
            "\n"
          ]
        }
      ]
    }
  ],
  "metadata": {
    "accelerator": "GPU",
    "colab": {
      "machine_shape": "hm",
      "provenance": []
    },
    "gpuClass": "premium",
    "kernelspec": {
      "display_name": "Python 3",
      "name": "python3"
    },
    "language_info": {
      "name": "python"
    }
  },
  "nbformat": 4,
  "nbformat_minor": 0
}